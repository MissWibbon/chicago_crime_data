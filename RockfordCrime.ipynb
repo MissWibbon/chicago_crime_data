{
 "nbformat": 4,
 "nbformat_minor": 2,
 "metadata": {
  "language_info": {
   "name": "python",
   "codemirror_mode": {
    "name": "ipython",
    "version": 3
   },
   "version": "3.8.0-final"
  },
  "orig_nbformat": 2,
  "file_extension": ".py",
  "mimetype": "text/x-python",
  "name": "python",
  "npconvert_exporter": "python",
  "pygments_lexer": "ipython3",
  "version": 3,
  "kernelspec": {
   "name": "python38032bit965647543a2f40fcb723ff0cb3e8a358",
   "display_name": "Python 3.8.0 32-bit"
  }
 },
 "cells": [
  {
   "cell_type": "code",
   "execution_count": 1,
   "metadata": {},
   "outputs": [],
   "source": [
    "#import dependencies\n",
    "import pandas as pd \n",
    "import scipy as scipy\n",
    "import numpy as np \n",
    "import matplotlib as plt"
   ]
  },
  {
   "cell_type": "code",
   "execution_count": 2,
   "metadata": {},
   "outputs": [
    {
     "output_type": "execute_result",
     "data": {
      "text/plain": "   Unnamed: 0          X          Y  Occurred Date  \\\n0           0 -89.124354  42.284104       20160125   \n1           1 -89.070417  42.254735       20160205   \n2           2 -89.042083  42.238147       20160209   \n3           3 -89.029085  42.241433       20160210   \n4           4 -89.029201  42.211097       20160206   \n\n                                      Description  year  \n0                        90C - Disorderly Conduct  2016  \n1                        90C - Disorderly Conduct  2016  \n2                            13B - Simple Assault  2016  \n3  290 - Destruction/Damage/Vandalism of Property  2016  \n4                         23H - All Other Larceny  2016  ",
      "text/html": "<div>\n<style scoped>\n    .dataframe tbody tr th:only-of-type {\n        vertical-align: middle;\n    }\n\n    .dataframe tbody tr th {\n        vertical-align: top;\n    }\n\n    .dataframe thead th {\n        text-align: right;\n    }\n</style>\n<table border=\"1\" class=\"dataframe\">\n  <thead>\n    <tr style=\"text-align: right;\">\n      <th></th>\n      <th>Unnamed: 0</th>\n      <th>X</th>\n      <th>Y</th>\n      <th>Occurred Date</th>\n      <th>Description</th>\n      <th>year</th>\n    </tr>\n  </thead>\n  <tbody>\n    <tr>\n      <th>0</th>\n      <td>0</td>\n      <td>-89.124354</td>\n      <td>42.284104</td>\n      <td>20160125</td>\n      <td>90C - Disorderly Conduct</td>\n      <td>2016</td>\n    </tr>\n    <tr>\n      <th>1</th>\n      <td>1</td>\n      <td>-89.070417</td>\n      <td>42.254735</td>\n      <td>20160205</td>\n      <td>90C - Disorderly Conduct</td>\n      <td>2016</td>\n    </tr>\n    <tr>\n      <th>2</th>\n      <td>2</td>\n      <td>-89.042083</td>\n      <td>42.238147</td>\n      <td>20160209</td>\n      <td>13B - Simple Assault</td>\n      <td>2016</td>\n    </tr>\n    <tr>\n      <th>3</th>\n      <td>3</td>\n      <td>-89.029085</td>\n      <td>42.241433</td>\n      <td>20160210</td>\n      <td>290 - Destruction/Damage/Vandalism of Property</td>\n      <td>2016</td>\n    </tr>\n    <tr>\n      <th>4</th>\n      <td>4</td>\n      <td>-89.029201</td>\n      <td>42.211097</td>\n      <td>20160206</td>\n      <td>23H - All Other Larceny</td>\n      <td>2016</td>\n    </tr>\n  </tbody>\n</table>\n</div>"
     },
     "metadata": {},
     "execution_count": 2
    }
   ],
   "source": [
    "rockford_data = pd.read_csv('Resources/Cleaned_Rockford.csv')\n",
    "rockford_data.head()"
   ]
  },
  {
   "cell_type": "code",
   "execution_count": 3,
   "metadata": {},
   "outputs": [
    {
     "output_type": "execute_result",
     "data": {
      "text/plain": "194128"
     },
     "metadata": {},
     "execution_count": 3
    }
   ],
   "source": [
    "trimmed_rockford = rockford_data.dropna()\n",
    "len(trimmed_rockford)"
   ]
  },
  {
   "cell_type": "code",
   "execution_count": 4,
   "metadata": {},
   "outputs": [
    {
     "output_type": "execute_result",
     "data": {
      "text/plain": "        Unnamed: 0          X          Y  Occurred Date  \\\n17069        17069 -89.071063  42.225996       20110404   \n15726        15726 -88.982039  42.272071       20110430   \n15725        15725 -88.995567  42.298990       20110430   \n15724        15724 -89.103151  42.294966       20110430   \n15723        15723 -89.103151  42.294966       20110430   \n...            ...        ...        ...            ...   \n190883      190883 -89.106702  42.281239       20200211   \n190882      190882 -89.106702  42.281239       20200211   \n190881      190881 -89.095103  42.271073       20200211   \n190887      190887 -89.092193  42.230485       20200213   \n190742      190742 -89.094258  42.272608       20200211   \n\n                                           Description  year  \n17069   290 - Destruction/Damage/Vandalism of Property  2011  \n15726   290 - Destruction/Damage/Vandalism of Property  2011  \n15725                             13B - Simple Assault  2011  \n15724                  35B - Drug Equipment Violations  2011  \n15723                   35A - Drug/narcotic Violations  2011  \n...                                                ...   ...  \n190883                        13A - Aggravated Assault  2020  \n190882                 90J - Trespass of Real Property  2020  \n190881                 90J - Trespass of Real Property  2020  \n190887                        90C - Disorderly Conduct  2020  \n190742                               23C - Shoplifting  2020  \n\n[194129 rows x 6 columns]",
      "text/html": "<div>\n<style scoped>\n    .dataframe tbody tr th:only-of-type {\n        vertical-align: middle;\n    }\n\n    .dataframe tbody tr th {\n        vertical-align: top;\n    }\n\n    .dataframe thead th {\n        text-align: right;\n    }\n</style>\n<table border=\"1\" class=\"dataframe\">\n  <thead>\n    <tr style=\"text-align: right;\">\n      <th></th>\n      <th>Unnamed: 0</th>\n      <th>X</th>\n      <th>Y</th>\n      <th>Occurred Date</th>\n      <th>Description</th>\n      <th>year</th>\n    </tr>\n  </thead>\n  <tbody>\n    <tr>\n      <th>17069</th>\n      <td>17069</td>\n      <td>-89.071063</td>\n      <td>42.225996</td>\n      <td>20110404</td>\n      <td>290 - Destruction/Damage/Vandalism of Property</td>\n      <td>2011</td>\n    </tr>\n    <tr>\n      <th>15726</th>\n      <td>15726</td>\n      <td>-88.982039</td>\n      <td>42.272071</td>\n      <td>20110430</td>\n      <td>290 - Destruction/Damage/Vandalism of Property</td>\n      <td>2011</td>\n    </tr>\n    <tr>\n      <th>15725</th>\n      <td>15725</td>\n      <td>-88.995567</td>\n      <td>42.298990</td>\n      <td>20110430</td>\n      <td>13B - Simple Assault</td>\n      <td>2011</td>\n    </tr>\n    <tr>\n      <th>15724</th>\n      <td>15724</td>\n      <td>-89.103151</td>\n      <td>42.294966</td>\n      <td>20110430</td>\n      <td>35B - Drug Equipment Violations</td>\n      <td>2011</td>\n    </tr>\n    <tr>\n      <th>15723</th>\n      <td>15723</td>\n      <td>-89.103151</td>\n      <td>42.294966</td>\n      <td>20110430</td>\n      <td>35A - Drug/narcotic Violations</td>\n      <td>2011</td>\n    </tr>\n    <tr>\n      <th>...</th>\n      <td>...</td>\n      <td>...</td>\n      <td>...</td>\n      <td>...</td>\n      <td>...</td>\n      <td>...</td>\n    </tr>\n    <tr>\n      <th>190883</th>\n      <td>190883</td>\n      <td>-89.106702</td>\n      <td>42.281239</td>\n      <td>20200211</td>\n      <td>13A - Aggravated Assault</td>\n      <td>2020</td>\n    </tr>\n    <tr>\n      <th>190882</th>\n      <td>190882</td>\n      <td>-89.106702</td>\n      <td>42.281239</td>\n      <td>20200211</td>\n      <td>90J - Trespass of Real Property</td>\n      <td>2020</td>\n    </tr>\n    <tr>\n      <th>190881</th>\n      <td>190881</td>\n      <td>-89.095103</td>\n      <td>42.271073</td>\n      <td>20200211</td>\n      <td>90J - Trespass of Real Property</td>\n      <td>2020</td>\n    </tr>\n    <tr>\n      <th>190887</th>\n      <td>190887</td>\n      <td>-89.092193</td>\n      <td>42.230485</td>\n      <td>20200213</td>\n      <td>90C - Disorderly Conduct</td>\n      <td>2020</td>\n    </tr>\n    <tr>\n      <th>190742</th>\n      <td>190742</td>\n      <td>-89.094258</td>\n      <td>42.272608</td>\n      <td>20200211</td>\n      <td>23C - Shoplifting</td>\n      <td>2020</td>\n    </tr>\n  </tbody>\n</table>\n<p>194129 rows × 6 columns</p>\n</div>"
     },
     "metadata": {},
     "execution_count": 4
    }
   ],
   "source": [
    "rockford_data.sort_values(by=[\"year\"], inplace = True)\n",
    "rockford_data"
   ]
  },
  {
   "cell_type": "code",
   "execution_count": 5,
   "metadata": {},
   "outputs": [
    {
     "output_type": "execute_result",
     "data": {
      "text/plain": "                                          Description  year  Occurred Date  \\\n17069  290 - Destruction/Damage/Vandalism of Property  2011       20110404   \n15726  290 - Destruction/Damage/Vandalism of Property  2011       20110430   \n15725                            13B - Simple Assault  2011       20110430   \n15724                 35B - Drug Equipment Violations  2011       20110430   \n15723                  35A - Drug/narcotic Violations  2011       20110430   \n\n               X          Y  \n17069 -89.071063  42.225996  \n15726 -88.982039  42.272071  \n15725 -88.995567  42.298990  \n15724 -89.103151  42.294966  \n15723 -89.103151  42.294966  ",
      "text/html": "<div>\n<style scoped>\n    .dataframe tbody tr th:only-of-type {\n        vertical-align: middle;\n    }\n\n    .dataframe tbody tr th {\n        vertical-align: top;\n    }\n\n    .dataframe thead th {\n        text-align: right;\n    }\n</style>\n<table border=\"1\" class=\"dataframe\">\n  <thead>\n    <tr style=\"text-align: right;\">\n      <th></th>\n      <th>Description</th>\n      <th>year</th>\n      <th>Occurred Date</th>\n      <th>X</th>\n      <th>Y</th>\n    </tr>\n  </thead>\n  <tbody>\n    <tr>\n      <th>17069</th>\n      <td>290 - Destruction/Damage/Vandalism of Property</td>\n      <td>2011</td>\n      <td>20110404</td>\n      <td>-89.071063</td>\n      <td>42.225996</td>\n    </tr>\n    <tr>\n      <th>15726</th>\n      <td>290 - Destruction/Damage/Vandalism of Property</td>\n      <td>2011</td>\n      <td>20110430</td>\n      <td>-88.982039</td>\n      <td>42.272071</td>\n    </tr>\n    <tr>\n      <th>15725</th>\n      <td>13B - Simple Assault</td>\n      <td>2011</td>\n      <td>20110430</td>\n      <td>-88.995567</td>\n      <td>42.298990</td>\n    </tr>\n    <tr>\n      <th>15724</th>\n      <td>35B - Drug Equipment Violations</td>\n      <td>2011</td>\n      <td>20110430</td>\n      <td>-89.103151</td>\n      <td>42.294966</td>\n    </tr>\n    <tr>\n      <th>15723</th>\n      <td>35A - Drug/narcotic Violations</td>\n      <td>2011</td>\n      <td>20110430</td>\n      <td>-89.103151</td>\n      <td>42.294966</td>\n    </tr>\n  </tbody>\n</table>\n</div>"
     },
     "metadata": {},
     "execution_count": 5
    }
   ],
   "source": [
    "cleaned_rockford = rockford_data[['Description', 'year', 'Occurred Date', 'X', 'Y']]\n",
    "cleaned_rockford.head()"
   ]
  },
  {
   "cell_type": "code",
   "execution_count": 6,
   "metadata": {},
   "outputs": [],
   "source": [
    "cleaned_rockford.rename(columns={\"Description\": \"Crime\"}, inplace = True)"
   ]
  },
  {
   "cell_type": "code",
   "execution_count": 7,
   "metadata": {},
   "outputs": [
    {
     "output_type": "execute_result",
     "data": {
      "text/plain": "                                                 Crime  year  Occurred Date  \\\n17069   290 - Destruction/Damage/Vandalism of Property  2011       20110404   \n15726   290 - Destruction/Damage/Vandalism of Property  2011       20110430   \n15725                             13B - Simple Assault  2011       20110430   \n15724                  35B - Drug Equipment Violations  2011       20110430   \n15723                   35A - Drug/narcotic Violations  2011       20110430   \n...                                                ...   ...            ...   \n190883                        13A - Aggravated Assault  2020       20200211   \n190882                 90J - Trespass of Real Property  2020       20200211   \n190881                 90J - Trespass of Real Property  2020       20200211   \n190887                        90C - Disorderly Conduct  2020       20200213   \n190742                               23C - Shoplifting  2020       20200211   \n\n                X          Y  \n17069  -89.071063  42.225996  \n15726  -88.982039  42.272071  \n15725  -88.995567  42.298990  \n15724  -89.103151  42.294966  \n15723  -89.103151  42.294966  \n...           ...        ...  \n190883 -89.106702  42.281239  \n190882 -89.106702  42.281239  \n190881 -89.095103  42.271073  \n190887 -89.092193  42.230485  \n190742 -89.094258  42.272608  \n\n[194129 rows x 5 columns]",
      "text/html": "<div>\n<style scoped>\n    .dataframe tbody tr th:only-of-type {\n        vertical-align: middle;\n    }\n\n    .dataframe tbody tr th {\n        vertical-align: top;\n    }\n\n    .dataframe thead th {\n        text-align: right;\n    }\n</style>\n<table border=\"1\" class=\"dataframe\">\n  <thead>\n    <tr style=\"text-align: right;\">\n      <th></th>\n      <th>Crime</th>\n      <th>year</th>\n      <th>Occurred Date</th>\n      <th>X</th>\n      <th>Y</th>\n    </tr>\n  </thead>\n  <tbody>\n    <tr>\n      <th>17069</th>\n      <td>290 - Destruction/Damage/Vandalism of Property</td>\n      <td>2011</td>\n      <td>20110404</td>\n      <td>-89.071063</td>\n      <td>42.225996</td>\n    </tr>\n    <tr>\n      <th>15726</th>\n      <td>290 - Destruction/Damage/Vandalism of Property</td>\n      <td>2011</td>\n      <td>20110430</td>\n      <td>-88.982039</td>\n      <td>42.272071</td>\n    </tr>\n    <tr>\n      <th>15725</th>\n      <td>13B - Simple Assault</td>\n      <td>2011</td>\n      <td>20110430</td>\n      <td>-88.995567</td>\n      <td>42.298990</td>\n    </tr>\n    <tr>\n      <th>15724</th>\n      <td>35B - Drug Equipment Violations</td>\n      <td>2011</td>\n      <td>20110430</td>\n      <td>-89.103151</td>\n      <td>42.294966</td>\n    </tr>\n    <tr>\n      <th>15723</th>\n      <td>35A - Drug/narcotic Violations</td>\n      <td>2011</td>\n      <td>20110430</td>\n      <td>-89.103151</td>\n      <td>42.294966</td>\n    </tr>\n    <tr>\n      <th>...</th>\n      <td>...</td>\n      <td>...</td>\n      <td>...</td>\n      <td>...</td>\n      <td>...</td>\n    </tr>\n    <tr>\n      <th>190883</th>\n      <td>13A - Aggravated Assault</td>\n      <td>2020</td>\n      <td>20200211</td>\n      <td>-89.106702</td>\n      <td>42.281239</td>\n    </tr>\n    <tr>\n      <th>190882</th>\n      <td>90J - Trespass of Real Property</td>\n      <td>2020</td>\n      <td>20200211</td>\n      <td>-89.106702</td>\n      <td>42.281239</td>\n    </tr>\n    <tr>\n      <th>190881</th>\n      <td>90J - Trespass of Real Property</td>\n      <td>2020</td>\n      <td>20200211</td>\n      <td>-89.095103</td>\n      <td>42.271073</td>\n    </tr>\n    <tr>\n      <th>190887</th>\n      <td>90C - Disorderly Conduct</td>\n      <td>2020</td>\n      <td>20200213</td>\n      <td>-89.092193</td>\n      <td>42.230485</td>\n    </tr>\n    <tr>\n      <th>190742</th>\n      <td>23C - Shoplifting</td>\n      <td>2020</td>\n      <td>20200211</td>\n      <td>-89.094258</td>\n      <td>42.272608</td>\n    </tr>\n  </tbody>\n</table>\n<p>194129 rows × 5 columns</p>\n</div>"
     },
     "metadata": {},
     "execution_count": 7
    }
   ],
   "source": [
    "cleaned_rockford"
   ]
  },
  {
   "cell_type": "code",
   "execution_count": null,
   "metadata": {},
   "outputs": [],
   "source": []
  }
 ]
}