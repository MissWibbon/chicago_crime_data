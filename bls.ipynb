{
 "nbformat": 4,
 "nbformat_minor": 2,
 "metadata": {
  "language_info": {
   "name": "python",
   "codemirror_mode": {
    "name": "ipython",
    "version": 3
   },
   "version": "3.8.0-final"
  },
  "orig_nbformat": 2,
  "file_extension": ".py",
  "mimetype": "text/x-python",
  "name": "python",
  "npconvert_exporter": "python",
  "pygments_lexer": "ipython3",
  "version": 3,
  "kernelspec": {
   "name": "python38032bit965647543a2f40fcb723ff0cb3e8a358",
   "display_name": "Python 3.8.0 32-bit"
  }
 },
 "cells": [
  {
   "cell_type": "code",
   "execution_count": 6,
   "metadata": {},
   "outputs": [
    {
     "output_type": "execute_result",
     "data": {
      "text/plain": "    Year  Jan  Feb  Mar  Apr  May  Jun  Jul  Aug  Sep  Oct  Nov  Dec\n0   2010  9.8  9.8  9.9  9.9  9.6  9.4  9.4  9.5  9.5  9.4  9.8  9.3\n1   2011  9.1  9.0  9.0  9.1  9.0  9.1  9.0  9.0  9.0  8.8  8.6  8.5\n2   2012  8.3  8.3  8.2  8.2  8.2  8.2  8.2  8.1  7.8  7.8  7.7  7.9\n3   2013  8.0  7.7  7.5  7.6  7.5  7.5  7.3  7.2  7.2  7.2  6.9  6.7\n4   2014  6.6  6.7  6.7  6.2  6.3  6.1  6.2  6.1  5.9  5.7  5.8  5.6\n5   2015  5.7  5.5  5.4  5.4  5.6  5.3  5.2  5.1  5.0  5.0  5.1  5.0\n6   2016  4.9  4.9  5.0  5.0  4.8  4.9  4.8  4.9  5.0  4.9  4.7  4.7\n7   2017  4.7  4.6  4.4  4.4  4.4  4.3  4.3  4.4  4.2  4.1  4.2  4.1\n8   2018  4.1  4.1  4.0  4.0  3.8  4.0  3.8  3.8  3.7  3.8  3.7  3.9\n9   2019  4.0  3.8  3.8  3.6  3.6  3.7  3.7  3.7  3.5  3.6  3.5  3.5\n10  2020  3.6  3.5  4.4  NaN  NaN  NaN  NaN  NaN  NaN  NaN  NaN  NaN",
      "text/html": "<div>\n<style scoped>\n    .dataframe tbody tr th:only-of-type {\n        vertical-align: middle;\n    }\n\n    .dataframe tbody tr th {\n        vertical-align: top;\n    }\n\n    .dataframe thead th {\n        text-align: right;\n    }\n</style>\n<table border=\"1\" class=\"dataframe\">\n  <thead>\n    <tr style=\"text-align: right;\">\n      <th></th>\n      <th>Year</th>\n      <th>Jan</th>\n      <th>Feb</th>\n      <th>Mar</th>\n      <th>Apr</th>\n      <th>May</th>\n      <th>Jun</th>\n      <th>Jul</th>\n      <th>Aug</th>\n      <th>Sep</th>\n      <th>Oct</th>\n      <th>Nov</th>\n      <th>Dec</th>\n    </tr>\n  </thead>\n  <tbody>\n    <tr>\n      <th>0</th>\n      <td>2010</td>\n      <td>9.8</td>\n      <td>9.8</td>\n      <td>9.9</td>\n      <td>9.9</td>\n      <td>9.6</td>\n      <td>9.4</td>\n      <td>9.4</td>\n      <td>9.5</td>\n      <td>9.5</td>\n      <td>9.4</td>\n      <td>9.8</td>\n      <td>9.3</td>\n    </tr>\n    <tr>\n      <th>1</th>\n      <td>2011</td>\n      <td>9.1</td>\n      <td>9.0</td>\n      <td>9.0</td>\n      <td>9.1</td>\n      <td>9.0</td>\n      <td>9.1</td>\n      <td>9.0</td>\n      <td>9.0</td>\n      <td>9.0</td>\n      <td>8.8</td>\n      <td>8.6</td>\n      <td>8.5</td>\n    </tr>\n    <tr>\n      <th>2</th>\n      <td>2012</td>\n      <td>8.3</td>\n      <td>8.3</td>\n      <td>8.2</td>\n      <td>8.2</td>\n      <td>8.2</td>\n      <td>8.2</td>\n      <td>8.2</td>\n      <td>8.1</td>\n      <td>7.8</td>\n      <td>7.8</td>\n      <td>7.7</td>\n      <td>7.9</td>\n    </tr>\n    <tr>\n      <th>3</th>\n      <td>2013</td>\n      <td>8.0</td>\n      <td>7.7</td>\n      <td>7.5</td>\n      <td>7.6</td>\n      <td>7.5</td>\n      <td>7.5</td>\n      <td>7.3</td>\n      <td>7.2</td>\n      <td>7.2</td>\n      <td>7.2</td>\n      <td>6.9</td>\n      <td>6.7</td>\n    </tr>\n    <tr>\n      <th>4</th>\n      <td>2014</td>\n      <td>6.6</td>\n      <td>6.7</td>\n      <td>6.7</td>\n      <td>6.2</td>\n      <td>6.3</td>\n      <td>6.1</td>\n      <td>6.2</td>\n      <td>6.1</td>\n      <td>5.9</td>\n      <td>5.7</td>\n      <td>5.8</td>\n      <td>5.6</td>\n    </tr>\n    <tr>\n      <th>5</th>\n      <td>2015</td>\n      <td>5.7</td>\n      <td>5.5</td>\n      <td>5.4</td>\n      <td>5.4</td>\n      <td>5.6</td>\n      <td>5.3</td>\n      <td>5.2</td>\n      <td>5.1</td>\n      <td>5.0</td>\n      <td>5.0</td>\n      <td>5.1</td>\n      <td>5.0</td>\n    </tr>\n    <tr>\n      <th>6</th>\n      <td>2016</td>\n      <td>4.9</td>\n      <td>4.9</td>\n      <td>5.0</td>\n      <td>5.0</td>\n      <td>4.8</td>\n      <td>4.9</td>\n      <td>4.8</td>\n      <td>4.9</td>\n      <td>5.0</td>\n      <td>4.9</td>\n      <td>4.7</td>\n      <td>4.7</td>\n    </tr>\n    <tr>\n      <th>7</th>\n      <td>2017</td>\n      <td>4.7</td>\n      <td>4.6</td>\n      <td>4.4</td>\n      <td>4.4</td>\n      <td>4.4</td>\n      <td>4.3</td>\n      <td>4.3</td>\n      <td>4.4</td>\n      <td>4.2</td>\n      <td>4.1</td>\n      <td>4.2</td>\n      <td>4.1</td>\n    </tr>\n    <tr>\n      <th>8</th>\n      <td>2018</td>\n      <td>4.1</td>\n      <td>4.1</td>\n      <td>4.0</td>\n      <td>4.0</td>\n      <td>3.8</td>\n      <td>4.0</td>\n      <td>3.8</td>\n      <td>3.8</td>\n      <td>3.7</td>\n      <td>3.8</td>\n      <td>3.7</td>\n      <td>3.9</td>\n    </tr>\n    <tr>\n      <th>9</th>\n      <td>2019</td>\n      <td>4.0</td>\n      <td>3.8</td>\n      <td>3.8</td>\n      <td>3.6</td>\n      <td>3.6</td>\n      <td>3.7</td>\n      <td>3.7</td>\n      <td>3.7</td>\n      <td>3.5</td>\n      <td>3.6</td>\n      <td>3.5</td>\n      <td>3.5</td>\n    </tr>\n    <tr>\n      <th>10</th>\n      <td>2020</td>\n      <td>3.6</td>\n      <td>3.5</td>\n      <td>4.4</td>\n      <td>NaN</td>\n      <td>NaN</td>\n      <td>NaN</td>\n      <td>NaN</td>\n      <td>NaN</td>\n      <td>NaN</td>\n      <td>NaN</td>\n      <td>NaN</td>\n      <td>NaN</td>\n    </tr>\n  </tbody>\n</table>\n</div>"
     },
     "metadata": {},
     "execution_count": 6
    }
   ],
   "source": [
    "# Dependencies and Setup\n",
    "import matplotlib.pyplot as plt\n",
    "import pandas as pd\n",
    "import numpy as np\n",
    "import requests\n",
    "import gmaps\n",
    "import os\n",
    "\n",
    "# Google developer API key\n",
    "from config import gkey\n",
    "\n",
    "# Configure gmaps\n",
    "gmaps.configure(api_key=gkey)\n",
    "\n",
    "us_unemployment_df = pd.read_csv('./Resources/usa_unemployment-rate.csv')\n",
    "us_unemployment_df\n",
    ""
   ]
  },
  {
   "cell_type": "code",
   "execution_count": null,
   "metadata": {},
   "outputs": [],
   "source": []
  }
 ]
}