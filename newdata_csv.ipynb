{
 "cells": [
  {
   "cell_type": "code",
   "execution_count": 63,
   "metadata": {},
   "outputs": [],
   "source": [
    "#import dependencies\n",
    "import pandas as pd \n",
    "import scipy as scipy\n",
    "import numpy as np \n",
    "import matplotlib.pyplot as plt\n",
    "import datetime\n",
    "from scipy.stats import linregress"
   ]
  },
  {
   "cell_type": "code",
   "execution_count": 64,
   "metadata": {
    "scrolled": true
   },
   "outputs": [],
   "source": [
    "new_data = pd.read_csv('Resources/Chicago_crimes.csv')"
   ]
  },
  {
   "cell_type": "code",
   "execution_count": 65,
   "metadata": {},
   "outputs": [
    {
     "data": {
      "text/plain": [
       "977130"
      ]
     },
     "execution_count": 65,
     "metadata": {},
     "output_type": "execute_result"
    }
   ],
   "source": [
    "trimmed = new_data.dropna()\n",
    "len(trimmed)"
   ]
  },
  {
   "cell_type": "code",
   "execution_count": 66,
   "metadata": {},
   "outputs": [
    {
     "name": "stderr",
     "output_type": "stream",
     "text": [
      "C:\\Users\\wuebb\\Anaconda3\\lib\\site-packages\\ipykernel_launcher.py:1: SettingWithCopyWarning: \n",
      "A value is trying to be set on a copy of a slice from a DataFrame\n",
      "\n",
      "See the caveats in the documentation: http://pandas.pydata.org/pandas-docs/stable/user_guide/indexing.html#returning-a-view-versus-a-copy\n",
      "  \"\"\"Entry point for launching an IPython kernel.\n"
     ]
    },
    {
     "data": {
      "text/html": [
       "<div>\n",
       "<style scoped>\n",
       "    .dataframe tbody tr th:only-of-type {\n",
       "        vertical-align: middle;\n",
       "    }\n",
       "\n",
       "    .dataframe tbody tr th {\n",
       "        vertical-align: top;\n",
       "    }\n",
       "\n",
       "    .dataframe thead th {\n",
       "        text-align: right;\n",
       "    }\n",
       "</style>\n",
       "<table border=\"1\" class=\"dataframe\">\n",
       "  <thead>\n",
       "    <tr style=\"text-align: right;\">\n",
       "      <th></th>\n",
       "      <th>Primary Type</th>\n",
       "      <th>Description</th>\n",
       "      <th>Location Description</th>\n",
       "      <th>Arrest</th>\n",
       "      <th>Domestic</th>\n",
       "      <th>Beat</th>\n",
       "      <th>District</th>\n",
       "      <th>Ward</th>\n",
       "      <th>Community Area</th>\n",
       "      <th>Year</th>\n",
       "      <th>Latitude</th>\n",
       "      <th>Longitude</th>\n",
       "      <th>Location</th>\n",
       "      <th>Date</th>\n",
       "    </tr>\n",
       "  </thead>\n",
       "  <tbody>\n",
       "    <tr>\n",
       "      <td>282677</td>\n",
       "      <td>ROBBERY</td>\n",
       "      <td>STRONG ARM - NO WEAPON</td>\n",
       "      <td>CHA PARKING LOT / GROUNDS</td>\n",
       "      <td>False</td>\n",
       "      <td>False</td>\n",
       "      <td>215</td>\n",
       "      <td>2.0</td>\n",
       "      <td>3.0</td>\n",
       "      <td>38.0</td>\n",
       "      <td>2001</td>\n",
       "      <td>41.815670</td>\n",
       "      <td>-87.626402</td>\n",
       "      <td>(41.815669549, -87.626402198)</td>\n",
       "      <td>3/15/2001 10:55</td>\n",
       "    </tr>\n",
       "    <tr>\n",
       "      <td>519941</td>\n",
       "      <td>HOMICIDE</td>\n",
       "      <td>FIRST DEGREE MURDER</td>\n",
       "      <td>STREET</td>\n",
       "      <td>True</td>\n",
       "      <td>False</td>\n",
       "      <td>1122</td>\n",
       "      <td>11.0</td>\n",
       "      <td>27.0</td>\n",
       "      <td>23.0</td>\n",
       "      <td>2001</td>\n",
       "      <td>41.889896</td>\n",
       "      <td>-87.722564</td>\n",
       "      <td>(41.889896295, -87.722564425)</td>\n",
       "      <td>8/29/2001 15:45</td>\n",
       "    </tr>\n",
       "    <tr>\n",
       "      <td>733830</td>\n",
       "      <td>HOMICIDE</td>\n",
       "      <td>FIRST DEGREE MURDER</td>\n",
       "      <td>PARK PROPERTY</td>\n",
       "      <td>True</td>\n",
       "      <td>False</td>\n",
       "      <td>1423</td>\n",
       "      <td>14.0</td>\n",
       "      <td>26.0</td>\n",
       "      <td>24.0</td>\n",
       "      <td>2001</td>\n",
       "      <td>41.903162</td>\n",
       "      <td>-87.696886</td>\n",
       "      <td>(41.903162458, -87.696885733)</td>\n",
       "      <td>9/11/2001 19:40</td>\n",
       "    </tr>\n",
       "    <tr>\n",
       "      <td>241086</td>\n",
       "      <td>OFFENSE INVOLVING CHILDREN</td>\n",
       "      <td>AGGRAVATED SEXUAL ASSAULT OF CHILD BY FAMILY M...</td>\n",
       "      <td>APARTMENT</td>\n",
       "      <td>False</td>\n",
       "      <td>False</td>\n",
       "      <td>913</td>\n",
       "      <td>9.0</td>\n",
       "      <td>11.0</td>\n",
       "      <td>60.0</td>\n",
       "      <td>2001</td>\n",
       "      <td>41.839771</td>\n",
       "      <td>-87.646468</td>\n",
       "      <td>(41.839770706, -87.646467578)</td>\n",
       "      <td>5/27/2001 3:00</td>\n",
       "    </tr>\n",
       "    <tr>\n",
       "      <td>328456</td>\n",
       "      <td>HOMICIDE</td>\n",
       "      <td>FIRST DEGREE MURDER</td>\n",
       "      <td>AUTO</td>\n",
       "      <td>True</td>\n",
       "      <td>False</td>\n",
       "      <td>1222</td>\n",
       "      <td>12.0</td>\n",
       "      <td>25.0</td>\n",
       "      <td>31.0</td>\n",
       "      <td>2001</td>\n",
       "      <td>41.856268</td>\n",
       "      <td>-87.656375</td>\n",
       "      <td>(41.85626764, -87.656374568)</td>\n",
       "      <td>8/12/2001 4:35</td>\n",
       "    </tr>\n",
       "    <tr>\n",
       "      <td>...</td>\n",
       "      <td>...</td>\n",
       "      <td>...</td>\n",
       "      <td>...</td>\n",
       "      <td>...</td>\n",
       "      <td>...</td>\n",
       "      <td>...</td>\n",
       "      <td>...</td>\n",
       "      <td>...</td>\n",
       "      <td>...</td>\n",
       "      <td>...</td>\n",
       "      <td>...</td>\n",
       "      <td>...</td>\n",
       "      <td>...</td>\n",
       "      <td>...</td>\n",
       "    </tr>\n",
       "    <tr>\n",
       "      <td>255223</td>\n",
       "      <td>ASSAULT</td>\n",
       "      <td>SIMPLE</td>\n",
       "      <td>PARKING LOT/GARAGE(NON.RESID.)</td>\n",
       "      <td>True</td>\n",
       "      <td>False</td>\n",
       "      <td>1731</td>\n",
       "      <td>17.0</td>\n",
       "      <td>30.0</td>\n",
       "      <td>16.0</td>\n",
       "      <td>2020</td>\n",
       "      <td>41.939081</td>\n",
       "      <td>-87.728277</td>\n",
       "      <td>(41.939081232, -87.728277456)</td>\n",
       "      <td>2/1/2020 15:16</td>\n",
       "    </tr>\n",
       "    <tr>\n",
       "      <td>255225</td>\n",
       "      <td>MOTOR VEHICLE THEFT</td>\n",
       "      <td>AUTOMOBILE</td>\n",
       "      <td>STREET</td>\n",
       "      <td>False</td>\n",
       "      <td>False</td>\n",
       "      <td>1513</td>\n",
       "      <td>15.0</td>\n",
       "      <td>29.0</td>\n",
       "      <td>25.0</td>\n",
       "      <td>2020</td>\n",
       "      <td>41.882210</td>\n",
       "      <td>-87.767064</td>\n",
       "      <td>(41.882209936, -87.767064116)</td>\n",
       "      <td>2/1/2020 22:00</td>\n",
       "    </tr>\n",
       "    <tr>\n",
       "      <td>255226</td>\n",
       "      <td>BATTERY</td>\n",
       "      <td>DOMESTIC BATTERY SIMPLE</td>\n",
       "      <td>APARTMENT</td>\n",
       "      <td>False</td>\n",
       "      <td>True</td>\n",
       "      <td>922</td>\n",
       "      <td>9.0</td>\n",
       "      <td>15.0</td>\n",
       "      <td>58.0</td>\n",
       "      <td>2020</td>\n",
       "      <td>41.811111</td>\n",
       "      <td>-87.687894</td>\n",
       "      <td>(41.811111038, -87.687893773)</td>\n",
       "      <td>2/1/2020 22:30</td>\n",
       "    </tr>\n",
       "    <tr>\n",
       "      <td>255214</td>\n",
       "      <td>ROBBERY</td>\n",
       "      <td>ARMED: HANDGUN</td>\n",
       "      <td>STREET</td>\n",
       "      <td>True</td>\n",
       "      <td>False</td>\n",
       "      <td>2513</td>\n",
       "      <td>25.0</td>\n",
       "      <td>29.0</td>\n",
       "      <td>25.0</td>\n",
       "      <td>2020</td>\n",
       "      <td>41.910031</td>\n",
       "      <td>-87.783369</td>\n",
       "      <td>(41.91003074, -87.783368829)</td>\n",
       "      <td>2/1/2020 18:10</td>\n",
       "    </tr>\n",
       "    <tr>\n",
       "      <td>251477</td>\n",
       "      <td>PUBLIC PEACE VIOLATION</td>\n",
       "      <td>ARSON THREAT</td>\n",
       "      <td>OTHER</td>\n",
       "      <td>False</td>\n",
       "      <td>False</td>\n",
       "      <td>1712</td>\n",
       "      <td>17.0</td>\n",
       "      <td>39.0</td>\n",
       "      <td>14.0</td>\n",
       "      <td>2020</td>\n",
       "      <td>41.969143</td>\n",
       "      <td>-87.728056</td>\n",
       "      <td>(41.969142924, -87.72805557)</td>\n",
       "      <td>1/26/2020 9:00</td>\n",
       "    </tr>\n",
       "  </tbody>\n",
       "</table>\n",
       "<p>977130 rows × 14 columns</p>\n",
       "</div>"
      ],
      "text/plain": [
       "                      Primary Type  \\\n",
       "282677                     ROBBERY   \n",
       "519941                    HOMICIDE   \n",
       "733830                    HOMICIDE   \n",
       "241086  OFFENSE INVOLVING CHILDREN   \n",
       "328456                    HOMICIDE   \n",
       "...                            ...   \n",
       "255223                     ASSAULT   \n",
       "255225         MOTOR VEHICLE THEFT   \n",
       "255226                     BATTERY   \n",
       "255214                     ROBBERY   \n",
       "251477      PUBLIC PEACE VIOLATION   \n",
       "\n",
       "                                              Description  \\\n",
       "282677                             STRONG ARM - NO WEAPON   \n",
       "519941                                FIRST DEGREE MURDER   \n",
       "733830                                FIRST DEGREE MURDER   \n",
       "241086  AGGRAVATED SEXUAL ASSAULT OF CHILD BY FAMILY M...   \n",
       "328456                                FIRST DEGREE MURDER   \n",
       "...                                                   ...   \n",
       "255223                                             SIMPLE   \n",
       "255225                                         AUTOMOBILE   \n",
       "255226                            DOMESTIC BATTERY SIMPLE   \n",
       "255214                                     ARMED: HANDGUN   \n",
       "251477                                       ARSON THREAT   \n",
       "\n",
       "                  Location Description  Arrest  Domestic  Beat  District  \\\n",
       "282677       CHA PARKING LOT / GROUNDS   False     False   215       2.0   \n",
       "519941                          STREET    True     False  1122      11.0   \n",
       "733830                   PARK PROPERTY    True     False  1423      14.0   \n",
       "241086                       APARTMENT   False     False   913       9.0   \n",
       "328456                            AUTO    True     False  1222      12.0   \n",
       "...                                ...     ...       ...   ...       ...   \n",
       "255223  PARKING LOT/GARAGE(NON.RESID.)    True     False  1731      17.0   \n",
       "255225                          STREET   False     False  1513      15.0   \n",
       "255226                       APARTMENT   False      True   922       9.0   \n",
       "255214                          STREET    True     False  2513      25.0   \n",
       "251477                           OTHER   False     False  1712      17.0   \n",
       "\n",
       "        Ward  Community Area  Year   Latitude  Longitude  \\\n",
       "282677   3.0            38.0  2001  41.815670 -87.626402   \n",
       "519941  27.0            23.0  2001  41.889896 -87.722564   \n",
       "733830  26.0            24.0  2001  41.903162 -87.696886   \n",
       "241086  11.0            60.0  2001  41.839771 -87.646468   \n",
       "328456  25.0            31.0  2001  41.856268 -87.656375   \n",
       "...      ...             ...   ...        ...        ...   \n",
       "255223  30.0            16.0  2020  41.939081 -87.728277   \n",
       "255225  29.0            25.0  2020  41.882210 -87.767064   \n",
       "255226  15.0            58.0  2020  41.811111 -87.687894   \n",
       "255214  29.0            25.0  2020  41.910031 -87.783369   \n",
       "251477  39.0            14.0  2020  41.969143 -87.728056   \n",
       "\n",
       "                             Location             Date  \n",
       "282677  (41.815669549, -87.626402198)  3/15/2001 10:55  \n",
       "519941  (41.889896295, -87.722564425)  8/29/2001 15:45  \n",
       "733830  (41.903162458, -87.696885733)  9/11/2001 19:40  \n",
       "241086  (41.839770706, -87.646467578)   5/27/2001 3:00  \n",
       "328456   (41.85626764, -87.656374568)   8/12/2001 4:35  \n",
       "...                               ...              ...  \n",
       "255223  (41.939081232, -87.728277456)   2/1/2020 15:16  \n",
       "255225  (41.882209936, -87.767064116)   2/1/2020 22:00  \n",
       "255226  (41.811111038, -87.687893773)   2/1/2020 22:30  \n",
       "255214   (41.91003074, -87.783368829)   2/1/2020 18:10  \n",
       "251477   (41.969142924, -87.72805557)   1/26/2020 9:00  \n",
       "\n",
       "[977130 rows x 14 columns]"
      ]
     },
     "execution_count": 66,
     "metadata": {},
     "output_type": "execute_result"
    }
   ],
   "source": [
    "trimmed.sort_values(by=[\"Year\"], inplace = True)\n",
    "trimmed"
   ]
  },
  {
   "cell_type": "code",
   "execution_count": 67,
   "metadata": {},
   "outputs": [
    {
     "data": {
      "text/html": [
       "<div>\n",
       "<style scoped>\n",
       "    .dataframe tbody tr th:only-of-type {\n",
       "        vertical-align: middle;\n",
       "    }\n",
       "\n",
       "    .dataframe tbody tr th {\n",
       "        vertical-align: top;\n",
       "    }\n",
       "\n",
       "    .dataframe thead th {\n",
       "        text-align: right;\n",
       "    }\n",
       "</style>\n",
       "<table border=\"1\" class=\"dataframe\">\n",
       "  <thead>\n",
       "    <tr style=\"text-align: right;\">\n",
       "      <th></th>\n",
       "      <th>Year</th>\n",
       "      <th>Longitude</th>\n",
       "      <th>Latitude</th>\n",
       "      <th>Location</th>\n",
       "      <th>Primary Type</th>\n",
       "    </tr>\n",
       "  </thead>\n",
       "  <tbody>\n",
       "    <tr>\n",
       "      <td>282677</td>\n",
       "      <td>2001</td>\n",
       "      <td>-87.626402</td>\n",
       "      <td>41.815670</td>\n",
       "      <td>(41.815669549, -87.626402198)</td>\n",
       "      <td>ROBBERY</td>\n",
       "    </tr>\n",
       "    <tr>\n",
       "      <td>519941</td>\n",
       "      <td>2001</td>\n",
       "      <td>-87.722564</td>\n",
       "      <td>41.889896</td>\n",
       "      <td>(41.889896295, -87.722564425)</td>\n",
       "      <td>HOMICIDE</td>\n",
       "    </tr>\n",
       "    <tr>\n",
       "      <td>733830</td>\n",
       "      <td>2001</td>\n",
       "      <td>-87.696886</td>\n",
       "      <td>41.903162</td>\n",
       "      <td>(41.903162458, -87.696885733)</td>\n",
       "      <td>HOMICIDE</td>\n",
       "    </tr>\n",
       "    <tr>\n",
       "      <td>241086</td>\n",
       "      <td>2001</td>\n",
       "      <td>-87.646468</td>\n",
       "      <td>41.839771</td>\n",
       "      <td>(41.839770706, -87.646467578)</td>\n",
       "      <td>OFFENSE INVOLVING CHILDREN</td>\n",
       "    </tr>\n",
       "    <tr>\n",
       "      <td>328456</td>\n",
       "      <td>2001</td>\n",
       "      <td>-87.656375</td>\n",
       "      <td>41.856268</td>\n",
       "      <td>(41.85626764, -87.656374568)</td>\n",
       "      <td>HOMICIDE</td>\n",
       "    </tr>\n",
       "  </tbody>\n",
       "</table>\n",
       "</div>"
      ],
      "text/plain": [
       "        Year  Longitude   Latitude                       Location  \\\n",
       "282677  2001 -87.626402  41.815670  (41.815669549, -87.626402198)   \n",
       "519941  2001 -87.722564  41.889896  (41.889896295, -87.722564425)   \n",
       "733830  2001 -87.696886  41.903162  (41.903162458, -87.696885733)   \n",
       "241086  2001 -87.646468  41.839771  (41.839770706, -87.646467578)   \n",
       "328456  2001 -87.656375  41.856268   (41.85626764, -87.656374568)   \n",
       "\n",
       "                      Primary Type  \n",
       "282677                     ROBBERY  \n",
       "519941                    HOMICIDE  \n",
       "733830                    HOMICIDE  \n",
       "241086  OFFENSE INVOLVING CHILDREN  \n",
       "328456                    HOMICIDE  "
      ]
     },
     "execution_count": 67,
     "metadata": {},
     "output_type": "execute_result"
    }
   ],
   "source": [
    "cleaned_crime = trimmed[[\"Year\", \"Longitude\", \"Latitude\", \"Location\", \"Primary Type\"]]\n",
    "cleaned_crime.head()"
   ]
  },
  {
   "cell_type": "code",
   "execution_count": 68,
   "metadata": {},
   "outputs": [],
   "source": [
    "cleaned_crime.rename(columns={\"Primary Type\": \"Crime\"}, inplace = True)"
   ]
  },
  {
   "cell_type": "code",
   "execution_count": 69,
   "metadata": {},
   "outputs": [],
   "source": [
    "cleaned_crime = cleaned_crime.replace({'CRIM SEXUAL ASSAULT':'CRIMINAL SEXUAL ASSAULT',\n",
    "                                       'CONCEALED CARRY LICENSE VIOLATION':'WEAPONS VIOLATION',\n",
    "                                       'OTHER NARCOTIC VIOLATION':'NARCOTICS',\n",
    "                                       'NON - CRIMINAL':'NON-CRIMINAL',\n",
    "                                       'NON-CRIMINAL (SUBJECT SPECIFIED)':'NON-CRIMINAL'})"
   ]
  },
  {
   "cell_type": "code",
   "execution_count": 70,
   "metadata": {},
   "outputs": [
    {
     "data": {
      "text/html": [
       "<div>\n",
       "<style scoped>\n",
       "    .dataframe tbody tr th:only-of-type {\n",
       "        vertical-align: middle;\n",
       "    }\n",
       "\n",
       "    .dataframe tbody tr th {\n",
       "        vertical-align: top;\n",
       "    }\n",
       "\n",
       "    .dataframe thead th {\n",
       "        text-align: right;\n",
       "    }\n",
       "</style>\n",
       "<table border=\"1\" class=\"dataframe\">\n",
       "  <thead>\n",
       "    <tr style=\"text-align: right;\">\n",
       "      <th></th>\n",
       "      <th>Year</th>\n",
       "      <th>Longitude</th>\n",
       "      <th>Latitude</th>\n",
       "      <th>Location</th>\n",
       "      <th>Crime</th>\n",
       "    </tr>\n",
       "  </thead>\n",
       "  <tbody>\n",
       "    <tr>\n",
       "      <td>282677</td>\n",
       "      <td>2001</td>\n",
       "      <td>-87.626402</td>\n",
       "      <td>41.815670</td>\n",
       "      <td>(41.815669549, -87.626402198)</td>\n",
       "      <td>ROBBERY</td>\n",
       "    </tr>\n",
       "    <tr>\n",
       "      <td>519941</td>\n",
       "      <td>2001</td>\n",
       "      <td>-87.722564</td>\n",
       "      <td>41.889896</td>\n",
       "      <td>(41.889896295, -87.722564425)</td>\n",
       "      <td>HOMICIDE</td>\n",
       "    </tr>\n",
       "    <tr>\n",
       "      <td>733830</td>\n",
       "      <td>2001</td>\n",
       "      <td>-87.696886</td>\n",
       "      <td>41.903162</td>\n",
       "      <td>(41.903162458, -87.696885733)</td>\n",
       "      <td>HOMICIDE</td>\n",
       "    </tr>\n",
       "    <tr>\n",
       "      <td>241086</td>\n",
       "      <td>2001</td>\n",
       "      <td>-87.646468</td>\n",
       "      <td>41.839771</td>\n",
       "      <td>(41.839770706, -87.646467578)</td>\n",
       "      <td>OFFENSE INVOLVING CHILDREN</td>\n",
       "    </tr>\n",
       "    <tr>\n",
       "      <td>328456</td>\n",
       "      <td>2001</td>\n",
       "      <td>-87.656375</td>\n",
       "      <td>41.856268</td>\n",
       "      <td>(41.85626764, -87.656374568)</td>\n",
       "      <td>HOMICIDE</td>\n",
       "    </tr>\n",
       "    <tr>\n",
       "      <td>...</td>\n",
       "      <td>...</td>\n",
       "      <td>...</td>\n",
       "      <td>...</td>\n",
       "      <td>...</td>\n",
       "      <td>...</td>\n",
       "    </tr>\n",
       "    <tr>\n",
       "      <td>255223</td>\n",
       "      <td>2020</td>\n",
       "      <td>-87.728277</td>\n",
       "      <td>41.939081</td>\n",
       "      <td>(41.939081232, -87.728277456)</td>\n",
       "      <td>ASSAULT</td>\n",
       "    </tr>\n",
       "    <tr>\n",
       "      <td>255225</td>\n",
       "      <td>2020</td>\n",
       "      <td>-87.767064</td>\n",
       "      <td>41.882210</td>\n",
       "      <td>(41.882209936, -87.767064116)</td>\n",
       "      <td>MOTOR VEHICLE THEFT</td>\n",
       "    </tr>\n",
       "    <tr>\n",
       "      <td>255226</td>\n",
       "      <td>2020</td>\n",
       "      <td>-87.687894</td>\n",
       "      <td>41.811111</td>\n",
       "      <td>(41.811111038, -87.687893773)</td>\n",
       "      <td>BATTERY</td>\n",
       "    </tr>\n",
       "    <tr>\n",
       "      <td>255214</td>\n",
       "      <td>2020</td>\n",
       "      <td>-87.783369</td>\n",
       "      <td>41.910031</td>\n",
       "      <td>(41.91003074, -87.783368829)</td>\n",
       "      <td>ROBBERY</td>\n",
       "    </tr>\n",
       "    <tr>\n",
       "      <td>251477</td>\n",
       "      <td>2020</td>\n",
       "      <td>-87.728056</td>\n",
       "      <td>41.969143</td>\n",
       "      <td>(41.969142924, -87.72805557)</td>\n",
       "      <td>PUBLIC PEACE VIOLATION</td>\n",
       "    </tr>\n",
       "  </tbody>\n",
       "</table>\n",
       "<p>977130 rows × 5 columns</p>\n",
       "</div>"
      ],
      "text/plain": [
       "        Year  Longitude   Latitude                       Location  \\\n",
       "282677  2001 -87.626402  41.815670  (41.815669549, -87.626402198)   \n",
       "519941  2001 -87.722564  41.889896  (41.889896295, -87.722564425)   \n",
       "733830  2001 -87.696886  41.903162  (41.903162458, -87.696885733)   \n",
       "241086  2001 -87.646468  41.839771  (41.839770706, -87.646467578)   \n",
       "328456  2001 -87.656375  41.856268   (41.85626764, -87.656374568)   \n",
       "...      ...        ...        ...                            ...   \n",
       "255223  2020 -87.728277  41.939081  (41.939081232, -87.728277456)   \n",
       "255225  2020 -87.767064  41.882210  (41.882209936, -87.767064116)   \n",
       "255226  2020 -87.687894  41.811111  (41.811111038, -87.687893773)   \n",
       "255214  2020 -87.783369  41.910031   (41.91003074, -87.783368829)   \n",
       "251477  2020 -87.728056  41.969143   (41.969142924, -87.72805557)   \n",
       "\n",
       "                             Crime  \n",
       "282677                     ROBBERY  \n",
       "519941                    HOMICIDE  \n",
       "733830                    HOMICIDE  \n",
       "241086  OFFENSE INVOLVING CHILDREN  \n",
       "328456                    HOMICIDE  \n",
       "...                            ...  \n",
       "255223                     ASSAULT  \n",
       "255225         MOTOR VEHICLE THEFT  \n",
       "255226                     BATTERY  \n",
       "255214                     ROBBERY  \n",
       "251477      PUBLIC PEACE VIOLATION  \n",
       "\n",
       "[977130 rows x 5 columns]"
      ]
     },
     "execution_count": 70,
     "metadata": {},
     "output_type": "execute_result"
    }
   ],
   "source": [
    "cleaned_crime"
   ]
  },
  {
   "cell_type": "code",
   "execution_count": 71,
   "metadata": {},
   "outputs": [],
   "source": [
    "#dependencies for heatmaps\n",
    "import gmaps\n",
    "import os\n",
    "\n",
    "#from gmaps_API import g_key\n",
    "from gmaps_API import g_key"
   ]
  },
  {
   "cell_type": "code",
   "execution_count": 72,
   "metadata": {},
   "outputs": [],
   "source": [
    "crime_01=cleaned_crime.loc[cleaned_crime[\"Year\"]==2001]\n",
    "crime_02=cleaned_crime.loc[cleaned_crime[\"Year\"]==2002]\n",
    "crime_03=cleaned_crime.loc[cleaned_crime[\"Year\"]==2003]\n",
    "crime_04=cleaned_crime.loc[cleaned_crime[\"Year\"]==2004]\n",
    "crime_05=cleaned_crime.loc[cleaned_crime[\"Year\"]==2005]\n",
    "crime_06=cleaned_crime.loc[cleaned_crime[\"Year\"]==2006]\n",
    "crime_07=cleaned_crime.loc[cleaned_crime[\"Year\"]==2007]\n",
    "crime_08=cleaned_crime.loc[cleaned_crime[\"Year\"]==2008]\n",
    "crime_09=cleaned_crime.loc[cleaned_crime[\"Year\"]==2009]\n",
    "crime_10=cleaned_crime.loc[cleaned_crime[\"Year\"]==2010]\n",
    "crime_11=cleaned_crime.loc[cleaned_crime[\"Year\"]==2011]\n",
    "crime_12=cleaned_crime.loc[cleaned_crime[\"Year\"]==2012]\n",
    "crime_13=cleaned_crime.loc[cleaned_crime[\"Year\"]==2013]\n",
    "crime_14=cleaned_crime.loc[cleaned_crime[\"Year\"]==2014]\n",
    "crime_15=cleaned_crime.loc[cleaned_crime[\"Year\"]==2015]\n",
    "crime_16=cleaned_crime.loc[cleaned_crime[\"Year\"]==2016]\n",
    "crime_17=cleaned_crime.loc[cleaned_crime[\"Year\"]==2017]\n",
    "crime_18=cleaned_crime.loc[cleaned_crime[\"Year\"]==2018]\n",
    "crime_19=cleaned_crime.loc[cleaned_crime[\"Year\"]==2019]\n",
    "crime_20=cleaned_crime.loc[cleaned_crime[\"Year\"]==2020]"
   ]
  },
  {
   "cell_type": "code",
   "execution_count": 73,
   "metadata": {},
   "outputs": [
    {
     "data": {
      "text/html": [
       "<div>\n",
       "<style scoped>\n",
       "    .dataframe tbody tr th:only-of-type {\n",
       "        vertical-align: middle;\n",
       "    }\n",
       "\n",
       "    .dataframe tbody tr th {\n",
       "        vertical-align: top;\n",
       "    }\n",
       "\n",
       "    .dataframe thead th {\n",
       "        text-align: right;\n",
       "    }\n",
       "</style>\n",
       "<table border=\"1\" class=\"dataframe\">\n",
       "  <thead>\n",
       "    <tr style=\"text-align: right;\">\n",
       "      <th></th>\n",
       "      <th>Year</th>\n",
       "      <th>Longitude</th>\n",
       "      <th>Latitude</th>\n",
       "      <th>Location</th>\n",
       "      <th>Crime</th>\n",
       "      <th>Weight</th>\n",
       "    </tr>\n",
       "  </thead>\n",
       "  <tbody>\n",
       "    <tr>\n",
       "      <td>282677</td>\n",
       "      <td>2001</td>\n",
       "      <td>-87.626402</td>\n",
       "      <td>41.815670</td>\n",
       "      <td>(41.815669549, -87.626402198)</td>\n",
       "      <td>ROBBERY</td>\n",
       "      <td>1.0</td>\n",
       "    </tr>\n",
       "    <tr>\n",
       "      <td>519941</td>\n",
       "      <td>2001</td>\n",
       "      <td>-87.722564</td>\n",
       "      <td>41.889896</td>\n",
       "      <td>(41.889896295, -87.722564425)</td>\n",
       "      <td>HOMICIDE</td>\n",
       "      <td>3.0</td>\n",
       "    </tr>\n",
       "    <tr>\n",
       "      <td>733830</td>\n",
       "      <td>2001</td>\n",
       "      <td>-87.696886</td>\n",
       "      <td>41.903162</td>\n",
       "      <td>(41.903162458, -87.696885733)</td>\n",
       "      <td>HOMICIDE</td>\n",
       "      <td>3.0</td>\n",
       "    </tr>\n",
       "    <tr>\n",
       "      <td>241086</td>\n",
       "      <td>2001</td>\n",
       "      <td>-87.646468</td>\n",
       "      <td>41.839771</td>\n",
       "      <td>(41.839770706, -87.646467578)</td>\n",
       "      <td>OFFENSE INVOLVING CHILDREN</td>\n",
       "      <td>2.0</td>\n",
       "    </tr>\n",
       "    <tr>\n",
       "      <td>328456</td>\n",
       "      <td>2001</td>\n",
       "      <td>-87.656375</td>\n",
       "      <td>41.856268</td>\n",
       "      <td>(41.85626764, -87.656374568)</td>\n",
       "      <td>HOMICIDE</td>\n",
       "      <td>3.0</td>\n",
       "    </tr>\n",
       "  </tbody>\n",
       "</table>\n",
       "</div>"
      ],
      "text/plain": [
       "        Year  Longitude   Latitude                       Location  \\\n",
       "282677  2001 -87.626402  41.815670  (41.815669549, -87.626402198)   \n",
       "519941  2001 -87.722564  41.889896  (41.889896295, -87.722564425)   \n",
       "733830  2001 -87.696886  41.903162  (41.903162458, -87.696885733)   \n",
       "241086  2001 -87.646468  41.839771  (41.839770706, -87.646467578)   \n",
       "328456  2001 -87.656375  41.856268   (41.85626764, -87.656374568)   \n",
       "\n",
       "                             Crime  Weight  \n",
       "282677                     ROBBERY     1.0  \n",
       "519941                    HOMICIDE     3.0  \n",
       "733830                    HOMICIDE     3.0  \n",
       "241086  OFFENSE INVOLVING CHILDREN     2.0  \n",
       "328456                    HOMICIDE     3.0  "
      ]
     },
     "execution_count": 73,
     "metadata": {},
     "output_type": "execute_result"
    }
   ],
   "source": [
    "#Set up weights for 2001 crimes\n",
    "crime_01[\"Crime\"].unique()\n",
    "\n",
    "crimes={'THEFT':1,'ROBBERY':1,'BURGLARY':1,\n",
    "        'OFFENSE INVOLVING CHILDREN':2,'CRIMINAL SEXUAL ASSAULT':2,'SEX OFFENSE':2,\n",
    "        'HOMICIDE':3}\n",
    "\n",
    "for key in crimes.keys():\n",
    "    crime_01.loc[crime_01[\"Crime\"]==key,\"Weight\"]=crimes[key]\n",
    "\n",
    "crime_01.head()"
   ]
  },
  {
   "cell_type": "code",
   "execution_count": 74,
   "metadata": {},
   "outputs": [
    {
     "data": {
      "application/vnd.jupyter.widget-view+json": {
       "model_id": "0eb22430e2da4969988e288df2292ef4",
       "version_major": 2,
       "version_minor": 0
      },
      "text/plain": [
       "Figure(layout=FigureLayout(height='420px'))"
      ]
     },
     "metadata": {},
     "output_type": "display_data"
    }
   ],
   "source": [
    "# Configure gmaps with API key.\n",
    "gmaps.configure(api_key=g_key)\n",
    "\n",
    "# Store 'Latitude' and 'Longitude' into  locations. \n",
    "locations = crime_01[[\"Latitude\", \"Longitude\"]].astype(float)\n",
    "weights=crime_01[\"Weight\"]\n",
    "\n",
    "# # Create a Heatmap layer\n",
    "fig = gmaps.figure()\n",
    "\n",
    "heat_layer = gmaps.heatmap_layer(locations, weights,dissipating=False, max_intensity=3, point_radius=0.005)\n",
    "\n",
    "fig.add_layer(heat_layer)\n",
    "\n",
    "fig"
   ]
  },
  {
   "cell_type": "code",
   "execution_count": 75,
   "metadata": {},
   "outputs": [
    {
     "data": {
      "text/html": [
       "<div>\n",
       "<style scoped>\n",
       "    .dataframe tbody tr th:only-of-type {\n",
       "        vertical-align: middle;\n",
       "    }\n",
       "\n",
       "    .dataframe tbody tr th {\n",
       "        vertical-align: top;\n",
       "    }\n",
       "\n",
       "    .dataframe thead th {\n",
       "        text-align: right;\n",
       "    }\n",
       "</style>\n",
       "<table border=\"1\" class=\"dataframe\">\n",
       "  <thead>\n",
       "    <tr style=\"text-align: right;\">\n",
       "      <th></th>\n",
       "      <th>Year</th>\n",
       "      <th>Longitude</th>\n",
       "      <th>Latitude</th>\n",
       "      <th>Location</th>\n",
       "      <th>Crime</th>\n",
       "      <th>Weight</th>\n",
       "    </tr>\n",
       "  </thead>\n",
       "  <tbody>\n",
       "    <tr>\n",
       "      <td>295966</td>\n",
       "      <td>2002</td>\n",
       "      <td>-87.726993</td>\n",
       "      <td>41.903570</td>\n",
       "      <td>(41.903569617, -87.726992866)</td>\n",
       "      <td>THEFT</td>\n",
       "      <td>2.0</td>\n",
       "    </tr>\n",
       "    <tr>\n",
       "      <td>295982</td>\n",
       "      <td>2002</td>\n",
       "      <td>-87.654410</td>\n",
       "      <td>41.939906</td>\n",
       "      <td>(41.939905846, -87.654410045)</td>\n",
       "      <td>BATTERY</td>\n",
       "      <td>4.0</td>\n",
       "    </tr>\n",
       "    <tr>\n",
       "      <td>295983</td>\n",
       "      <td>2002</td>\n",
       "      <td>-87.801207</td>\n",
       "      <td>41.784449</td>\n",
       "      <td>(41.784449254, -87.80120721)</td>\n",
       "      <td>BURGLARY</td>\n",
       "      <td>2.0</td>\n",
       "    </tr>\n",
       "    <tr>\n",
       "      <td>295967</td>\n",
       "      <td>2002</td>\n",
       "      <td>-87.628972</td>\n",
       "      <td>41.721658</td>\n",
       "      <td>(41.72165754, -87.628972081)</td>\n",
       "      <td>BATTERY</td>\n",
       "      <td>4.0</td>\n",
       "    </tr>\n",
       "    <tr>\n",
       "      <td>295984</td>\n",
       "      <td>2002</td>\n",
       "      <td>-87.617052</td>\n",
       "      <td>41.673544</td>\n",
       "      <td>(41.673544388, -87.617051788)</td>\n",
       "      <td>ASSAULT</td>\n",
       "      <td>4.0</td>\n",
       "    </tr>\n",
       "  </tbody>\n",
       "</table>\n",
       "</div>"
      ],
      "text/plain": [
       "        Year  Longitude   Latitude                       Location     Crime  \\\n",
       "295966  2002 -87.726993  41.903570  (41.903569617, -87.726992866)     THEFT   \n",
       "295982  2002 -87.654410  41.939906  (41.939905846, -87.654410045)   BATTERY   \n",
       "295983  2002 -87.801207  41.784449   (41.784449254, -87.80120721)  BURGLARY   \n",
       "295967  2002 -87.628972  41.721658   (41.72165754, -87.628972081)   BATTERY   \n",
       "295984  2002 -87.617052  41.673544  (41.673544388, -87.617051788)   ASSAULT   \n",
       "\n",
       "        Weight  \n",
       "295966     2.0  \n",
       "295982     4.0  \n",
       "295983     2.0  \n",
       "295967     4.0  \n",
       "295984     4.0  "
      ]
     },
     "execution_count": 75,
     "metadata": {},
     "output_type": "execute_result"
    }
   ],
   "source": [
    "#Set up weights for 2002 crimes\n",
    "crime_02[\"Crime\"].unique()\n",
    "\n",
    "crimes={'OTHER OFFENSE':0,\n",
    "        'GAMBLING':1,'CRIMINAL TRESPASS':1,'DECEPTIVE PRACTICE':1, 'STALKING':1,\n",
    "        'THEFT':2,'ROBBERY':2,'BURGLARY':2,'CRIMINAL DAMAGE':2,'MOTOR VEHICLE THEFT':2,\n",
    "        'NARCOTICS':3,\n",
    "        'BATTERY':4, 'ASSAULT':4,\n",
    "        'OFFENSE INVOLVING CHILDREN':5,'CRIMINAL SEXUAL ASSAULT':5,'SEX OFFENSE':5,\n",
    "        'ARSON':6,\n",
    "        'HOMICIDE':7}\n",
    "\n",
    "for key in crimes.keys():\n",
    "    crime_02.loc[crime_02[\"Crime\"]==key,\"Weight\"] = crimes[key]\n",
    "\n",
    "crime_02.head()"
   ]
  },
  {
   "cell_type": "code",
   "execution_count": 76,
   "metadata": {},
   "outputs": [
    {
     "data": {
      "application/vnd.jupyter.widget-view+json": {
       "model_id": "483f3315ef344e009df1358828e891b7",
       "version_major": 2,
       "version_minor": 0
      },
      "text/plain": [
       "Figure(layout=FigureLayout(height='420px'))"
      ]
     },
     "metadata": {},
     "output_type": "display_data"
    }
   ],
   "source": [
    "# Configure gmaps with API key.\n",
    "gmaps.configure(api_key=g_key)\n",
    "\n",
    "# Store 'Latitude' and 'Longitude' into  locations. \n",
    "locations = crime_02[[\"Latitude\", \"Longitude\"]].astype(float)\n",
    "weights=crime_02[\"Weight\"]\n",
    "\n",
    "# # Create a Heatmap layer\n",
    "fig = gmaps.figure()\n",
    "\n",
    "heat_layer = gmaps.heatmap_layer(locations, weights,dissipating=False, max_intensity=7, point_radius=0.005)\n",
    "\n",
    "fig.add_layer(heat_layer)\n",
    "\n",
    "fig"
   ]
  },
  {
   "cell_type": "code",
   "execution_count": 77,
   "metadata": {},
   "outputs": [
    {
     "data": {
      "text/html": [
       "<div>\n",
       "<style scoped>\n",
       "    .dataframe tbody tr th:only-of-type {\n",
       "        vertical-align: middle;\n",
       "    }\n",
       "\n",
       "    .dataframe tbody tr th {\n",
       "        vertical-align: top;\n",
       "    }\n",
       "\n",
       "    .dataframe thead th {\n",
       "        text-align: right;\n",
       "    }\n",
       "</style>\n",
       "<table border=\"1\" class=\"dataframe\">\n",
       "  <thead>\n",
       "    <tr style=\"text-align: right;\">\n",
       "      <th></th>\n",
       "      <th>Year</th>\n",
       "      <th>Longitude</th>\n",
       "      <th>Latitude</th>\n",
       "      <th>Location</th>\n",
       "      <th>Crime</th>\n",
       "      <th>Weight</th>\n",
       "    </tr>\n",
       "  </thead>\n",
       "  <tbody>\n",
       "    <tr>\n",
       "      <td>296700</td>\n",
       "      <td>2003</td>\n",
       "      <td>-87.800472</td>\n",
       "      <td>41.915103</td>\n",
       "      <td>(41.915103149, -87.800472335)</td>\n",
       "      <td>THEFT</td>\n",
       "      <td>2.0</td>\n",
       "    </tr>\n",
       "    <tr>\n",
       "      <td>296676</td>\n",
       "      <td>2003</td>\n",
       "      <td>-87.736986</td>\n",
       "      <td>41.900672</td>\n",
       "      <td>(41.900671891, -87.736985873)</td>\n",
       "      <td>NARCOTICS</td>\n",
       "      <td>3.0</td>\n",
       "    </tr>\n",
       "    <tr>\n",
       "      <td>296675</td>\n",
       "      <td>2003</td>\n",
       "      <td>-87.801605</td>\n",
       "      <td>41.794484</td>\n",
       "      <td>(41.79448424, -87.801604618)</td>\n",
       "      <td>ROBBERY</td>\n",
       "      <td>2.0</td>\n",
       "    </tr>\n",
       "    <tr>\n",
       "      <td>296746</td>\n",
       "      <td>2003</td>\n",
       "      <td>-87.614064</td>\n",
       "      <td>41.851812</td>\n",
       "      <td>(41.851811749, -87.61406434)</td>\n",
       "      <td>ASSAULT</td>\n",
       "      <td>4.0</td>\n",
       "    </tr>\n",
       "    <tr>\n",
       "      <td>296696</td>\n",
       "      <td>2003</td>\n",
       "      <td>-87.637685</td>\n",
       "      <td>41.894746</td>\n",
       "      <td>(41.894745537, -87.637684551)</td>\n",
       "      <td>THEFT</td>\n",
       "      <td>2.0</td>\n",
       "    </tr>\n",
       "  </tbody>\n",
       "</table>\n",
       "</div>"
      ],
      "text/plain": [
       "        Year  Longitude   Latitude                       Location      Crime  \\\n",
       "296700  2003 -87.800472  41.915103  (41.915103149, -87.800472335)      THEFT   \n",
       "296676  2003 -87.736986  41.900672  (41.900671891, -87.736985873)  NARCOTICS   \n",
       "296675  2003 -87.801605  41.794484   (41.79448424, -87.801604618)    ROBBERY   \n",
       "296746  2003 -87.614064  41.851812   (41.851811749, -87.61406434)    ASSAULT   \n",
       "296696  2003 -87.637685  41.894746  (41.894745537, -87.637684551)      THEFT   \n",
       "\n",
       "        Weight  \n",
       "296700     2.0  \n",
       "296676     3.0  \n",
       "296675     2.0  \n",
       "296746     4.0  \n",
       "296696     2.0  "
      ]
     },
     "execution_count": 77,
     "metadata": {},
     "output_type": "execute_result"
    }
   ],
   "source": [
    "#Set up weights for 2003 crimes\n",
    "crime_03[\"Crime\"].unique()\n",
    "\n",
    "crimes={'OTHER OFFENSE':0,\n",
    "        'GAMBLING':1,'CRIMINAL TRESPASS':1,'DECEPTIVE PRACTICE':1, 'STALKING':1,\n",
    "        'THEFT':2,'ROBBERY':2,'BURGLARY':2,'CRIMINAL DAMAGE':2,'MOTOR VEHICLE THEFT':2,\n",
    "        'NARCOTICS':3,\n",
    "        'BATTERY':4, 'ASSAULT':4,\n",
    "        'OFFENSE INVOLVING CHILDREN':5,'CRIMINAL SEXUAL ASSAULT':5,'SEX OFFENSE':5,\n",
    "        'ARSON':6,\n",
    "        'HOMICIDE':7}\n",
    "\n",
    "for key in crimes.keys():\n",
    "    crime_03.loc[crime_03[\"Crime\"]==key,\"Weight\"]=crimes[key]\n",
    "\n",
    "crime_03.head()"
   ]
  },
  {
   "cell_type": "code",
   "execution_count": 78,
   "metadata": {},
   "outputs": [
    {
     "data": {
      "application/vnd.jupyter.widget-view+json": {
       "model_id": "377a30ceb0ea4d1eb134e5f602cd9d83",
       "version_major": 2,
       "version_minor": 0
      },
      "text/plain": [
       "Figure(layout=FigureLayout(height='420px'))"
      ]
     },
     "metadata": {},
     "output_type": "display_data"
    }
   ],
   "source": [
    "# Configure gmaps with API key.\n",
    "gmaps.configure(api_key=g_key)\n",
    "\n",
    "# Store 'Latitude' and 'Longitude' into  locations. \n",
    "locations = crime_03[[\"Latitude\", \"Longitude\"]].astype(float)\n",
    "weights=crime_03[\"Weight\"]\n",
    "\n",
    "# # Create a Heatmap layer\n",
    "fig = gmaps.figure()\n",
    "\n",
    "heat_layer = gmaps.heatmap_layer(locations, weights,dissipating=False, max_intensity=7, point_radius=0.005)\n",
    "\n",
    "fig.add_layer(heat_layer)\n",
    "\n",
    "fig"
   ]
  },
  {
   "cell_type": "code",
   "execution_count": 79,
   "metadata": {},
   "outputs": [
    {
     "data": {
      "text/html": [
       "<div>\n",
       "<style scoped>\n",
       "    .dataframe tbody tr th:only-of-type {\n",
       "        vertical-align: middle;\n",
       "    }\n",
       "\n",
       "    .dataframe tbody tr th {\n",
       "        vertical-align: top;\n",
       "    }\n",
       "\n",
       "    .dataframe thead th {\n",
       "        text-align: right;\n",
       "    }\n",
       "</style>\n",
       "<table border=\"1\" class=\"dataframe\">\n",
       "  <thead>\n",
       "    <tr style=\"text-align: right;\">\n",
       "      <th></th>\n",
       "      <th>Year</th>\n",
       "      <th>Longitude</th>\n",
       "      <th>Latitude</th>\n",
       "      <th>Location</th>\n",
       "      <th>Crime</th>\n",
       "      <th>Weight</th>\n",
       "    </tr>\n",
       "  </thead>\n",
       "  <tbody>\n",
       "    <tr>\n",
       "      <td>297518</td>\n",
       "      <td>2004</td>\n",
       "      <td>-87.666278</td>\n",
       "      <td>41.766154</td>\n",
       "      <td>(41.766154105, -87.66627775)</td>\n",
       "      <td>ASSAULT</td>\n",
       "      <td>4.0</td>\n",
       "    </tr>\n",
       "    <tr>\n",
       "      <td>297514</td>\n",
       "      <td>2004</td>\n",
       "      <td>-87.744662</td>\n",
       "      <td>41.893181</td>\n",
       "      <td>(41.893181298, -87.74466202)</td>\n",
       "      <td>BATTERY</td>\n",
       "      <td>4.0</td>\n",
       "    </tr>\n",
       "    <tr>\n",
       "      <td>297515</td>\n",
       "      <td>2004</td>\n",
       "      <td>-87.647880</td>\n",
       "      <td>41.934980</td>\n",
       "      <td>(41.934979596, -87.647879947)</td>\n",
       "      <td>THEFT</td>\n",
       "      <td>2.0</td>\n",
       "    </tr>\n",
       "    <tr>\n",
       "      <td>297513</td>\n",
       "      <td>2004</td>\n",
       "      <td>-87.656041</td>\n",
       "      <td>41.903527</td>\n",
       "      <td>(41.903527055, -87.656040878)</td>\n",
       "      <td>THEFT</td>\n",
       "      <td>2.0</td>\n",
       "    </tr>\n",
       "    <tr>\n",
       "      <td>297516</td>\n",
       "      <td>2004</td>\n",
       "      <td>-87.719911</td>\n",
       "      <td>41.902725</td>\n",
       "      <td>(41.902725199, -87.71991121)</td>\n",
       "      <td>BATTERY</td>\n",
       "      <td>4.0</td>\n",
       "    </tr>\n",
       "  </tbody>\n",
       "</table>\n",
       "</div>"
      ],
      "text/plain": [
       "        Year  Longitude   Latitude                       Location    Crime  \\\n",
       "297518  2004 -87.666278  41.766154   (41.766154105, -87.66627775)  ASSAULT   \n",
       "297514  2004 -87.744662  41.893181   (41.893181298, -87.74466202)  BATTERY   \n",
       "297515  2004 -87.647880  41.934980  (41.934979596, -87.647879947)    THEFT   \n",
       "297513  2004 -87.656041  41.903527  (41.903527055, -87.656040878)    THEFT   \n",
       "297516  2004 -87.719911  41.902725   (41.902725199, -87.71991121)  BATTERY   \n",
       "\n",
       "        Weight  \n",
       "297518     4.0  \n",
       "297514     4.0  \n",
       "297515     2.0  \n",
       "297513     2.0  \n",
       "297516     4.0  "
      ]
     },
     "execution_count": 79,
     "metadata": {},
     "output_type": "execute_result"
    }
   ],
   "source": [
    "#Set up weights for 2004 crimes\n",
    "crime_04[\"Crime\"].unique()\n",
    "\n",
    "crimes={'OTHER OFFENSE':0,\n",
    "        'GAMBLING':1,'CRIMINAL TRESPASS':1,'DECEPTIVE PRACTICE':1, 'STALKING':1,\n",
    "        'THEFT':2,'ROBBERY':2,'BURGLARY':2,'CRIMINAL DAMAGE':2,'MOTOR VEHICLE THEFT':2,\n",
    "        'NARCOTICS':3,\n",
    "        'BATTERY':4, 'ASSAULT':4,\n",
    "        'OFFENSE INVOLVING CHILDREN':5,'CRIMINAL SEXUAL ASSAULT':5,'SEX OFFENSE':5,\n",
    "        'ARSON':6,\n",
    "        'HOMICIDE':7}\n",
    "\n",
    "for key in crimes.keys():\n",
    "    crime_04.loc[crime_04[\"Crime\"]==key,\"Weight\"]=crimes[key]\n",
    "\n",
    "crime_04.head()"
   ]
  },
  {
   "cell_type": "code",
   "execution_count": 80,
   "metadata": {},
   "outputs": [
    {
     "data": {
      "application/vnd.jupyter.widget-view+json": {
       "model_id": "cce14fb5ef7f445c9e44fbc82b62da2c",
       "version_major": 2,
       "version_minor": 0
      },
      "text/plain": [
       "Figure(layout=FigureLayout(height='420px'))"
      ]
     },
     "metadata": {},
     "output_type": "display_data"
    }
   ],
   "source": [
    "# Configure gmaps with API key.\n",
    "gmaps.configure(api_key=g_key)\n",
    "\n",
    "# Store 'Latitude' and 'Longitude' into  locations. \n",
    "locations = crime_04[[\"Latitude\", \"Longitude\"]].astype(float)\n",
    "weights=crime_04[\"Weight\"]\n",
    "\n",
    "# # Create a Heatmap layer\n",
    "fig = gmaps.figure()\n",
    "\n",
    "heat_layer = gmaps.heatmap_layer(locations, weights,dissipating=False, max_intensity=7, point_radius=0.005)\n",
    "\n",
    "fig.add_layer(heat_layer)\n",
    "\n",
    "fig"
   ]
  },
  {
   "cell_type": "code",
   "execution_count": 81,
   "metadata": {},
   "outputs": [
    {
     "data": {
      "text/html": [
       "<div>\n",
       "<style scoped>\n",
       "    .dataframe tbody tr th:only-of-type {\n",
       "        vertical-align: middle;\n",
       "    }\n",
       "\n",
       "    .dataframe tbody tr th {\n",
       "        vertical-align: top;\n",
       "    }\n",
       "\n",
       "    .dataframe thead th {\n",
       "        text-align: right;\n",
       "    }\n",
       "</style>\n",
       "<table border=\"1\" class=\"dataframe\">\n",
       "  <thead>\n",
       "    <tr style=\"text-align: right;\">\n",
       "      <th></th>\n",
       "      <th>Year</th>\n",
       "      <th>Longitude</th>\n",
       "      <th>Latitude</th>\n",
       "      <th>Location</th>\n",
       "      <th>Crime</th>\n",
       "      <th>Weight</th>\n",
       "    </tr>\n",
       "  </thead>\n",
       "  <tbody>\n",
       "    <tr>\n",
       "      <td>298336</td>\n",
       "      <td>2005</td>\n",
       "      <td>-87.809132</td>\n",
       "      <td>41.976657</td>\n",
       "      <td>(41.976657483, -87.809131553)</td>\n",
       "      <td>THEFT</td>\n",
       "      <td>2.0</td>\n",
       "    </tr>\n",
       "    <tr>\n",
       "      <td>298323</td>\n",
       "      <td>2005</td>\n",
       "      <td>-87.634550</td>\n",
       "      <td>41.750776</td>\n",
       "      <td>(41.750775808, -87.63455036)</td>\n",
       "      <td>BATTERY</td>\n",
       "      <td>4.0</td>\n",
       "    </tr>\n",
       "    <tr>\n",
       "      <td>298324</td>\n",
       "      <td>2005</td>\n",
       "      <td>-87.774739</td>\n",
       "      <td>41.882591</td>\n",
       "      <td>(41.882590557, -87.774739411)</td>\n",
       "      <td>CRIMINAL DAMAGE</td>\n",
       "      <td>2.0</td>\n",
       "    </tr>\n",
       "    <tr>\n",
       "      <td>298325</td>\n",
       "      <td>2005</td>\n",
       "      <td>-87.668299</td>\n",
       "      <td>41.979251</td>\n",
       "      <td>(41.979251257, -87.668298831)</td>\n",
       "      <td>THEFT</td>\n",
       "      <td>2.0</td>\n",
       "    </tr>\n",
       "    <tr>\n",
       "      <td>298326</td>\n",
       "      <td>2005</td>\n",
       "      <td>-87.720962</td>\n",
       "      <td>41.887311</td>\n",
       "      <td>(41.887310916, -87.72096213)</td>\n",
       "      <td>THEFT</td>\n",
       "      <td>2.0</td>\n",
       "    </tr>\n",
       "  </tbody>\n",
       "</table>\n",
       "</div>"
      ],
      "text/plain": [
       "        Year  Longitude   Latitude                       Location  \\\n",
       "298336  2005 -87.809132  41.976657  (41.976657483, -87.809131553)   \n",
       "298323  2005 -87.634550  41.750776   (41.750775808, -87.63455036)   \n",
       "298324  2005 -87.774739  41.882591  (41.882590557, -87.774739411)   \n",
       "298325  2005 -87.668299  41.979251  (41.979251257, -87.668298831)   \n",
       "298326  2005 -87.720962  41.887311   (41.887310916, -87.72096213)   \n",
       "\n",
       "                  Crime  Weight  \n",
       "298336            THEFT     2.0  \n",
       "298323          BATTERY     4.0  \n",
       "298324  CRIMINAL DAMAGE     2.0  \n",
       "298325            THEFT     2.0  \n",
       "298326            THEFT     2.0  "
      ]
     },
     "execution_count": 81,
     "metadata": {},
     "output_type": "execute_result"
    }
   ],
   "source": [
    "#Set up weights for 2005 crimes\n",
    "crime_05[\"Crime\"].unique()\n",
    "\n",
    "crimes={'OTHER OFFENSE':0,\n",
    "        'GAMBLING':1,'CRIMINAL TRESPASS':1,'DECEPTIVE PRACTICE':1, 'STALKING':1,\n",
    "        'THEFT':2,'ROBBERY':2,'BURGLARY':2,'CRIMINAL DAMAGE':2,'MOTOR VEHICLE THEFT':2,\n",
    "        'NARCOTICS':3,\n",
    "        'BATTERY':4, 'ASSAULT':4,\n",
    "        'OFFENSE INVOLVING CHILDREN':5,'CRIMINAL SEXUAL ASSAULT':5,'SEX OFFENSE':5,\n",
    "        'ARSON':6,\n",
    "        'HOMICIDE':7}\n",
    "\n",
    "for key in crimes.keys():\n",
    "    crime_05.loc[crime_05[\"Crime\"]==key,\"Weight\"]=crimes[key]\n",
    "\n",
    "crime_05.head()"
   ]
  },
  {
   "cell_type": "code",
   "execution_count": 82,
   "metadata": {},
   "outputs": [
    {
     "data": {
      "application/vnd.jupyter.widget-view+json": {
       "model_id": "5228de38a14240a2a2166608086e9520",
       "version_major": 2,
       "version_minor": 0
      },
      "text/plain": [
       "Figure(layout=FigureLayout(height='420px'))"
      ]
     },
     "metadata": {},
     "output_type": "display_data"
    }
   ],
   "source": [
    "# Configure gmaps with API key.\n",
    "gmaps.configure(api_key=g_key)\n",
    "\n",
    "# Store 'Latitude' and 'Longitude' into  locations. \n",
    "locations = crime_05[[\"Latitude\", \"Longitude\"]].astype(float)\n",
    "weights=crime_05[\"Weight\"]\n",
    "\n",
    "# # Create a Heatmap layer\n",
    "fig = gmaps.figure()\n",
    "\n",
    "heat_layer = gmaps.heatmap_layer(locations, weights,dissipating=False, max_intensity=7, point_radius=0.005)\n",
    "\n",
    "fig.add_layer(heat_layer)\n",
    "\n",
    "fig"
   ]
  },
  {
   "cell_type": "code",
   "execution_count": 83,
   "metadata": {},
   "outputs": [
    {
     "data": {
      "text/html": [
       "<div>\n",
       "<style scoped>\n",
       "    .dataframe tbody tr th:only-of-type {\n",
       "        vertical-align: middle;\n",
       "    }\n",
       "\n",
       "    .dataframe tbody tr th {\n",
       "        vertical-align: top;\n",
       "    }\n",
       "\n",
       "    .dataframe thead th {\n",
       "        text-align: right;\n",
       "    }\n",
       "</style>\n",
       "<table border=\"1\" class=\"dataframe\">\n",
       "  <thead>\n",
       "    <tr style=\"text-align: right;\">\n",
       "      <th></th>\n",
       "      <th>Year</th>\n",
       "      <th>Longitude</th>\n",
       "      <th>Latitude</th>\n",
       "      <th>Location</th>\n",
       "      <th>Crime</th>\n",
       "      <th>Weight</th>\n",
       "    </tr>\n",
       "  </thead>\n",
       "  <tbody>\n",
       "    <tr>\n",
       "      <td>299125</td>\n",
       "      <td>2006</td>\n",
       "      <td>-87.610097</td>\n",
       "      <td>41.706913</td>\n",
       "      <td>(41.706913064, -87.61009686)</td>\n",
       "      <td>THEFT</td>\n",
       "      <td>2.0</td>\n",
       "    </tr>\n",
       "    <tr>\n",
       "      <td>299097</td>\n",
       "      <td>2006</td>\n",
       "      <td>-87.719923</td>\n",
       "      <td>41.870796</td>\n",
       "      <td>(41.870795968, -87.719922855)</td>\n",
       "      <td>BATTERY</td>\n",
       "      <td>4.0</td>\n",
       "    </tr>\n",
       "    <tr>\n",
       "      <td>299124</td>\n",
       "      <td>2006</td>\n",
       "      <td>-87.724287</td>\n",
       "      <td>41.965613</td>\n",
       "      <td>(41.965613152, -87.724286962)</td>\n",
       "      <td>ASSAULT</td>\n",
       "      <td>4.0</td>\n",
       "    </tr>\n",
       "    <tr>\n",
       "      <td>299126</td>\n",
       "      <td>2006</td>\n",
       "      <td>-87.733852</td>\n",
       "      <td>41.858743</td>\n",
       "      <td>(41.85874265, -87.733851554)</td>\n",
       "      <td>NARCOTICS</td>\n",
       "      <td>3.0</td>\n",
       "    </tr>\n",
       "    <tr>\n",
       "      <td>299120</td>\n",
       "      <td>2006</td>\n",
       "      <td>-87.660871</td>\n",
       "      <td>41.974606</td>\n",
       "      <td>(41.974605964, -87.660870773)</td>\n",
       "      <td>ASSAULT</td>\n",
       "      <td>4.0</td>\n",
       "    </tr>\n",
       "  </tbody>\n",
       "</table>\n",
       "</div>"
      ],
      "text/plain": [
       "        Year  Longitude   Latitude                       Location      Crime  \\\n",
       "299125  2006 -87.610097  41.706913   (41.706913064, -87.61009686)      THEFT   \n",
       "299097  2006 -87.719923  41.870796  (41.870795968, -87.719922855)    BATTERY   \n",
       "299124  2006 -87.724287  41.965613  (41.965613152, -87.724286962)    ASSAULT   \n",
       "299126  2006 -87.733852  41.858743   (41.85874265, -87.733851554)  NARCOTICS   \n",
       "299120  2006 -87.660871  41.974606  (41.974605964, -87.660870773)    ASSAULT   \n",
       "\n",
       "        Weight  \n",
       "299125     2.0  \n",
       "299097     4.0  \n",
       "299124     4.0  \n",
       "299126     3.0  \n",
       "299120     4.0  "
      ]
     },
     "execution_count": 83,
     "metadata": {},
     "output_type": "execute_result"
    }
   ],
   "source": [
    "#Set up weights for 2006 crimes\n",
    "crime_06[\"Crime\"].unique()\n",
    "\n",
    "crimes={'OTHER OFFENSE':0,\n",
    "        'GAMBLING':1,'CRIMINAL TRESPASS':1,'DECEPTIVE PRACTICE':1, 'STALKING':1,\n",
    "        'THEFT':2,'ROBBERY':2,'BURGLARY':2,'CRIMINAL DAMAGE':2,'MOTOR VEHICLE THEFT':2,\n",
    "        'NARCOTICS':3,\n",
    "        'BATTERY':4, 'ASSAULT':4,\n",
    "        'OFFENSE INVOLVING CHILDREN':5,'CRIMINAL SEXUAL ASSAULT':5,'SEX OFFENSE':5,\n",
    "        'ARSON':6,\n",
    "        'HOMICIDE':7}\n",
    "\n",
    "for key in crimes.keys():\n",
    "    crime_06.loc[crime_06[\"Crime\"]==key,\"Weight\"]=crimes[key]\n",
    "\n",
    "crime_06.head()"
   ]
  },
  {
   "cell_type": "code",
   "execution_count": 84,
   "metadata": {},
   "outputs": [
    {
     "data": {
      "application/vnd.jupyter.widget-view+json": {
       "model_id": "24ea689a45284d828b022b82db1c771c",
       "version_major": 2,
       "version_minor": 0
      },
      "text/plain": [
       "Figure(layout=FigureLayout(height='420px'))"
      ]
     },
     "metadata": {},
     "output_type": "display_data"
    }
   ],
   "source": [
    "# Configure gmaps with API key.\n",
    "gmaps.configure(api_key=g_key)\n",
    "\n",
    "# Store 'Latitude' and 'Longitude' into  locations. \n",
    "locations = crime_06[[\"Latitude\", \"Longitude\"]].astype(float)\n",
    "weights=crime_06[\"Weight\"]\n",
    "\n",
    "# # Create a Heatmap layer\n",
    "fig = gmaps.figure()\n",
    "\n",
    "heat_layer = gmaps.heatmap_layer(locations, weights,dissipating=False, max_intensity=7, point_radius=0.005)\n",
    "\n",
    "fig.add_layer(heat_layer)\n",
    "\n",
    "fig"
   ]
  },
  {
   "cell_type": "code",
   "execution_count": 85,
   "metadata": {},
   "outputs": [
    {
     "data": {
      "text/html": [
       "<div>\n",
       "<style scoped>\n",
       "    .dataframe tbody tr th:only-of-type {\n",
       "        vertical-align: middle;\n",
       "    }\n",
       "\n",
       "    .dataframe tbody tr th {\n",
       "        vertical-align: top;\n",
       "    }\n",
       "\n",
       "    .dataframe thead th {\n",
       "        text-align: right;\n",
       "    }\n",
       "</style>\n",
       "<table border=\"1\" class=\"dataframe\">\n",
       "  <thead>\n",
       "    <tr style=\"text-align: right;\">\n",
       "      <th></th>\n",
       "      <th>Year</th>\n",
       "      <th>Longitude</th>\n",
       "      <th>Latitude</th>\n",
       "      <th>Location</th>\n",
       "      <th>Crime</th>\n",
       "      <th>Weight</th>\n",
       "    </tr>\n",
       "  </thead>\n",
       "  <tbody>\n",
       "    <tr>\n",
       "      <td>299928</td>\n",
       "      <td>2007</td>\n",
       "      <td>-87.749048</td>\n",
       "      <td>41.899565</td>\n",
       "      <td>(41.899564852, -87.74904798)</td>\n",
       "      <td>NARCOTICS</td>\n",
       "      <td>3.0</td>\n",
       "    </tr>\n",
       "    <tr>\n",
       "      <td>299927</td>\n",
       "      <td>2007</td>\n",
       "      <td>-87.654361</td>\n",
       "      <td>41.916832</td>\n",
       "      <td>(41.916832138, -87.654360726)</td>\n",
       "      <td>THEFT</td>\n",
       "      <td>2.0</td>\n",
       "    </tr>\n",
       "    <tr>\n",
       "      <td>299894</td>\n",
       "      <td>2007</td>\n",
       "      <td>-87.775112</td>\n",
       "      <td>41.894181</td>\n",
       "      <td>(41.894181327, -87.775112231)</td>\n",
       "      <td>THEFT</td>\n",
       "      <td>2.0</td>\n",
       "    </tr>\n",
       "    <tr>\n",
       "      <td>299919</td>\n",
       "      <td>2007</td>\n",
       "      <td>-87.711492</td>\n",
       "      <td>41.865185</td>\n",
       "      <td>(41.865185282, -87.711492252)</td>\n",
       "      <td>THEFT</td>\n",
       "      <td>2.0</td>\n",
       "    </tr>\n",
       "    <tr>\n",
       "      <td>299893</td>\n",
       "      <td>2007</td>\n",
       "      <td>-87.673059</td>\n",
       "      <td>41.747200</td>\n",
       "      <td>(41.747199949, -87.673059114)</td>\n",
       "      <td>THEFT</td>\n",
       "      <td>2.0</td>\n",
       "    </tr>\n",
       "  </tbody>\n",
       "</table>\n",
       "</div>"
      ],
      "text/plain": [
       "        Year  Longitude   Latitude                       Location      Crime  \\\n",
       "299928  2007 -87.749048  41.899565   (41.899564852, -87.74904798)  NARCOTICS   \n",
       "299927  2007 -87.654361  41.916832  (41.916832138, -87.654360726)      THEFT   \n",
       "299894  2007 -87.775112  41.894181  (41.894181327, -87.775112231)      THEFT   \n",
       "299919  2007 -87.711492  41.865185  (41.865185282, -87.711492252)      THEFT   \n",
       "299893  2007 -87.673059  41.747200  (41.747199949, -87.673059114)      THEFT   \n",
       "\n",
       "        Weight  \n",
       "299928     3.0  \n",
       "299927     2.0  \n",
       "299894     2.0  \n",
       "299919     2.0  \n",
       "299893     2.0  "
      ]
     },
     "execution_count": 85,
     "metadata": {},
     "output_type": "execute_result"
    }
   ],
   "source": [
    "#Set up weights for 2007 crimes\n",
    "crime_07[\"Crime\"].unique()\n",
    "\n",
    "crimes={'OTHER OFFENSE':0,\n",
    "        'GAMBLING':1,'CRIMINAL TRESPASS':1,'DECEPTIVE PRACTICE':1, 'STALKING':1,\n",
    "        'THEFT':2,'ROBBERY':2,'BURGLARY':2,'CRIMINAL DAMAGE':2,'MOTOR VEHICLE THEFT':2,\n",
    "        'NARCOTICS':3,\n",
    "        'BATTERY':4, 'ASSAULT':4,\n",
    "        'OFFENSE INVOLVING CHILDREN':5,'CRIMINAL SEXUAL ASSAULT':5,'SEX OFFENSE':5,\n",
    "        'ARSON':6,\n",
    "        'HOMICIDE':7}\n",
    "\n",
    "for key in crimes.keys():\n",
    "    crime_07.loc[crime_07[\"Crime\"]==key,\"Weight\"]=crimes[key]\n",
    "\n",
    "crime_07.head()"
   ]
  },
  {
   "cell_type": "code",
   "execution_count": 86,
   "metadata": {},
   "outputs": [
    {
     "data": {
      "application/vnd.jupyter.widget-view+json": {
       "model_id": "142b2c43522d48aca8e9f296216e9a16",
       "version_major": 2,
       "version_minor": 0
      },
      "text/plain": [
       "Figure(layout=FigureLayout(height='420px'))"
      ]
     },
     "metadata": {},
     "output_type": "display_data"
    }
   ],
   "source": [
    "# Configure gmaps with API key.\n",
    "gmaps.configure(api_key=g_key)\n",
    "\n",
    "# Store 'Latitude' and 'Longitude' into  locations. \n",
    "locations = crime_07[[\"Latitude\", \"Longitude\"]].astype(float)\n",
    "weights=crime_07[\"Weight\"]\n",
    "\n",
    "# # Create a Heatmap layer\n",
    "fig = gmaps.figure()\n",
    "\n",
    "heat_layer = gmaps.heatmap_layer(locations, weights,dissipating=False, max_intensity=7, point_radius=0.005)\n",
    "\n",
    "fig.add_layer(heat_layer)\n",
    "\n",
    "fig"
   ]
  },
  {
   "cell_type": "code",
   "execution_count": 87,
   "metadata": {},
   "outputs": [
    {
     "data": {
      "text/html": [
       "<div>\n",
       "<style scoped>\n",
       "    .dataframe tbody tr th:only-of-type {\n",
       "        vertical-align: middle;\n",
       "    }\n",
       "\n",
       "    .dataframe tbody tr th {\n",
       "        vertical-align: top;\n",
       "    }\n",
       "\n",
       "    .dataframe thead th {\n",
       "        text-align: right;\n",
       "    }\n",
       "</style>\n",
       "<table border=\"1\" class=\"dataframe\">\n",
       "  <thead>\n",
       "    <tr style=\"text-align: right;\">\n",
       "      <th></th>\n",
       "      <th>Year</th>\n",
       "      <th>Longitude</th>\n",
       "      <th>Latitude</th>\n",
       "      <th>Location</th>\n",
       "      <th>Crime</th>\n",
       "      <th>Weight</th>\n",
       "    </tr>\n",
       "  </thead>\n",
       "  <tbody>\n",
       "    <tr>\n",
       "      <td>300705</td>\n",
       "      <td>2008</td>\n",
       "      <td>-87.661215</td>\n",
       "      <td>41.998181</td>\n",
       "      <td>(41.998180611, -87.661214926)</td>\n",
       "      <td>BATTERY</td>\n",
       "      <td>4.0</td>\n",
       "    </tr>\n",
       "    <tr>\n",
       "      <td>300704</td>\n",
       "      <td>2008</td>\n",
       "      <td>-87.724174</td>\n",
       "      <td>41.858876</td>\n",
       "      <td>(41.858875593, -87.72417387)</td>\n",
       "      <td>THEFT</td>\n",
       "      <td>2.0</td>\n",
       "    </tr>\n",
       "    <tr>\n",
       "      <td>300603</td>\n",
       "      <td>2008</td>\n",
       "      <td>-87.649312</td>\n",
       "      <td>41.932713</td>\n",
       "      <td>(41.932713177, -87.64931178)</td>\n",
       "      <td>THEFT</td>\n",
       "      <td>2.0</td>\n",
       "    </tr>\n",
       "    <tr>\n",
       "      <td>300702</td>\n",
       "      <td>2008</td>\n",
       "      <td>-87.643691</td>\n",
       "      <td>41.918912</td>\n",
       "      <td>(41.918911788, -87.64369052)</td>\n",
       "      <td>THEFT</td>\n",
       "      <td>2.0</td>\n",
       "    </tr>\n",
       "    <tr>\n",
       "      <td>300680</td>\n",
       "      <td>2008</td>\n",
       "      <td>-87.639219</td>\n",
       "      <td>41.707943</td>\n",
       "      <td>(41.707943398, -87.639218687)</td>\n",
       "      <td>THEFT</td>\n",
       "      <td>2.0</td>\n",
       "    </tr>\n",
       "  </tbody>\n",
       "</table>\n",
       "</div>"
      ],
      "text/plain": [
       "        Year  Longitude   Latitude                       Location    Crime  \\\n",
       "300705  2008 -87.661215  41.998181  (41.998180611, -87.661214926)  BATTERY   \n",
       "300704  2008 -87.724174  41.858876   (41.858875593, -87.72417387)    THEFT   \n",
       "300603  2008 -87.649312  41.932713   (41.932713177, -87.64931178)    THEFT   \n",
       "300702  2008 -87.643691  41.918912   (41.918911788, -87.64369052)    THEFT   \n",
       "300680  2008 -87.639219  41.707943  (41.707943398, -87.639218687)    THEFT   \n",
       "\n",
       "        Weight  \n",
       "300705     4.0  \n",
       "300704     2.0  \n",
       "300603     2.0  \n",
       "300702     2.0  \n",
       "300680     2.0  "
      ]
     },
     "execution_count": 87,
     "metadata": {},
     "output_type": "execute_result"
    }
   ],
   "source": [
    "#Set up weights for 2008 crimes\n",
    "crime_08[\"Crime\"].unique()\n",
    "\n",
    "crimes={'OTHER OFFENSE':0,\n",
    "        'GAMBLING':1,'CRIMINAL TRESPASS':1,'DECEPTIVE PRACTICE':1, 'STALKING':1,\n",
    "        'THEFT':2,'ROBBERY':2,'BURGLARY':2,'CRIMINAL DAMAGE':2,'MOTOR VEHICLE THEFT':2,\n",
    "        'NARCOTICS':3,\n",
    "        'BATTERY':4, 'ASSAULT':4,\n",
    "        'OFFENSE INVOLVING CHILDREN':5,'CRIMINAL SEXUAL ASSAULT':5,'SEX OFFENSE':5,\n",
    "        'ARSON':6,\n",
    "        'HOMICIDE':7}\n",
    "\n",
    "for key in crimes.keys():\n",
    "    crime_08.loc[crime_08[\"Crime\"]==key,\"Weight\"]=crimes[key]\n",
    "\n",
    "crime_08.head()"
   ]
  },
  {
   "cell_type": "code",
   "execution_count": 88,
   "metadata": {},
   "outputs": [
    {
     "data": {
      "application/vnd.jupyter.widget-view+json": {
       "model_id": "5189d1dfb3f3456296fa2303016c0dcf",
       "version_major": 2,
       "version_minor": 0
      },
      "text/plain": [
       "Figure(layout=FigureLayout(height='420px'))"
      ]
     },
     "metadata": {},
     "output_type": "display_data"
    }
   ],
   "source": [
    "# Configure gmaps with API key.\n",
    "gmaps.configure(api_key=g_key)\n",
    "\n",
    "# Store 'Latitude' and 'Longitude' into  locations. \n",
    "locations = crime_08[[\"Latitude\", \"Longitude\"]].astype(float)\n",
    "weights=crime_08[\"Weight\"]\n",
    "\n",
    "# # Create a Heatmap layer\n",
    "fig = gmaps.figure()\n",
    "\n",
    "heat_layer = gmaps.heatmap_layer(locations, weights,dissipating=False, max_intensity=7, point_radius=0.005)\n",
    "\n",
    "fig.add_layer(heat_layer)\n",
    "\n",
    "fig"
   ]
  },
  {
   "cell_type": "code",
   "execution_count": 89,
   "metadata": {},
   "outputs": [
    {
     "data": {
      "text/html": [
       "<div>\n",
       "<style scoped>\n",
       "    .dataframe tbody tr th:only-of-type {\n",
       "        vertical-align: middle;\n",
       "    }\n",
       "\n",
       "    .dataframe tbody tr th {\n",
       "        vertical-align: top;\n",
       "    }\n",
       "\n",
       "    .dataframe thead th {\n",
       "        text-align: right;\n",
       "    }\n",
       "</style>\n",
       "<table border=\"1\" class=\"dataframe\">\n",
       "  <thead>\n",
       "    <tr style=\"text-align: right;\">\n",
       "      <th></th>\n",
       "      <th>Year</th>\n",
       "      <th>Longitude</th>\n",
       "      <th>Latitude</th>\n",
       "      <th>Location</th>\n",
       "      <th>Crime</th>\n",
       "      <th>Weight</th>\n",
       "    </tr>\n",
       "  </thead>\n",
       "  <tbody>\n",
       "    <tr>\n",
       "      <td>301457</td>\n",
       "      <td>2009</td>\n",
       "      <td>-87.706229</td>\n",
       "      <td>41.884613</td>\n",
       "      <td>(41.884613395, -87.706228705)</td>\n",
       "      <td>BATTERY</td>\n",
       "      <td>4.0</td>\n",
       "    </tr>\n",
       "    <tr>\n",
       "      <td>301497</td>\n",
       "      <td>2009</td>\n",
       "      <td>-87.632825</td>\n",
       "      <td>41.788074</td>\n",
       "      <td>(41.788074, -87.632825398)</td>\n",
       "      <td>ASSAULT</td>\n",
       "      <td>4.0</td>\n",
       "    </tr>\n",
       "    <tr>\n",
       "      <td>301459</td>\n",
       "      <td>2009</td>\n",
       "      <td>-87.753296</td>\n",
       "      <td>41.900994</td>\n",
       "      <td>(41.900994183, -87.753295971)</td>\n",
       "      <td>ASSAULT</td>\n",
       "      <td>4.0</td>\n",
       "    </tr>\n",
       "    <tr>\n",
       "      <td>301456</td>\n",
       "      <td>2009</td>\n",
       "      <td>-87.667226</td>\n",
       "      <td>41.937873</td>\n",
       "      <td>(41.937873353, -87.667225681)</td>\n",
       "      <td>THEFT</td>\n",
       "      <td>2.0</td>\n",
       "    </tr>\n",
       "    <tr>\n",
       "      <td>301455</td>\n",
       "      <td>2009</td>\n",
       "      <td>-87.672735</td>\n",
       "      <td>41.916838</td>\n",
       "      <td>(41.916837783, -87.672735319)</td>\n",
       "      <td>THEFT</td>\n",
       "      <td>2.0</td>\n",
       "    </tr>\n",
       "  </tbody>\n",
       "</table>\n",
       "</div>"
      ],
      "text/plain": [
       "        Year  Longitude   Latitude                       Location    Crime  \\\n",
       "301457  2009 -87.706229  41.884613  (41.884613395, -87.706228705)  BATTERY   \n",
       "301497  2009 -87.632825  41.788074     (41.788074, -87.632825398)  ASSAULT   \n",
       "301459  2009 -87.753296  41.900994  (41.900994183, -87.753295971)  ASSAULT   \n",
       "301456  2009 -87.667226  41.937873  (41.937873353, -87.667225681)    THEFT   \n",
       "301455  2009 -87.672735  41.916838  (41.916837783, -87.672735319)    THEFT   \n",
       "\n",
       "        Weight  \n",
       "301457     4.0  \n",
       "301497     4.0  \n",
       "301459     4.0  \n",
       "301456     2.0  \n",
       "301455     2.0  "
      ]
     },
     "execution_count": 89,
     "metadata": {},
     "output_type": "execute_result"
    }
   ],
   "source": [
    "#Set up weights for 2009 crimes\n",
    "crime_09[\"Crime\"].unique()\n",
    "\n",
    "crimes={'OTHER OFFENSE':0,\n",
    "        'GAMBLING':1,'CRIMINAL TRESPASS':1,'DECEPTIVE PRACTICE':1, 'STALKING':1,\n",
    "        'THEFT':2,'ROBBERY':2,'BURGLARY':2,'CRIMINAL DAMAGE':2,'MOTOR VEHICLE THEFT':2,\n",
    "        'NARCOTICS':3,'PROSTITUTION':3,\n",
    "        'BATTERY':4, 'ASSAULT':4,'WEAPONS VIOLATION':4,\n",
    "        'OFFENSE INVOLVING CHILDREN':5,'CRIMINAL SEXUAL ASSAULT':5,'SEX OFFENSE':5,\n",
    "        'ARSON':6,\n",
    "        'HOMICIDE':7}\n",
    "\n",
    "for key in crimes.keys():\n",
    "    crime_09.loc[crime_09[\"Crime\"]==key,\"Weight\"]=crimes[key]\n",
    "\n",
    "crime_09.head()"
   ]
  },
  {
   "cell_type": "code",
   "execution_count": 90,
   "metadata": {},
   "outputs": [
    {
     "data": {
      "application/vnd.jupyter.widget-view+json": {
       "model_id": "add7bc881323407380c4056a3fbb4727",
       "version_major": 2,
       "version_minor": 0
      },
      "text/plain": [
       "Figure(layout=FigureLayout(height='420px'))"
      ]
     },
     "metadata": {},
     "output_type": "display_data"
    }
   ],
   "source": [
    "# Configure gmaps with API key.\n",
    "gmaps.configure(api_key=g_key)\n",
    "\n",
    "# Store 'Latitude' and 'Longitude' into  locations. \n",
    "locations = crime_09[[\"Latitude\", \"Longitude\"]].astype(float)\n",
    "weights=crime_09[\"Weight\"]\n",
    "\n",
    "# # Create a Heatmap layer\n",
    "fig = gmaps.figure()\n",
    "\n",
    "heat_layer = gmaps.heatmap_layer(locations, weights,dissipating=False, max_intensity=7, point_radius=0.005)\n",
    "\n",
    "fig.add_layer(heat_layer)\n",
    "\n",
    "fig"
   ]
  },
  {
   "cell_type": "code",
   "execution_count": 91,
   "metadata": {},
   "outputs": [
    {
     "data": {
      "text/html": [
       "<div>\n",
       "<style scoped>\n",
       "    .dataframe tbody tr th:only-of-type {\n",
       "        vertical-align: middle;\n",
       "    }\n",
       "\n",
       "    .dataframe tbody tr th {\n",
       "        vertical-align: top;\n",
       "    }\n",
       "\n",
       "    .dataframe thead th {\n",
       "        text-align: right;\n",
       "    }\n",
       "</style>\n",
       "<table border=\"1\" class=\"dataframe\">\n",
       "  <thead>\n",
       "    <tr style=\"text-align: right;\">\n",
       "      <th></th>\n",
       "      <th>Year</th>\n",
       "      <th>Longitude</th>\n",
       "      <th>Latitude</th>\n",
       "      <th>Location</th>\n",
       "      <th>Crime</th>\n",
       "      <th>Weight</th>\n",
       "    </tr>\n",
       "  </thead>\n",
       "  <tbody>\n",
       "    <tr>\n",
       "      <td>302234</td>\n",
       "      <td>2010</td>\n",
       "      <td>-87.664427</td>\n",
       "      <td>41.939756</td>\n",
       "      <td>(41.939756083, -87.6644274)</td>\n",
       "      <td>THEFT</td>\n",
       "      <td>2.0</td>\n",
       "    </tr>\n",
       "    <tr>\n",
       "      <td>302235</td>\n",
       "      <td>2010</td>\n",
       "      <td>-87.660287</td>\n",
       "      <td>41.684841</td>\n",
       "      <td>(41.6848407, -87.660286954)</td>\n",
       "      <td>NARCOTICS</td>\n",
       "      <td>3.0</td>\n",
       "    </tr>\n",
       "    <tr>\n",
       "      <td>302233</td>\n",
       "      <td>2010</td>\n",
       "      <td>-87.718361</td>\n",
       "      <td>41.753955</td>\n",
       "      <td>(41.753955366, -87.718361258)</td>\n",
       "      <td>BATTERY</td>\n",
       "      <td>4.0</td>\n",
       "    </tr>\n",
       "    <tr>\n",
       "      <td>302272</td>\n",
       "      <td>2010</td>\n",
       "      <td>-87.694520</td>\n",
       "      <td>41.881086</td>\n",
       "      <td>(41.88108562, -87.694519666)</td>\n",
       "      <td>THEFT</td>\n",
       "      <td>2.0</td>\n",
       "    </tr>\n",
       "    <tr>\n",
       "      <td>302236</td>\n",
       "      <td>2010</td>\n",
       "      <td>-87.764663</td>\n",
       "      <td>41.774343</td>\n",
       "      <td>(41.774342557, -87.764663149)</td>\n",
       "      <td>MOTOR VEHICLE THEFT</td>\n",
       "      <td>2.0</td>\n",
       "    </tr>\n",
       "  </tbody>\n",
       "</table>\n",
       "</div>"
      ],
      "text/plain": [
       "        Year  Longitude   Latitude                       Location  \\\n",
       "302234  2010 -87.664427  41.939756    (41.939756083, -87.6644274)   \n",
       "302235  2010 -87.660287  41.684841    (41.6848407, -87.660286954)   \n",
       "302233  2010 -87.718361  41.753955  (41.753955366, -87.718361258)   \n",
       "302272  2010 -87.694520  41.881086   (41.88108562, -87.694519666)   \n",
       "302236  2010 -87.764663  41.774343  (41.774342557, -87.764663149)   \n",
       "\n",
       "                      Crime  Weight  \n",
       "302234                THEFT     2.0  \n",
       "302235            NARCOTICS     3.0  \n",
       "302233              BATTERY     4.0  \n",
       "302272                THEFT     2.0  \n",
       "302236  MOTOR VEHICLE THEFT     2.0  "
      ]
     },
     "execution_count": 91,
     "metadata": {},
     "output_type": "execute_result"
    }
   ],
   "source": [
    "#Set up weights for 2010 crimes\n",
    "crime_10[\"Crime\"].unique()\n",
    "\n",
    "crimes={'OTHER OFFENSE':0,\n",
    "        'GAMBLING':1,'CRIMINAL TRESPASS':1,'DECEPTIVE PRACTICE':1, 'STALKING':1,\n",
    "        'THEFT':2,'ROBBERY':2,'BURGLARY':2,'CRIMINAL DAMAGE':2,'MOTOR VEHICLE THEFT':2,\n",
    "        'NARCOTICS':3,'PROSTITUTION':3,\n",
    "        'BATTERY':4, 'ASSAULT':4,'WEAPONS VIOLATION':4,\n",
    "        'OFFENSE INVOLVING CHILDREN':5,'CRIMINAL SEXUAL ASSAULT':5,'SEX OFFENSE':5,\n",
    "        'ARSON':6,\n",
    "        'HOMICIDE':7}\n",
    "\n",
    "for key in crimes.keys():\n",
    "    crime_10.loc[crime_10[\"Crime\"]==key,\"Weight\"]=crimes[key]\n",
    "\n",
    "crime_10.head()"
   ]
  },
  {
   "cell_type": "code",
   "execution_count": 92,
   "metadata": {},
   "outputs": [
    {
     "data": {
      "application/vnd.jupyter.widget-view+json": {
       "model_id": "bb2ee273679d4410a70edebc2d73ab25",
       "version_major": 2,
       "version_minor": 0
      },
      "text/plain": [
       "Figure(layout=FigureLayout(height='420px'))"
      ]
     },
     "metadata": {},
     "output_type": "display_data"
    }
   ],
   "source": [
    "# Configure gmaps with API key.\n",
    "gmaps.configure(api_key=g_key)\n",
    "\n",
    "# Store 'Latitude' and 'Longitude' into  locations. \n",
    "locations = crime_10[[\"Latitude\", \"Longitude\"]].astype(float)\n",
    "weights=crime_10[\"Weight\"]\n",
    "\n",
    "# # Create a Heatmap layer\n",
    "fig = gmaps.figure()\n",
    "\n",
    "heat_layer = gmaps.heatmap_layer(locations, weights,dissipating=False, max_intensity=7, point_radius=0.005)\n",
    "\n",
    "fig.add_layer(heat_layer)\n",
    "\n",
    "fig"
   ]
  },
  {
   "cell_type": "code",
   "execution_count": 93,
   "metadata": {},
   "outputs": [
    {
     "data": {
      "text/html": [
       "<div>\n",
       "<style scoped>\n",
       "    .dataframe tbody tr th:only-of-type {\n",
       "        vertical-align: middle;\n",
       "    }\n",
       "\n",
       "    .dataframe tbody tr th {\n",
       "        vertical-align: top;\n",
       "    }\n",
       "\n",
       "    .dataframe thead th {\n",
       "        text-align: right;\n",
       "    }\n",
       "</style>\n",
       "<table border=\"1\" class=\"dataframe\">\n",
       "  <thead>\n",
       "    <tr style=\"text-align: right;\">\n",
       "      <th></th>\n",
       "      <th>Year</th>\n",
       "      <th>Longitude</th>\n",
       "      <th>Latitude</th>\n",
       "      <th>Location</th>\n",
       "      <th>Crime</th>\n",
       "      <th>Weight</th>\n",
       "    </tr>\n",
       "  </thead>\n",
       "  <tbody>\n",
       "    <tr>\n",
       "      <td>168333</td>\n",
       "      <td>2011</td>\n",
       "      <td>-87.624158</td>\n",
       "      <td>41.871427</td>\n",
       "      <td>(41.871427308, -87.624157966)</td>\n",
       "      <td>CRIMINAL SEXUAL ASSAULT</td>\n",
       "      <td>5.0</td>\n",
       "    </tr>\n",
       "    <tr>\n",
       "      <td>465203</td>\n",
       "      <td>2011</td>\n",
       "      <td>-87.569855</td>\n",
       "      <td>41.769231</td>\n",
       "      <td>(41.769231153, -87.569854828)</td>\n",
       "      <td>DECEPTIVE PRACTICE</td>\n",
       "      <td>1.0</td>\n",
       "    </tr>\n",
       "    <tr>\n",
       "      <td>415017</td>\n",
       "      <td>2011</td>\n",
       "      <td>-87.726700</td>\n",
       "      <td>41.879748</td>\n",
       "      <td>(41.87974804, -87.726700354)</td>\n",
       "      <td>DECEPTIVE PRACTICE</td>\n",
       "      <td>1.0</td>\n",
       "    </tr>\n",
       "    <tr>\n",
       "      <td>314612</td>\n",
       "      <td>2011</td>\n",
       "      <td>-87.644611</td>\n",
       "      <td>41.772972</td>\n",
       "      <td>(41.772972076, -87.644610871)</td>\n",
       "      <td>NARCOTICS</td>\n",
       "      <td>3.0</td>\n",
       "    </tr>\n",
       "    <tr>\n",
       "      <td>462961</td>\n",
       "      <td>2011</td>\n",
       "      <td>-87.640578</td>\n",
       "      <td>41.836297</td>\n",
       "      <td>(41.836296774, -87.640578349)</td>\n",
       "      <td>DECEPTIVE PRACTICE</td>\n",
       "      <td>1.0</td>\n",
       "    </tr>\n",
       "  </tbody>\n",
       "</table>\n",
       "</div>"
      ],
      "text/plain": [
       "        Year  Longitude   Latitude                       Location  \\\n",
       "168333  2011 -87.624158  41.871427  (41.871427308, -87.624157966)   \n",
       "465203  2011 -87.569855  41.769231  (41.769231153, -87.569854828)   \n",
       "415017  2011 -87.726700  41.879748   (41.87974804, -87.726700354)   \n",
       "314612  2011 -87.644611  41.772972  (41.772972076, -87.644610871)   \n",
       "462961  2011 -87.640578  41.836297  (41.836296774, -87.640578349)   \n",
       "\n",
       "                          Crime  Weight  \n",
       "168333  CRIMINAL SEXUAL ASSAULT     5.0  \n",
       "465203       DECEPTIVE PRACTICE     1.0  \n",
       "415017       DECEPTIVE PRACTICE     1.0  \n",
       "314612                NARCOTICS     3.0  \n",
       "462961       DECEPTIVE PRACTICE     1.0  "
      ]
     },
     "execution_count": 93,
     "metadata": {},
     "output_type": "execute_result"
    }
   ],
   "source": [
    "#Set up weights for 2011 crimes\n",
    "crime_11[\"Crime\"].unique()\n",
    "\n",
    "crimes={'OTHER OFFENSE':0,\n",
    "        'GAMBLING':1,'CRIMINAL TRESPASS':1,'DECEPTIVE PRACTICE':1, 'STALKING':1,'INTERFERENCE WITH PUBLIC OFFICER':1,\n",
    "        'THEFT':2,'ROBBERY':2,'BURGLARY':2,'CRIMINAL DAMAGE':2,'MOTOR VEHICLE THEFT':2,'INTIMIDATION':2,\n",
    "        'NARCOTICS':3,'PROSTITUTION':3,\n",
    "        'BATTERY':4, 'ASSAULT':4,'WEAPONS VIOLATION':4,\n",
    "        'OFFENSE INVOLVING CHILDREN':5,'CRIMINAL SEXUAL ASSAULT':5,'SEX OFFENSE':5,\n",
    "        'ARSON':6,\n",
    "        'HOMICIDE':7}\n",
    "\n",
    "for key in crimes.keys():\n",
    "    crime_11.loc[crime_11[\"Crime\"]==key,\"Weight\"]=crimes[key]\n",
    "\n",
    "crime_11.head()"
   ]
  },
  {
   "cell_type": "code",
   "execution_count": 94,
   "metadata": {},
   "outputs": [
    {
     "data": {
      "application/vnd.jupyter.widget-view+json": {
       "model_id": "9116d0202cd74e3eb31a452d8c32723d",
       "version_major": 2,
       "version_minor": 0
      },
      "text/plain": [
       "Figure(layout=FigureLayout(height='420px'))"
      ]
     },
     "metadata": {},
     "output_type": "display_data"
    }
   ],
   "source": [
    "# Configure gmaps with API key.\n",
    "gmaps.configure(api_key=g_key)\n",
    "\n",
    "# Store 'Latitude' and 'Longitude' into  locations. \n",
    "locations = crime_11[[\"Latitude\", \"Longitude\"]].astype(float)\n",
    "weights=crime_11[\"Weight\"]\n",
    "\n",
    "# # Create a Heatmap layer\n",
    "fig = gmaps.figure()\n",
    "\n",
    "heat_layer = gmaps.heatmap_layer(locations, weights,dissipating=False, max_intensity=7, point_radius=0.005)\n",
    "\n",
    "fig.add_layer(heat_layer)\n",
    "\n",
    "fig"
   ]
  },
  {
   "cell_type": "code",
   "execution_count": 95,
   "metadata": {},
   "outputs": [
    {
     "data": {
      "text/html": [
       "<div>\n",
       "<style scoped>\n",
       "    .dataframe tbody tr th:only-of-type {\n",
       "        vertical-align: middle;\n",
       "    }\n",
       "\n",
       "    .dataframe tbody tr th {\n",
       "        vertical-align: top;\n",
       "    }\n",
       "\n",
       "    .dataframe thead th {\n",
       "        text-align: right;\n",
       "    }\n",
       "</style>\n",
       "<table border=\"1\" class=\"dataframe\">\n",
       "  <thead>\n",
       "    <tr style=\"text-align: right;\">\n",
       "      <th></th>\n",
       "      <th>Year</th>\n",
       "      <th>Longitude</th>\n",
       "      <th>Latitude</th>\n",
       "      <th>Location</th>\n",
       "      <th>Crime</th>\n",
       "      <th>Weight</th>\n",
       "    </tr>\n",
       "  </thead>\n",
       "  <tbody>\n",
       "    <tr>\n",
       "      <td>311530</td>\n",
       "      <td>2012</td>\n",
       "      <td>-87.685221</td>\n",
       "      <td>41.791334</td>\n",
       "      <td>(41.791334401, -87.685220932)</td>\n",
       "      <td>CRIMINAL SEXUAL ASSAULT</td>\n",
       "      <td>5.0</td>\n",
       "    </tr>\n",
       "    <tr>\n",
       "      <td>409358</td>\n",
       "      <td>2012</td>\n",
       "      <td>-87.677569</td>\n",
       "      <td>41.732925</td>\n",
       "      <td>(41.732925165, -87.67756879)</td>\n",
       "      <td>THEFT</td>\n",
       "      <td>2.0</td>\n",
       "    </tr>\n",
       "    <tr>\n",
       "      <td>476911</td>\n",
       "      <td>2012</td>\n",
       "      <td>-87.674277</td>\n",
       "      <td>41.905908</td>\n",
       "      <td>(41.905908138, -87.674277024)</td>\n",
       "      <td>DECEPTIVE PRACTICE</td>\n",
       "      <td>1.0</td>\n",
       "    </tr>\n",
       "    <tr>\n",
       "      <td>359312</td>\n",
       "      <td>2012</td>\n",
       "      <td>-87.772715</td>\n",
       "      <td>41.943983</td>\n",
       "      <td>(41.943982963, -87.772715168)</td>\n",
       "      <td>DECEPTIVE PRACTICE</td>\n",
       "      <td>1.0</td>\n",
       "    </tr>\n",
       "    <tr>\n",
       "      <td>303644</td>\n",
       "      <td>2012</td>\n",
       "      <td>-87.687182</td>\n",
       "      <td>41.818423</td>\n",
       "      <td>(41.81842328, -87.687182023)</td>\n",
       "      <td>BATTERY</td>\n",
       "      <td>4.0</td>\n",
       "    </tr>\n",
       "  </tbody>\n",
       "</table>\n",
       "</div>"
      ],
      "text/plain": [
       "        Year  Longitude   Latitude                       Location  \\\n",
       "311530  2012 -87.685221  41.791334  (41.791334401, -87.685220932)   \n",
       "409358  2012 -87.677569  41.732925   (41.732925165, -87.67756879)   \n",
       "476911  2012 -87.674277  41.905908  (41.905908138, -87.674277024)   \n",
       "359312  2012 -87.772715  41.943983  (41.943982963, -87.772715168)   \n",
       "303644  2012 -87.687182  41.818423   (41.81842328, -87.687182023)   \n",
       "\n",
       "                          Crime  Weight  \n",
       "311530  CRIMINAL SEXUAL ASSAULT     5.0  \n",
       "409358                    THEFT     2.0  \n",
       "476911       DECEPTIVE PRACTICE     1.0  \n",
       "359312       DECEPTIVE PRACTICE     1.0  \n",
       "303644                  BATTERY     4.0  "
      ]
     },
     "execution_count": 95,
     "metadata": {},
     "output_type": "execute_result"
    }
   ],
   "source": [
    "#Set up weights for 2012 crimes\n",
    "crime_12[\"Crime\"].unique()\n",
    "\n",
    "crimes={'OTHER OFFENSE':0,\n",
    "        'GAMBLING':1,'CRIMINAL TRESPASS':1,'DECEPTIVE PRACTICE':1, 'STALKING':1,'INTERFERENCE WITH PUBLIC OFFICER':1,\n",
    "        'THEFT':2,'ROBBERY':2,'BURGLARY':2,'CRIMINAL DAMAGE':2,'MOTOR VEHICLE THEFT':2,'INTIMIDATION':2,\n",
    "        'NARCOTICS':3,'PROSTITUTION':3,\n",
    "        'BATTERY':4, 'ASSAULT':4,'WEAPONS VIOLATION':4,\n",
    "        'OFFENSE INVOLVING CHILDREN':5,'CRIMINAL SEXUAL ASSAULT':5,'SEX OFFENSE':5,\n",
    "        'ARSON':6,\n",
    "        'HOMICIDE':7}\n",
    "\n",
    "for key in crimes.keys():\n",
    "    crime_12.loc[crime_12[\"Crime\"]==key,\"Weight\"]=crimes[key]\n",
    "\n",
    "crime_12.head()"
   ]
  },
  {
   "cell_type": "code",
   "execution_count": 96,
   "metadata": {},
   "outputs": [
    {
     "data": {
      "application/vnd.jupyter.widget-view+json": {
       "model_id": "3d6957ece00544bfb91bb33502680220",
       "version_major": 2,
       "version_minor": 0
      },
      "text/plain": [
       "Figure(layout=FigureLayout(height='420px'))"
      ]
     },
     "metadata": {},
     "output_type": "display_data"
    }
   ],
   "source": [
    "# Configure gmaps with API key.\n",
    "gmaps.configure(api_key=g_key)\n",
    "\n",
    "# Store 'Latitude' and 'Longitude' into  locations. \n",
    "locations = crime_12[[\"Latitude\", \"Longitude\"]].astype(float)\n",
    "weights=crime_12[\"Weight\"]\n",
    "\n",
    "# # Create a Heatmap layer\n",
    "fig = gmaps.figure()\n",
    "\n",
    "heat_layer = gmaps.heatmap_layer(locations, weights,dissipating=False, max_intensity=7, point_radius=0.005)\n",
    "\n",
    "fig.add_layer(heat_layer)\n",
    "\n",
    "fig"
   ]
  },
  {
   "cell_type": "code",
   "execution_count": 97,
   "metadata": {},
   "outputs": [
    {
     "data": {
      "text/html": [
       "<div>\n",
       "<style scoped>\n",
       "    .dataframe tbody tr th:only-of-type {\n",
       "        vertical-align: middle;\n",
       "    }\n",
       "\n",
       "    .dataframe tbody tr th {\n",
       "        vertical-align: top;\n",
       "    }\n",
       "\n",
       "    .dataframe thead th {\n",
       "        text-align: right;\n",
       "    }\n",
       "</style>\n",
       "<table border=\"1\" class=\"dataframe\">\n",
       "  <thead>\n",
       "    <tr style=\"text-align: right;\">\n",
       "      <th></th>\n",
       "      <th>Year</th>\n",
       "      <th>Longitude</th>\n",
       "      <th>Latitude</th>\n",
       "      <th>Location</th>\n",
       "      <th>Crime</th>\n",
       "      <th>Weight</th>\n",
       "    </tr>\n",
       "  </thead>\n",
       "  <tbody>\n",
       "    <tr>\n",
       "      <td>503911</td>\n",
       "      <td>2013</td>\n",
       "      <td>-87.714819</td>\n",
       "      <td>41.932854</td>\n",
       "      <td>(41.932854232, -87.714819222)</td>\n",
       "      <td>CRIMINAL DAMAGE</td>\n",
       "      <td>2.0</td>\n",
       "    </tr>\n",
       "    <tr>\n",
       "      <td>979337</td>\n",
       "      <td>2013</td>\n",
       "      <td>-87.705627</td>\n",
       "      <td>41.781299</td>\n",
       "      <td>(41.781299321, -87.705626793)</td>\n",
       "      <td>CRIMINAL SEXUAL ASSAULT</td>\n",
       "      <td>5.0</td>\n",
       "    </tr>\n",
       "    <tr>\n",
       "      <td>326031</td>\n",
       "      <td>2013</td>\n",
       "      <td>-87.668006</td>\n",
       "      <td>41.699285</td>\n",
       "      <td>(41.699285166, -87.668005536)</td>\n",
       "      <td>DECEPTIVE PRACTICE</td>\n",
       "      <td>1.0</td>\n",
       "    </tr>\n",
       "    <tr>\n",
       "      <td>476961</td>\n",
       "      <td>2013</td>\n",
       "      <td>-87.660575</td>\n",
       "      <td>41.882053</td>\n",
       "      <td>(41.882052598, -87.660575205)</td>\n",
       "      <td>THEFT</td>\n",
       "      <td>2.0</td>\n",
       "    </tr>\n",
       "    <tr>\n",
       "      <td>467094</td>\n",
       "      <td>2013</td>\n",
       "      <td>-87.573529</td>\n",
       "      <td>41.750811</td>\n",
       "      <td>(41.750811099, -87.573528956)</td>\n",
       "      <td>THEFT</td>\n",
       "      <td>2.0</td>\n",
       "    </tr>\n",
       "  </tbody>\n",
       "</table>\n",
       "</div>"
      ],
      "text/plain": [
       "        Year  Longitude   Latitude                       Location  \\\n",
       "503911  2013 -87.714819  41.932854  (41.932854232, -87.714819222)   \n",
       "979337  2013 -87.705627  41.781299  (41.781299321, -87.705626793)   \n",
       "326031  2013 -87.668006  41.699285  (41.699285166, -87.668005536)   \n",
       "476961  2013 -87.660575  41.882053  (41.882052598, -87.660575205)   \n",
       "467094  2013 -87.573529  41.750811  (41.750811099, -87.573528956)   \n",
       "\n",
       "                          Crime  Weight  \n",
       "503911          CRIMINAL DAMAGE     2.0  \n",
       "979337  CRIMINAL SEXUAL ASSAULT     5.0  \n",
       "326031       DECEPTIVE PRACTICE     1.0  \n",
       "476961                    THEFT     2.0  \n",
       "467094                    THEFT     2.0  "
      ]
     },
     "execution_count": 97,
     "metadata": {},
     "output_type": "execute_result"
    }
   ],
   "source": [
    "#Set up weights for 2013 crimes\n",
    "crime_13[\"Crime\"].unique()\n",
    "\n",
    "crimes={'OTHER OFFENSE':0,\n",
    "        'GAMBLING':1,'CRIMINAL TRESPASS':1,'DECEPTIVE PRACTICE':1, 'STALKING':1,'INTERFERENCE WITH PUBLIC OFFICER':1,'OBSCENITY':1,\n",
    "        'THEFT':2,'ROBBERY':2,'BURGLARY':2,'CRIMINAL DAMAGE':2,'MOTOR VEHICLE THEFT':2,'INTIMIDATION':2,\n",
    "        'NARCOTICS':3,'PROSTITUTION':3,'HUMAN TRAFFICKING':3,\n",
    "        'BATTERY':4, 'ASSAULT':4,'WEAPONS VIOLATION':4,\n",
    "        'OFFENSE INVOLVING CHILDREN':5,'CRIMINAL SEXUAL ASSAULT':5,'SEX OFFENSE':5,\n",
    "        'ARSON':6,\n",
    "        'HOMICIDE':7}\n",
    "\n",
    "for key in crimes.keys():\n",
    "    crime_13.loc[crime_13[\"Crime\"]==key,\"Weight\"]=crimes[key]\n",
    "\n",
    "crime_13.head()"
   ]
  },
  {
   "cell_type": "code",
   "execution_count": 98,
   "metadata": {},
   "outputs": [
    {
     "data": {
      "application/vnd.jupyter.widget-view+json": {
       "model_id": "ca434160961e4100ad97f54c7581e2cf",
       "version_major": 2,
       "version_minor": 0
      },
      "text/plain": [
       "Figure(layout=FigureLayout(height='420px'))"
      ]
     },
     "metadata": {},
     "output_type": "display_data"
    }
   ],
   "source": [
    "# Configure gmaps with API key.\n",
    "gmaps.configure(api_key=g_key)\n",
    "\n",
    "# Store 'Latitude' and 'Longitude' into  locations. \n",
    "locations = crime_13[[\"Latitude\", \"Longitude\"]].astype(float)\n",
    "weights=crime_13[\"Weight\"]\n",
    "\n",
    "# # Create a Heatmap layer\n",
    "fig = gmaps.figure()\n",
    "\n",
    "heat_layer = gmaps.heatmap_layer(locations, weights,dissipating=False, max_intensity=7, point_radius=0.005)\n",
    "\n",
    "fig.add_layer(heat_layer)\n",
    "\n",
    "fig"
   ]
  },
  {
   "cell_type": "code",
   "execution_count": 99,
   "metadata": {},
   "outputs": [
    {
     "data": {
      "text/html": [
       "<div>\n",
       "<style scoped>\n",
       "    .dataframe tbody tr th:only-of-type {\n",
       "        vertical-align: middle;\n",
       "    }\n",
       "\n",
       "    .dataframe tbody tr th {\n",
       "        vertical-align: top;\n",
       "    }\n",
       "\n",
       "    .dataframe thead th {\n",
       "        text-align: right;\n",
       "    }\n",
       "</style>\n",
       "<table border=\"1\" class=\"dataframe\">\n",
       "  <thead>\n",
       "    <tr style=\"text-align: right;\">\n",
       "      <th></th>\n",
       "      <th>Year</th>\n",
       "      <th>Longitude</th>\n",
       "      <th>Latitude</th>\n",
       "      <th>Location</th>\n",
       "      <th>Crime</th>\n",
       "      <th>Weight</th>\n",
       "    </tr>\n",
       "  </thead>\n",
       "  <tbody>\n",
       "    <tr>\n",
       "      <td>397915</td>\n",
       "      <td>2014</td>\n",
       "      <td>-87.603879</td>\n",
       "      <td>41.797532</td>\n",
       "      <td>(41.797531761, -87.603878558)</td>\n",
       "      <td>THEFT</td>\n",
       "      <td>2.0</td>\n",
       "    </tr>\n",
       "    <tr>\n",
       "      <td>364780</td>\n",
       "      <td>2014</td>\n",
       "      <td>-87.651172</td>\n",
       "      <td>41.879151</td>\n",
       "      <td>(41.879151347, -87.651172178)</td>\n",
       "      <td>THEFT</td>\n",
       "      <td>2.0</td>\n",
       "    </tr>\n",
       "    <tr>\n",
       "      <td>314697</td>\n",
       "      <td>2014</td>\n",
       "      <td>-87.695678</td>\n",
       "      <td>41.858748</td>\n",
       "      <td>(41.85874836, -87.695678098)</td>\n",
       "      <td>THEFT</td>\n",
       "      <td>2.0</td>\n",
       "    </tr>\n",
       "    <tr>\n",
       "      <td>313891</td>\n",
       "      <td>2014</td>\n",
       "      <td>-87.724109</td>\n",
       "      <td>41.783254</td>\n",
       "      <td>(41.783253963, -87.724109204)</td>\n",
       "      <td>DECEPTIVE PRACTICE</td>\n",
       "      <td>1.0</td>\n",
       "    </tr>\n",
       "    <tr>\n",
       "      <td>397604</td>\n",
       "      <td>2014</td>\n",
       "      <td>-87.714276</td>\n",
       "      <td>41.775144</td>\n",
       "      <td>(41.775144146, -87.714276487)</td>\n",
       "      <td>DECEPTIVE PRACTICE</td>\n",
       "      <td>1.0</td>\n",
       "    </tr>\n",
       "  </tbody>\n",
       "</table>\n",
       "</div>"
      ],
      "text/plain": [
       "        Year  Longitude   Latitude                       Location  \\\n",
       "397915  2014 -87.603879  41.797532  (41.797531761, -87.603878558)   \n",
       "364780  2014 -87.651172  41.879151  (41.879151347, -87.651172178)   \n",
       "314697  2014 -87.695678  41.858748   (41.85874836, -87.695678098)   \n",
       "313891  2014 -87.724109  41.783254  (41.783253963, -87.724109204)   \n",
       "397604  2014 -87.714276  41.775144  (41.775144146, -87.714276487)   \n",
       "\n",
       "                     Crime  Weight  \n",
       "397915               THEFT     2.0  \n",
       "364780               THEFT     2.0  \n",
       "314697               THEFT     2.0  \n",
       "313891  DECEPTIVE PRACTICE     1.0  \n",
       "397604  DECEPTIVE PRACTICE     1.0  "
      ]
     },
     "execution_count": 99,
     "metadata": {},
     "output_type": "execute_result"
    }
   ],
   "source": [
    "#Set up weights for 2014 crimes\n",
    "crime_14[\"Crime\"].unique()\n",
    "\n",
    "crimes={'OTHER OFFENSE':0,\n",
    "        'GAMBLING':1,'CRIMINAL TRESPASS':1,'DECEPTIVE PRACTICE':1, 'STALKING':1,'INTERFERENCE WITH PUBLIC OFFICER':1,\n",
    "        'OBSCENITY':1,'PUBLIC PEACE VIOLATION':1,\n",
    "        'THEFT':2,'ROBBERY':2,'BURGLARY':2,'CRIMINAL DAMAGE':2,'MOTOR VEHICLE THEFT':2,'INTIMIDATION':2,\n",
    "        'NARCOTICS':3,'PROSTITUTION':3,'HUMAN TRAFFICKING':3,\n",
    "        'BATTERY':4, 'ASSAULT':4,'WEAPONS VIOLATION':4,\n",
    "        'OFFENSE INVOLVING CHILDREN':5,'CRIMINAL SEXUAL ASSAULT':5,'SEX OFFENSE':5,\n",
    "        'ARSON':6,\n",
    "        'HOMICIDE':7}\n",
    "\n",
    "for key in crimes.keys():\n",
    "    crime_14.loc[crime_14[\"Crime\"]==key,\"Weight\"]=crimes[key]\n",
    "\n",
    "crime_14.head()"
   ]
  },
  {
   "cell_type": "code",
   "execution_count": 100,
   "metadata": {},
   "outputs": [
    {
     "data": {
      "application/vnd.jupyter.widget-view+json": {
       "model_id": "678bfebe220243c894d428554be211f3",
       "version_major": 2,
       "version_minor": 0
      },
      "text/plain": [
       "Figure(layout=FigureLayout(height='420px'))"
      ]
     },
     "metadata": {},
     "output_type": "display_data"
    }
   ],
   "source": [
    "# Configure gmaps with API key.\n",
    "gmaps.configure(api_key=g_key)\n",
    "\n",
    "# Store 'Latitude' and 'Longitude' into  locations. \n",
    "locations = crime_14[[\"Latitude\", \"Longitude\"]].astype(float)\n",
    "weights=crime_14[\"Weight\"]\n",
    "\n",
    "# # Create a Heatmap layer\n",
    "fig = gmaps.figure()\n",
    "\n",
    "heat_layer = gmaps.heatmap_layer(locations, weights,dissipating=False, max_intensity=7, point_radius=0.005)\n",
    "\n",
    "fig.add_layer(heat_layer)\n",
    "\n",
    "fig"
   ]
  },
  {
   "cell_type": "markdown",
   "metadata": {},
   "source": [
    "Chicago's crime count was very low at the beginning of the decade\n",
    "-------------\n",
    "but spiked significantly from 2015-2017 as the crime"
   ]
  },
  {
   "cell_type": "code",
   "execution_count": 101,
   "metadata": {},
   "outputs": [
    {
     "data": {
      "text/html": [
       "<div>\n",
       "<style scoped>\n",
       "    .dataframe tbody tr th:only-of-type {\n",
       "        vertical-align: middle;\n",
       "    }\n",
       "\n",
       "    .dataframe tbody tr th {\n",
       "        vertical-align: top;\n",
       "    }\n",
       "\n",
       "    .dataframe thead th {\n",
       "        text-align: right;\n",
       "    }\n",
       "</style>\n",
       "<table border=\"1\" class=\"dataframe\">\n",
       "  <thead>\n",
       "    <tr style=\"text-align: right;\">\n",
       "      <th></th>\n",
       "      <th>Year</th>\n",
       "      <th>Longitude</th>\n",
       "      <th>Latitude</th>\n",
       "      <th>Location</th>\n",
       "      <th>Crime</th>\n",
       "      <th>Weight</th>\n",
       "    </tr>\n",
       "  </thead>\n",
       "  <tbody>\n",
       "    <tr>\n",
       "      <td>373505</td>\n",
       "      <td>2015</td>\n",
       "      <td>-87.639052</td>\n",
       "      <td>41.702341</td>\n",
       "      <td>(41.70234122, -87.639051898)</td>\n",
       "      <td>THEFT</td>\n",
       "      <td>2.0</td>\n",
       "    </tr>\n",
       "    <tr>\n",
       "      <td>373192</td>\n",
       "      <td>2015</td>\n",
       "      <td>-87.621867</td>\n",
       "      <td>41.681648</td>\n",
       "      <td>(41.681648141, -87.621867369)</td>\n",
       "      <td>THEFT</td>\n",
       "      <td>2.0</td>\n",
       "    </tr>\n",
       "    <tr>\n",
       "      <td>356768</td>\n",
       "      <td>2015</td>\n",
       "      <td>-87.640649</td>\n",
       "      <td>41.760942</td>\n",
       "      <td>(41.760941958, -87.640649068)</td>\n",
       "      <td>CRIMINAL DAMAGE</td>\n",
       "      <td>2.0</td>\n",
       "    </tr>\n",
       "    <tr>\n",
       "      <td>373551</td>\n",
       "      <td>2015</td>\n",
       "      <td>-87.767019</td>\n",
       "      <td>41.906452</td>\n",
       "      <td>(41.906452366, -87.767018921)</td>\n",
       "      <td>BATTERY</td>\n",
       "      <td>4.0</td>\n",
       "    </tr>\n",
       "    <tr>\n",
       "      <td>373553</td>\n",
       "      <td>2015</td>\n",
       "      <td>-87.736295</td>\n",
       "      <td>41.908248</td>\n",
       "      <td>(41.908247883, -87.736294512)</td>\n",
       "      <td>BATTERY</td>\n",
       "      <td>4.0</td>\n",
       "    </tr>\n",
       "  </tbody>\n",
       "</table>\n",
       "</div>"
      ],
      "text/plain": [
       "        Year  Longitude   Latitude                       Location  \\\n",
       "373505  2015 -87.639052  41.702341   (41.70234122, -87.639051898)   \n",
       "373192  2015 -87.621867  41.681648  (41.681648141, -87.621867369)   \n",
       "356768  2015 -87.640649  41.760942  (41.760941958, -87.640649068)   \n",
       "373551  2015 -87.767019  41.906452  (41.906452366, -87.767018921)   \n",
       "373553  2015 -87.736295  41.908248  (41.908247883, -87.736294512)   \n",
       "\n",
       "                  Crime  Weight  \n",
       "373505            THEFT     2.0  \n",
       "373192            THEFT     2.0  \n",
       "356768  CRIMINAL DAMAGE     2.0  \n",
       "373551          BATTERY     4.0  \n",
       "373553          BATTERY     4.0  "
      ]
     },
     "execution_count": 101,
     "metadata": {},
     "output_type": "execute_result"
    }
   ],
   "source": [
    "#Set up weights for 2015 crimes\n",
    "crime_15[\"Crime\"].unique()\n",
    "\n",
    "crimes={'OTHER OFFENSE':0,'NON-CRIMINAL':0,\n",
    "        'GAMBLING':1,'CRIMINAL TRESPASS':1,'DECEPTIVE PRACTICE':1, 'STALKING':1,'INTERFERENCE WITH PUBLIC OFFICER':1,\n",
    "        'OBSCENITY':1,'PUBLIC PEACE VIOLATION':1,'PUBLIC INDECENCY':1,\n",
    "        'THEFT':2,'ROBBERY':2,'BURGLARY':2,'CRIMINAL DAMAGE':2,'MOTOR VEHICLE THEFT':2,'INTIMIDATION':2,\n",
    "        'NARCOTICS':3,'PROSTITUTION':3,'HUMAN TRAFFICKING':3,'LIQUOR LAW VIOLATION':3,\n",
    "        'BATTERY':4, 'ASSAULT':4,'WEAPONS VIOLATION':4,\n",
    "        'OFFENSE INVOLVING CHILDREN':5,'CRIMINAL SEXUAL ASSAULT':5,'SEX OFFENSE':5,\n",
    "        'ARSON':6,\n",
    "        'HOMICIDE':7,'KIDNAPPING':7}\n",
    "\n",
    "for key in crimes.keys():\n",
    "    crime_15.loc[crime_15[\"Crime\"]==key,\"Weight\"]=crimes[key]\n",
    "\n",
    "crime_15.head()"
   ]
  },
  {
   "cell_type": "code",
   "execution_count": 102,
   "metadata": {},
   "outputs": [
    {
     "data": {
      "application/vnd.jupyter.widget-view+json": {
       "model_id": "630d3d69f270483bacde4f337a7fd14d",
       "version_major": 2,
       "version_minor": 0
      },
      "text/plain": [
       "Figure(layout=FigureLayout(height='420px'))"
      ]
     },
     "metadata": {},
     "output_type": "display_data"
    }
   ],
   "source": [
    "# Configure gmaps with API key.\n",
    "gmaps.configure(api_key=g_key)\n",
    "\n",
    "# Store 'Latitude' and 'Longitude' into  locations. \n",
    "locations = crime_15[[\"Latitude\", \"Longitude\"]].astype(float)\n",
    "weights=crime_15[\"Weight\"]\n",
    "\n",
    "# # Create a Heatmap layer\n",
    "fig = gmaps.figure()\n",
    "\n",
    "heat_layer = gmaps.heatmap_layer(locations, weights,dissipating=False, max_intensity=7, point_radius=0.0005)\n",
    "\n",
    "fig.add_layer(heat_layer)\n",
    "\n",
    "fig"
   ]
  },
  {
   "cell_type": "code",
   "execution_count": 103,
   "metadata": {},
   "outputs": [
    {
     "data": {
      "text/html": [
       "<div>\n",
       "<style scoped>\n",
       "    .dataframe tbody tr th:only-of-type {\n",
       "        vertical-align: middle;\n",
       "    }\n",
       "\n",
       "    .dataframe tbody tr th {\n",
       "        vertical-align: top;\n",
       "    }\n",
       "\n",
       "    .dataframe thead th {\n",
       "        text-align: right;\n",
       "    }\n",
       "</style>\n",
       "<table border=\"1\" class=\"dataframe\">\n",
       "  <thead>\n",
       "    <tr style=\"text-align: right;\">\n",
       "      <th></th>\n",
       "      <th>Year</th>\n",
       "      <th>Longitude</th>\n",
       "      <th>Latitude</th>\n",
       "      <th>Location</th>\n",
       "      <th>Crime</th>\n",
       "      <th>Weight</th>\n",
       "    </tr>\n",
       "  </thead>\n",
       "  <tbody>\n",
       "    <tr>\n",
       "      <td>719641</td>\n",
       "      <td>2016</td>\n",
       "      <td>-87.703972</td>\n",
       "      <td>41.940131</td>\n",
       "      <td>(41.94013059, -87.703972237)</td>\n",
       "      <td>BURGLARY</td>\n",
       "      <td>2.0</td>\n",
       "    </tr>\n",
       "    <tr>\n",
       "      <td>719514</td>\n",
       "      <td>2016</td>\n",
       "      <td>-87.707372</td>\n",
       "      <td>41.929611</td>\n",
       "      <td>(41.929611364, -87.707372063)</td>\n",
       "      <td>ROBBERY</td>\n",
       "      <td>2.0</td>\n",
       "    </tr>\n",
       "    <tr>\n",
       "      <td>719667</td>\n",
       "      <td>2016</td>\n",
       "      <td>-87.708776</td>\n",
       "      <td>41.847360</td>\n",
       "      <td>(41.847360304, -87.708776439)</td>\n",
       "      <td>DECEPTIVE PRACTICE</td>\n",
       "      <td>1.0</td>\n",
       "    </tr>\n",
       "    <tr>\n",
       "      <td>719515</td>\n",
       "      <td>2016</td>\n",
       "      <td>-87.753406</td>\n",
       "      <td>41.959395</td>\n",
       "      <td>(41.959394624, -87.753406387)</td>\n",
       "      <td>ROBBERY</td>\n",
       "      <td>2.0</td>\n",
       "    </tr>\n",
       "    <tr>\n",
       "      <td>719517</td>\n",
       "      <td>2016</td>\n",
       "      <td>-87.657504</td>\n",
       "      <td>41.714266</td>\n",
       "      <td>(41.714265542, -87.657504124)</td>\n",
       "      <td>ASSAULT</td>\n",
       "      <td>4.0</td>\n",
       "    </tr>\n",
       "  </tbody>\n",
       "</table>\n",
       "</div>"
      ],
      "text/plain": [
       "        Year  Longitude   Latitude                       Location  \\\n",
       "719641  2016 -87.703972  41.940131   (41.94013059, -87.703972237)   \n",
       "719514  2016 -87.707372  41.929611  (41.929611364, -87.707372063)   \n",
       "719667  2016 -87.708776  41.847360  (41.847360304, -87.708776439)   \n",
       "719515  2016 -87.753406  41.959395  (41.959394624, -87.753406387)   \n",
       "719517  2016 -87.657504  41.714266  (41.714265542, -87.657504124)   \n",
       "\n",
       "                     Crime  Weight  \n",
       "719641            BURGLARY     2.0  \n",
       "719514             ROBBERY     2.0  \n",
       "719667  DECEPTIVE PRACTICE     1.0  \n",
       "719515             ROBBERY     2.0  \n",
       "719517             ASSAULT     4.0  "
      ]
     },
     "execution_count": 103,
     "metadata": {},
     "output_type": "execute_result"
    }
   ],
   "source": [
    "#Set up weights for 2016 crimes\n",
    "crime_16[\"Crime\"].unique()\n",
    "\n",
    "crimes={'OTHER OFFENSE':0,'NON-CRIMINAL':0,\n",
    "        'GAMBLING':1,'CRIMINAL TRESPASS':1,'DECEPTIVE PRACTICE':1, 'STALKING':1,'INTERFERENCE WITH PUBLIC OFFICER':1,\n",
    "        'OBSCENITY':1,'PUBLIC PEACE VIOLATION':1,'PUBLIC INDECENCY':1,\n",
    "        'THEFT':2,'ROBBERY':2,'BURGLARY':2,'CRIMINAL DAMAGE':2,'MOTOR VEHICLE THEFT':2,'INTIMIDATION':2,\n",
    "        'NARCOTICS':3,'PROSTITUTION':3,'HUMAN TRAFFICKING':3,'LIQUOR LAW VIOLATION':3,\n",
    "        'BATTERY':4, 'ASSAULT':4,'WEAPONS VIOLATION':4,\n",
    "        'OFFENSE INVOLVING CHILDREN':5,'CRIMINAL SEXUAL ASSAULT':5,'SEX OFFENSE':5,\n",
    "        'ARSON':6,\n",
    "        'HOMICIDE':7,'KIDNAPPING':7}\n",
    "\n",
    "for key in crimes.keys():\n",
    "    crime_16.loc[crime_16[\"Crime\"]==key,\"Weight\"]=crimes[key]\n",
    "\n",
    "crime_16.head()"
   ]
  },
  {
   "cell_type": "code",
   "execution_count": 104,
   "metadata": {},
   "outputs": [
    {
     "data": {
      "application/vnd.jupyter.widget-view+json": {
       "model_id": "24414c143b4a45eb84216ceb1d4f0930",
       "version_major": 2,
       "version_minor": 0
      },
      "text/plain": [
       "Figure(layout=FigureLayout(height='420px'))"
      ]
     },
     "metadata": {},
     "output_type": "display_data"
    }
   ],
   "source": [
    "# Configure gmaps with API key.\n",
    "gmaps.configure(api_key=g_key)\n",
    "\n",
    "# Store 'Latitude' and 'Longitude' into  locations. \n",
    "locations = crime_16[[\"Latitude\", \"Longitude\"]].astype(float)\n",
    "weights=crime_16[\"Weight\"]\n",
    "\n",
    "# # Create a Heatmap layer\n",
    "fig = gmaps.figure()\n",
    "\n",
    "heat_layer = gmaps.heatmap_layer(locations, weights,dissipating=False, max_intensity=7, point_radius=0.0004)\n",
    "\n",
    "fig.add_layer(heat_layer)\n",
    "\n",
    "fig"
   ]
  },
  {
   "cell_type": "code",
   "execution_count": 105,
   "metadata": {},
   "outputs": [
    {
     "data": {
      "text/html": [
       "<div>\n",
       "<style scoped>\n",
       "    .dataframe tbody tr th:only-of-type {\n",
       "        vertical-align: middle;\n",
       "    }\n",
       "\n",
       "    .dataframe tbody tr th {\n",
       "        vertical-align: top;\n",
       "    }\n",
       "\n",
       "    .dataframe thead th {\n",
       "        text-align: right;\n",
       "    }\n",
       "</style>\n",
       "<table border=\"1\" class=\"dataframe\">\n",
       "  <thead>\n",
       "    <tr style=\"text-align: right;\">\n",
       "      <th></th>\n",
       "      <th>Year</th>\n",
       "      <th>Longitude</th>\n",
       "      <th>Latitude</th>\n",
       "      <th>Location</th>\n",
       "      <th>Crime</th>\n",
       "      <th>Weight</th>\n",
       "    </tr>\n",
       "  </thead>\n",
       "  <tbody>\n",
       "    <tr>\n",
       "      <td>999969</td>\n",
       "      <td>2017</td>\n",
       "      <td>-87.634724</td>\n",
       "      <td>41.911610</td>\n",
       "      <td>(41.911610082, -87.634723998)</td>\n",
       "      <td>DECEPTIVE PRACTICE</td>\n",
       "      <td>1.0</td>\n",
       "    </tr>\n",
       "    <tr>\n",
       "      <td>999985</td>\n",
       "      <td>2017</td>\n",
       "      <td>-87.640288</td>\n",
       "      <td>41.936578</td>\n",
       "      <td>(41.936577807, -87.640287983)</td>\n",
       "      <td>DECEPTIVE PRACTICE</td>\n",
       "      <td>1.0</td>\n",
       "    </tr>\n",
       "    <tr>\n",
       "      <td>999728</td>\n",
       "      <td>2017</td>\n",
       "      <td>-87.668237</td>\n",
       "      <td>41.959781</td>\n",
       "      <td>(41.959780776, -87.668236604)</td>\n",
       "      <td>THEFT</td>\n",
       "      <td>2.0</td>\n",
       "    </tr>\n",
       "    <tr>\n",
       "      <td>999703</td>\n",
       "      <td>2017</td>\n",
       "      <td>-87.582635</td>\n",
       "      <td>41.772875</td>\n",
       "      <td>(41.772874719, -87.582635146)</td>\n",
       "      <td>CRIMINAL DAMAGE</td>\n",
       "      <td>2.0</td>\n",
       "    </tr>\n",
       "    <tr>\n",
       "      <td>999698</td>\n",
       "      <td>2017</td>\n",
       "      <td>-87.600130</td>\n",
       "      <td>41.764113</td>\n",
       "      <td>(41.764112658, -87.600129909)</td>\n",
       "      <td>ASSAULT</td>\n",
       "      <td>4.0</td>\n",
       "    </tr>\n",
       "  </tbody>\n",
       "</table>\n",
       "</div>"
      ],
      "text/plain": [
       "        Year  Longitude   Latitude                       Location  \\\n",
       "999969  2017 -87.634724  41.911610  (41.911610082, -87.634723998)   \n",
       "999985  2017 -87.640288  41.936578  (41.936577807, -87.640287983)   \n",
       "999728  2017 -87.668237  41.959781  (41.959780776, -87.668236604)   \n",
       "999703  2017 -87.582635  41.772875  (41.772874719, -87.582635146)   \n",
       "999698  2017 -87.600130  41.764113  (41.764112658, -87.600129909)   \n",
       "\n",
       "                     Crime  Weight  \n",
       "999969  DECEPTIVE PRACTICE     1.0  \n",
       "999985  DECEPTIVE PRACTICE     1.0  \n",
       "999728               THEFT     2.0  \n",
       "999703     CRIMINAL DAMAGE     2.0  \n",
       "999698             ASSAULT     4.0  "
      ]
     },
     "execution_count": 105,
     "metadata": {},
     "output_type": "execute_result"
    }
   ],
   "source": [
    "#Set up weights for 2017 crimes\n",
    "crime_17[\"Crime\"].unique()\n",
    "\n",
    "crimes={'OTHER OFFENSE':0,'NON-CRIMINAL':0,\n",
    "        'GAMBLING':1,'CRIMINAL TRESPASS':1,'DECEPTIVE PRACTICE':1, 'STALKING':1,'INTERFERENCE WITH PUBLIC OFFICER':1,\n",
    "        'OBSCENITY':1,'PUBLIC PEACE VIOLATION':1,'PUBLIC INDECENCY':1,\n",
    "        'THEFT':2,'ROBBERY':2,'BURGLARY':2,'CRIMINAL DAMAGE':2,'MOTOR VEHICLE THEFT':2,'INTIMIDATION':2,\n",
    "        'NARCOTICS':3,'PROSTITUTION':3,'HUMAN TRAFFICKING':3,'LIQUOR LAW VIOLATION':3,\n",
    "        'BATTERY':4, 'ASSAULT':4,'WEAPONS VIOLATION':4,\n",
    "        'OFFENSE INVOLVING CHILDREN':5,'CRIMINAL SEXUAL ASSAULT':5,'SEX OFFENSE':5,\n",
    "        'ARSON':6,\n",
    "        'HOMICIDE':7,'KIDNAPPING':7}\n",
    "\n",
    "for key in crimes.keys():\n",
    "    crime_17.loc[crime_17[\"Crime\"]==key,\"Weight\"]=crimes[key]\n",
    "\n",
    "crime_17.head()"
   ]
  },
  {
   "cell_type": "code",
   "execution_count": 106,
   "metadata": {},
   "outputs": [
    {
     "data": {
      "application/vnd.jupyter.widget-view+json": {
       "model_id": "3f9ce96016d049e188e0eddd101237cb",
       "version_major": 2,
       "version_minor": 0
      },
      "text/plain": [
       "Figure(layout=FigureLayout(height='420px'))"
      ]
     },
     "metadata": {},
     "output_type": "display_data"
    }
   ],
   "source": [
    "# Configure gmaps with API key.\n",
    "gmaps.configure(api_key=g_key)\n",
    "\n",
    "# Store 'Latitude' and 'Longitude' into  locations. \n",
    "locations = crime_17[[\"Latitude\", \"Longitude\"]].astype(float)\n",
    "weights=crime_17[\"Weight\"]\n",
    "\n",
    "# # Create a Heatmap layer\n",
    "fig = gmaps.figure()\n",
    "\n",
    "heat_layer = gmaps.heatmap_layer(locations, weights,dissipating=False, max_intensity=7, point_radius=0.0005)\n",
    "\n",
    "fig.add_layer(heat_layer)\n",
    "\n",
    "fig"
   ]
  },
  {
   "cell_type": "markdown",
   "metadata": {},
   "source": [
    "count decreased sharply. \n",
    "-------------\n",
    "During 2018, the numbers plunged back to where they were during the early years of the decade"
   ]
  },
  {
   "cell_type": "code",
   "execution_count": null,
   "metadata": {},
   "outputs": [],
   "source": []
  },
  {
   "cell_type": "code",
   "execution_count": 108,
   "metadata": {},
   "outputs": [
    {
     "data": {
      "text/html": [
       "<div>\n",
       "<style scoped>\n",
       "    .dataframe tbody tr th:only-of-type {\n",
       "        vertical-align: middle;\n",
       "    }\n",
       "\n",
       "    .dataframe tbody tr th {\n",
       "        vertical-align: top;\n",
       "    }\n",
       "\n",
       "    .dataframe thead th {\n",
       "        text-align: right;\n",
       "    }\n",
       "</style>\n",
       "<table border=\"1\" class=\"dataframe\">\n",
       "  <thead>\n",
       "    <tr style=\"text-align: right;\">\n",
       "      <th></th>\n",
       "      <th>Year</th>\n",
       "      <th>Longitude</th>\n",
       "      <th>Latitude</th>\n",
       "      <th>Location</th>\n",
       "      <th>Crime</th>\n",
       "      <th>Weight</th>\n",
       "    </tr>\n",
       "  </thead>\n",
       "  <tbody>\n",
       "    <tr>\n",
       "      <td>1045751</td>\n",
       "      <td>2018</td>\n",
       "      <td>-87.634195</td>\n",
       "      <td>41.841840</td>\n",
       "      <td>(41.841839928, -87.634195324)</td>\n",
       "      <td>BATTERY</td>\n",
       "      <td>4.0</td>\n",
       "    </tr>\n",
       "    <tr>\n",
       "      <td>1047554</td>\n",
       "      <td>2018</td>\n",
       "      <td>-87.571362</td>\n",
       "      <td>41.713433</td>\n",
       "      <td>(41.713432983, -87.571361574)</td>\n",
       "      <td>OTHER OFFENSE</td>\n",
       "      <td>0.0</td>\n",
       "    </tr>\n",
       "    <tr>\n",
       "      <td>1045985</td>\n",
       "      <td>2018</td>\n",
       "      <td>-87.586115</td>\n",
       "      <td>41.757614</td>\n",
       "      <td>(41.757614433, -87.586115266)</td>\n",
       "      <td>THEFT</td>\n",
       "      <td>2.0</td>\n",
       "    </tr>\n",
       "    <tr>\n",
       "      <td>1046614</td>\n",
       "      <td>2018</td>\n",
       "      <td>-87.658051</td>\n",
       "      <td>41.837885</td>\n",
       "      <td>(41.837885476, -87.658050883)</td>\n",
       "      <td>BATTERY</td>\n",
       "      <td>4.0</td>\n",
       "    </tr>\n",
       "    <tr>\n",
       "      <td>1045987</td>\n",
       "      <td>2018</td>\n",
       "      <td>-87.665710</td>\n",
       "      <td>41.836385</td>\n",
       "      <td>(41.836385231, -87.66571041)</td>\n",
       "      <td>CRIMINAL DAMAGE</td>\n",
       "      <td>2.0</td>\n",
       "    </tr>\n",
       "  </tbody>\n",
       "</table>\n",
       "</div>"
      ],
      "text/plain": [
       "         Year  Longitude   Latitude                       Location  \\\n",
       "1045751  2018 -87.634195  41.841840  (41.841839928, -87.634195324)   \n",
       "1047554  2018 -87.571362  41.713433  (41.713432983, -87.571361574)   \n",
       "1045985  2018 -87.586115  41.757614  (41.757614433, -87.586115266)   \n",
       "1046614  2018 -87.658051  41.837885  (41.837885476, -87.658050883)   \n",
       "1045987  2018 -87.665710  41.836385   (41.836385231, -87.66571041)   \n",
       "\n",
       "                   Crime  Weight  \n",
       "1045751          BATTERY     4.0  \n",
       "1047554    OTHER OFFENSE     0.0  \n",
       "1045985            THEFT     2.0  \n",
       "1046614          BATTERY     4.0  \n",
       "1045987  CRIMINAL DAMAGE     2.0  "
      ]
     },
     "execution_count": 108,
     "metadata": {},
     "output_type": "execute_result"
    }
   ],
   "source": [
    "#Set up weights for 2018 crimes\n",
    "crime_18[\"Crime\"].unique()\n",
    "\n",
    "crimes={'OTHER OFFENSE':0,'NON-CRIMINAL':0,\n",
    "        'GAMBLING':1,'CRIMINAL TRESPASS':1,'DECEPTIVE PRACTICE':1, 'STALKING':1,'INTERFERENCE WITH PUBLIC OFFICER':1,\n",
    "        'OBSCENITY':1,'PUBLIC PEACE VIOLATION':1,'PUBLIC INDECENCY':1,\n",
    "        'THEFT':2,'ROBBERY':2,'BURGLARY':2,'CRIMINAL DAMAGE':2,'MOTOR VEHICLE THEFT':2,'INTIMIDATION':2,\n",
    "        'NARCOTICS':3,'PROSTITUTION':3,'HUMAN TRAFFICKING':3,'LIQUOR LAW VIOLATION':3,\n",
    "        'BATTERY':4, 'ASSAULT':4,'WEAPONS VIOLATION':4,\n",
    "        'OFFENSE INVOLVING CHILDREN':5,'CRIMINAL SEXUAL ASSAULT':5,'SEX OFFENSE':5,\n",
    "        'ARSON':6,\n",
    "        'HOMICIDE':7,'KIDNAPPING':7}\n",
    "\n",
    "for key in crimes.keys():\n",
    "    crime_18.loc[crime_18[\"Crime\"]==key,\"Weight\"]=crimes[key]\n",
    "\n",
    "crime_18.head()"
   ]
  },
  {
   "cell_type": "code",
   "execution_count": 109,
   "metadata": {},
   "outputs": [
    {
     "data": {
      "application/vnd.jupyter.widget-view+json": {
       "model_id": "06297ee923fb4d5eb3bfee7718dc6830",
       "version_major": 2,
       "version_minor": 0
      },
      "text/plain": [
       "Figure(layout=FigureLayout(height='420px'))"
      ]
     },
     "metadata": {},
     "output_type": "display_data"
    }
   ],
   "source": [
    "# Configure gmaps with API key.\n",
    "gmaps.configure(api_key=g_key)\n",
    "\n",
    "# Store 'Latitude' and 'Longitude' into  locations. \n",
    "locations = crime_18[[\"Latitude\", \"Longitude\"]].astype(float)\n",
    "weights=crime_18[\"Weight\"]\n",
    "\n",
    "# # Create a Heatmap layer\n",
    "fig = gmaps.figure()\n",
    "\n",
    "heat_layer = gmaps.heatmap_layer(locations, weights,dissipating=False, max_intensity=7, point_radius=0.001)\n",
    "\n",
    "fig.add_layer(heat_layer)\n",
    "\n",
    "fig"
   ]
  },
  {
   "cell_type": "markdown",
   "metadata": {},
   "source": [
    "Increased sharply during 2019 \n",
    "-------------\n",
    "but substantially lower than the 2015-2017 time period.   \n",
    "From 2015-2019,there were so many data points for crime in Chicago that the radius of each point on a heat map had to be smaller than the maps for the other years."
   ]
  },
  {
   "cell_type": "code",
   "execution_count": 110,
   "metadata": {},
   "outputs": [
    {
     "data": {
      "text/html": [
       "<div>\n",
       "<style scoped>\n",
       "    .dataframe tbody tr th:only-of-type {\n",
       "        vertical-align: middle;\n",
       "    }\n",
       "\n",
       "    .dataframe tbody tr th {\n",
       "        vertical-align: top;\n",
       "    }\n",
       "\n",
       "    .dataframe thead th {\n",
       "        text-align: right;\n",
       "    }\n",
       "</style>\n",
       "<table border=\"1\" class=\"dataframe\">\n",
       "  <thead>\n",
       "    <tr style=\"text-align: right;\">\n",
       "      <th></th>\n",
       "      <th>Year</th>\n",
       "      <th>Longitude</th>\n",
       "      <th>Latitude</th>\n",
       "      <th>Location</th>\n",
       "      <th>Crime</th>\n",
       "      <th>Weight</th>\n",
       "    </tr>\n",
       "  </thead>\n",
       "  <tbody>\n",
       "    <tr>\n",
       "      <td>141203</td>\n",
       "      <td>2019</td>\n",
       "      <td>-87.719496</td>\n",
       "      <td>41.969070</td>\n",
       "      <td>(41.969070033, -87.719495737)</td>\n",
       "      <td>BURGLARY</td>\n",
       "      <td>2.0</td>\n",
       "    </tr>\n",
       "    <tr>\n",
       "      <td>141197</td>\n",
       "      <td>2019</td>\n",
       "      <td>-87.647690</td>\n",
       "      <td>41.940006</td>\n",
       "      <td>(41.940005868, -87.647690125)</td>\n",
       "      <td>THEFT</td>\n",
       "      <td>2.0</td>\n",
       "    </tr>\n",
       "    <tr>\n",
       "      <td>140127</td>\n",
       "      <td>2019</td>\n",
       "      <td>-87.563985</td>\n",
       "      <td>41.701811</td>\n",
       "      <td>(41.701811034, -87.563984542)</td>\n",
       "      <td>ASSAULT</td>\n",
       "      <td>4.0</td>\n",
       "    </tr>\n",
       "    <tr>\n",
       "      <td>140558</td>\n",
       "      <td>2019</td>\n",
       "      <td>-87.655481</td>\n",
       "      <td>41.794168</td>\n",
       "      <td>(41.79416776, -87.655480887)</td>\n",
       "      <td>BATTERY</td>\n",
       "      <td>4.0</td>\n",
       "    </tr>\n",
       "    <tr>\n",
       "      <td>141048</td>\n",
       "      <td>2019</td>\n",
       "      <td>-87.623318</td>\n",
       "      <td>41.834155</td>\n",
       "      <td>(41.834155131, -87.623318288)</td>\n",
       "      <td>BATTERY</td>\n",
       "      <td>4.0</td>\n",
       "    </tr>\n",
       "  </tbody>\n",
       "</table>\n",
       "</div>"
      ],
      "text/plain": [
       "        Year  Longitude   Latitude                       Location     Crime  \\\n",
       "141203  2019 -87.719496  41.969070  (41.969070033, -87.719495737)  BURGLARY   \n",
       "141197  2019 -87.647690  41.940006  (41.940005868, -87.647690125)     THEFT   \n",
       "140127  2019 -87.563985  41.701811  (41.701811034, -87.563984542)   ASSAULT   \n",
       "140558  2019 -87.655481  41.794168   (41.79416776, -87.655480887)   BATTERY   \n",
       "141048  2019 -87.623318  41.834155  (41.834155131, -87.623318288)   BATTERY   \n",
       "\n",
       "        Weight  \n",
       "141203     2.0  \n",
       "141197     2.0  \n",
       "140127     4.0  \n",
       "140558     4.0  \n",
       "141048     4.0  "
      ]
     },
     "execution_count": 110,
     "metadata": {},
     "output_type": "execute_result"
    }
   ],
   "source": [
    "#Set up weights for 2019 crimes\n",
    "crime_19[\"Crime\"].unique()\n",
    "\n",
    "crimes={'OTHER OFFENSE':0,'NON-CRIMINAL':0,\n",
    "        'GAMBLING':1,'CRIMINAL TRESPASS':1,'DECEPTIVE PRACTICE':1, 'STALKING':1,'INTERFERENCE WITH PUBLIC OFFICER':1,\n",
    "        'OBSCENITY':1,'PUBLIC PEACE VIOLATION':1,'PUBLIC INDECENCY':1,\n",
    "        'THEFT':2,'ROBBERY':2,'BURGLARY':2,'CRIMINAL DAMAGE':2,'MOTOR VEHICLE THEFT':2,'INTIMIDATION':2,\n",
    "        'NARCOTICS':3,'PROSTITUTION':3,'HUMAN TRAFFICKING':3,'LIQUOR LAW VIOLATION':3,\n",
    "        'BATTERY':4, 'ASSAULT':4,'WEAPONS VIOLATION':4,\n",
    "        'OFFENSE INVOLVING CHILDREN':5,'CRIMINAL SEXUAL ASSAULT':5,'SEX OFFENSE':5,\n",
    "        'ARSON':6,\n",
    "        'HOMICIDE':7,'KIDNAPPING':7}\n",
    "\n",
    "for key in crimes.keys():\n",
    "    crime_19.loc[crime_19[\"Crime\"]==key,\"Weight\"]=crimes[key]\n",
    "\n",
    "crime_19.head()"
   ]
  },
  {
   "cell_type": "code",
   "execution_count": 111,
   "metadata": {},
   "outputs": [
    {
     "data": {
      "application/vnd.jupyter.widget-view+json": {
       "model_id": "fedb20cfb28340e5af7550a1b1a2809b",
       "version_major": 2,
       "version_minor": 0
      },
      "text/plain": [
       "Figure(layout=FigureLayout(height='420px'))"
      ]
     },
     "metadata": {},
     "output_type": "display_data"
    }
   ],
   "source": [
    "# Configure gmaps with API key.\n",
    "gmaps.configure(api_key=g_key)\n",
    "\n",
    "# Store 'Latitude' and 'Longitude' into  locations. \n",
    "locations = crime_19[[\"Latitude\", \"Longitude\"]].astype(float)\n",
    "weights=crime_19[\"Weight\"]\n",
    "\n",
    "# # Create a Heatmap layer\n",
    "fig = gmaps.figure()\n",
    "\n",
    "heat_layer = gmaps.heatmap_layer(locations, weights,dissipating=False, max_intensity=7, point_radius=0.0005)\n",
    "\n",
    "fig.add_layer(heat_layer)\n",
    "\n",
    "fig"
   ]
  },
  {
   "cell_type": "markdown",
   "metadata": {},
   "source": [
    "Although the number of crimes committed decreased during Q1 2020, the total number of crimes committed for the first 3 months of 2020 were already over 50,000. \n",
    "This indicated that 2020 could have observed a high number of crimes"
   ]
  },
  {
   "cell_type": "code",
   "execution_count": 50,
   "metadata": {},
   "outputs": [
    {
     "data": {
      "text/html": [
       "<div>\n",
       "<style scoped>\n",
       "    .dataframe tbody tr th:only-of-type {\n",
       "        vertical-align: middle;\n",
       "    }\n",
       "\n",
       "    .dataframe tbody tr th {\n",
       "        vertical-align: top;\n",
       "    }\n",
       "\n",
       "    .dataframe thead th {\n",
       "        text-align: right;\n",
       "    }\n",
       "</style>\n",
       "<table border=\"1\" class=\"dataframe\">\n",
       "  <thead>\n",
       "    <tr style=\"text-align: right;\">\n",
       "      <th></th>\n",
       "      <th>Year</th>\n",
       "      <th>Longitude</th>\n",
       "      <th>Latitude</th>\n",
       "      <th>Location</th>\n",
       "      <th>Crime</th>\n",
       "      <th>Weight</th>\n",
       "    </tr>\n",
       "  </thead>\n",
       "  <tbody>\n",
       "    <tr>\n",
       "      <td>273083</td>\n",
       "      <td>2020</td>\n",
       "      <td>-87.672983</td>\n",
       "      <td>42.018498</td>\n",
       "      <td>(42.018498254, -87.672983233)</td>\n",
       "      <td>THEFT</td>\n",
       "      <td>2.0</td>\n",
       "    </tr>\n",
       "    <tr>\n",
       "      <td>273068</td>\n",
       "      <td>2020</td>\n",
       "      <td>-87.624356</td>\n",
       "      <td>41.881722</td>\n",
       "      <td>(41.881722193, -87.624356274)</td>\n",
       "      <td>THEFT</td>\n",
       "      <td>2.0</td>\n",
       "    </tr>\n",
       "    <tr>\n",
       "      <td>273073</td>\n",
       "      <td>2020</td>\n",
       "      <td>-87.678876</td>\n",
       "      <td>41.685703</td>\n",
       "      <td>(41.685702753, -87.678875923)</td>\n",
       "      <td>THEFT</td>\n",
       "      <td>2.0</td>\n",
       "    </tr>\n",
       "    <tr>\n",
       "      <td>274741</td>\n",
       "      <td>2020</td>\n",
       "      <td>-87.667638</td>\n",
       "      <td>41.759406</td>\n",
       "      <td>(41.759405525, -87.667637795)</td>\n",
       "      <td>CRIMINAL DAMAGE</td>\n",
       "      <td>2.0</td>\n",
       "    </tr>\n",
       "    <tr>\n",
       "      <td>272917</td>\n",
       "      <td>2020</td>\n",
       "      <td>-87.722478</td>\n",
       "      <td>41.811050</td>\n",
       "      <td>(41.811050424, -87.72247767)</td>\n",
       "      <td>OTHER OFFENSE</td>\n",
       "      <td>0.0</td>\n",
       "    </tr>\n",
       "  </tbody>\n",
       "</table>\n",
       "</div>"
      ],
      "text/plain": [
       "        Year  Longitude   Latitude                       Location  \\\n",
       "273083  2020 -87.672983  42.018498  (42.018498254, -87.672983233)   \n",
       "273068  2020 -87.624356  41.881722  (41.881722193, -87.624356274)   \n",
       "273073  2020 -87.678876  41.685703  (41.685702753, -87.678875923)   \n",
       "274741  2020 -87.667638  41.759406  (41.759405525, -87.667637795)   \n",
       "272917  2020 -87.722478  41.811050   (41.811050424, -87.72247767)   \n",
       "\n",
       "                  Crime  Weight  \n",
       "273083            THEFT     2.0  \n",
       "273068            THEFT     2.0  \n",
       "273073            THEFT     2.0  \n",
       "274741  CRIMINAL DAMAGE     2.0  \n",
       "272917    OTHER OFFENSE     0.0  "
      ]
     },
     "execution_count": 50,
     "metadata": {},
     "output_type": "execute_result"
    }
   ],
   "source": [
    "#Set up weights for 2019 crimes\n",
    "crime_20[\"Crime\"].unique()\n",
    "\n",
    "crimes={'OTHER OFFENSE':0,'NON-CRIMINAL':0,\n",
    "        'GAMBLING':1,'CRIMINAL TRESPASS':1,'DECEPTIVE PRACTICE':1, 'STALKING':1,'INTERFERENCE WITH PUBLIC OFFICER':1,\n",
    "        'OBSCENITY':1,'PUBLIC PEACE VIOLATION':1,'PUBLIC INDECENCY':1,\n",
    "        'THEFT':2,'ROBBERY':2,'BURGLARY':2,'CRIMINAL DAMAGE':2,'MOTOR VEHICLE THEFT':2,'INTIMIDATION':2,\n",
    "        'NARCOTICS':3,'PROSTITUTION':3,'HUMAN TRAFFICKING':3,'LIQUOR LAW VIOLATION':3,\n",
    "        'BATTERY':4, 'ASSAULT':4,'WEAPONS VIOLATION':4,\n",
    "        'OFFENSE INVOLVING CHILDREN':5,'CRIMINAL SEXUAL ASSAULT':5,'SEX OFFENSE':5,\n",
    "        'ARSON':6,\n",
    "        'HOMICIDE':7,'KIDNAPPING':7}\n",
    "\n",
    "for key in crimes.keys():\n",
    "    crime_20.loc[crime_20[\"Crime\"]==key,\"Weight\"]=crimes[key]\n",
    "\n",
    "crime_20.head()"
   ]
  },
  {
   "cell_type": "code",
   "execution_count": 51,
   "metadata": {},
   "outputs": [
    {
     "data": {
      "application/vnd.jupyter.widget-view+json": {
       "model_id": "993cbf84f4c94b01ae6695f065d5d477",
       "version_major": 2,
       "version_minor": 0
      },
      "text/plain": [
       "Figure(layout=FigureLayout(height='420px'))"
      ]
     },
     "metadata": {},
     "output_type": "display_data"
    }
   ],
   "source": [
    "# Configure gmaps with API key.\n",
    "gmaps.configure(api_key=g_key)\n",
    "\n",
    "# Store 'Latitude' and 'Longitude' into  locations. \n",
    "locations = crime_20[[\"Latitude\", \"Longitude\"]].astype(float)\n",
    "weights=crime_20[\"Weight\"]\n",
    "\n",
    "# # Create a Heatmap layer\n",
    "fig = gmaps.figure()\n",
    "\n",
    "heat_layer = gmaps.heatmap_layer(locations, weights,dissipating=False, max_intensity=7, point_radius=0.0009)\n",
    "\n",
    "fig.add_layer(heat_layer)\n",
    "\n",
    "fig"
   ]
  },
  {
   "cell_type": "code",
   "execution_count": 52,
   "metadata": {},
   "outputs": [
    {
     "data": {
      "text/plain": [
       "pandas.core.frame.DataFrame"
      ]
     },
     "execution_count": 52,
     "metadata": {},
     "output_type": "execute_result"
    }
   ],
   "source": [
    "type(cleaned_crime)"
   ]
  },
  {
   "cell_type": "code",
   "execution_count": 53,
   "metadata": {},
   "outputs": [
    {
     "name": "stdout",
     "output_type": "stream",
     "text": [
      "0          DECEPTIVE PRACTICE\n",
      "1                 SEX OFFENSE\n",
      "2                       THEFT\n",
      "3                       THEFT\n",
      "4                 SEX OFFENSE\n",
      "                  ...        \n",
      "1048570       ASSAULT/BATTERY\n",
      "1048571                 THEFT\n",
      "1048572         OTHER OFFENSE\n",
      "1048573                 THEFT\n",
      "1048574       ASSAULT/BATTERY\n",
      "Name: Primary Type, Length: 1048575, dtype: object\n"
     ]
    }
   ],
   "source": [
    "cleaned_crime_narrowed = new_data['Primary Type'].replace('RITUALISM', 'OTHER OFFENSE').replace('OTHER', 'OTHER OFFENSE').replace('NON - CRIMINAL', 'OTHER OFFENSE').replace('CRIM SEXUAL ASSAULT', 'SEX OFFENSE').replace('CONCEALED CARRY LICENSE VIOLATION', 'WEAPONS VIOLATION').replace('OTHER NARCOTIC VIOLATION', 'NARCOTICS').replace('NON-CRIMINAL (SUBJECT SPECIFIED)', 'OTHER OFFENSE').replace('ARSON', 'CRIMINAL DAMAGE').replace('GAMBLING', 'OTHER').replace('LIQUOR LAW VIOLATION', 'ALCOHAL LAW VIOLATION').replace('INTERFERENCE WITH PUBLIC OFFICER', 'PUBLIC PEACE VIOLATION').replace('OBSCENITY', 'PUBLIC INDECENCY').replace('NON-CRIMINAL', 'OTHER OFFENSE').replace('INTIMIDATION', 'ASSAULT/BATTERY').replace('MOTOR VEHICLE THEFT', 'THEFT').replace('PROSTITUTION', 'SEX OFFENSE').replace('STALKING', 'SEX OFFENSE').replace('HUMAN TRAFFICKING', 'SEX OFFENSE').replace('KIDNAPPING', 'OFFENSE INVOLVING CHILDREN').replace('CRIMINAL SEXUAL ASSAULT', 'SEX OFFENSE').replace('BATTERY', 'ASSAULT/BATTERY').replace('ASSAULT', 'ASSAULT/BATTERY').replace('BURGLARY', 'THEFT').replace('ROBBERY', 'THEFT').replace('Destruction/Damage/Vandalism of Property', 'CRIMINAL DAMAGE').replace('All Other Larceny', 'LARCENY').replace('LARCENY', 'THEFT').replace('Disorderly Conduct', 'DISORDERLY CONDUCT').replace('Curfew/Loitering/Vagrancy Violations', 'OTHER').replace('Embezzlement', 'EMBEZZLEMENT').replace('Extortion/Blackmail', 'EXTORTION').replace('Weapon Law Violations', 'WEAPONS VIOLATIONS').replace('Motor Vehicle Theft', 'MOTOR VEHICLE THEFT').replace('Arson', 'ARSON').replace('Peeping', 'STALKING').replace('Intimidation', 'ASSAULT').replace('Wire Fraud', 'FRAUD').replace('Liquor Law Violations', 'LIQOUR VIOLATIONS').replace('Driving Under the Influence', 'LIQOUR VIOLATIONS').replace('Impersonation', 'FRAUD').replace('False Pretenses/Swindle/Confidence Game', 'FRAUD').replace('Credit Card/Automatic Teller Fraud', 'FRAUD').replace('Counterfeiting/Forgery', 'FRAUD').replace('Assisting or Promoting Prostitution', 'SEX OFFENSE').replace('Pornography/Obscene Material', 'SEX OFFENSE').replace('Prostitution', 'SEX OFFENSE').replace('Theft From Building', 'THEFT').replace('Purse-Snatching', 'THEFT').replace('Negligent Manslaughter', 'HOMICIDE').replace('Justifiable Homicide', 'HOMICIDE').replace('Drug Equipment Violations', 'NARCOTICS').replace('Drug/narcotic Violations', 'NARCOTICS').replace('Murder and Nonnegligent Manslaughter', 'HOMICIDE').replace('Trespass of Real Property', 'TRESPASS').replace('Theft of Motor Vehicle Parts/Accessories', 'Theft').replace('Simple Assault','ASSAULT').replace('Aggravated Assault','CRIMINAL ASSAULT').replace('Pocket-Picking','THEFT').replace('Stolen Property Offenses','THEFT').replace('Shoplifting','THEFT').replace('Theft','THEFT').replace('Burglary/Breaking & Entering','THEFT').replace('Theft From Motor Vehicle', 'THEFT').replace('OTHER', 'OTHER OFFENSE')\n",
    "\n",
    "print(cleaned_crime_narrowed)\n"
   ]
  },
  {
   "cell_type": "code",
   "execution_count": 54,
   "metadata": {},
   "outputs": [
    {
     "name": "stdout",
     "output_type": "stream",
     "text": [
      "THEFT                         378283\n",
      "ASSAULT/BATTERY               266016\n",
      "CRIMINAL DAMAGE               112977\n",
      "DECEPTIVE PRACTICE             76433\n",
      "OTHER OFFENSE                  66828\n",
      "NARCOTICS                      63486\n",
      "CRIMINAL TRESPASS              25066\n",
      "SEX OFFENSE                    17394\n",
      "WEAPONS VIOLATION              17310\n",
      "OFFENSE INVOLVING CHILDREN     11779\n",
      "PUBLIC PEACE VIOLATION         10970\n",
      "ALCOHAL LAW VIOLATION           1004\n",
      "HOMICIDE                         736\n",
      "PUBLIC INDECENCY                 293\n",
      "Name: Primary Type, dtype: int64\n"
     ]
    }
   ],
   "source": [
    "chi_crime_types = cleaned_crime_narrowed.value_counts()\n",
    "print(chi_crime_types)"
   ]
  },
  {
   "cell_type": "code",
   "execution_count": 55,
   "metadata": {},
   "outputs": [],
   "source": [
    "chi_crime_types = pd.DataFrame({'Crime':chi_crime_types.index, 'Count':chi_crime_types.values}).sort_values(by='Crime', ascending=False)"
   ]
  },
  {
   "cell_type": "code",
   "execution_count": 61,
   "metadata": {},
   "outputs": [
    {
     "data": {
      "text/plain": [
       "<matplotlib.legend.Legend at 0x1fc8ad8a7c8>"
      ]
     },
     "execution_count": 61,
     "metadata": {},
     "output_type": "execute_result"
    },
    {
     "data": {
      "image/png": "[encoded data removed]",
      "text/plain": [
       "<Figure size 1440x1440 with 1 Axes>"
      ]
     },
     "metadata": {},
     "output_type": "display_data"
    }
   ],
   "source": [
    "#creating pie chart\n",
    "labels=['WEAPONS VIOLATION',\"THEFT\",'SEX OFFENSE',\"PUBLIC PEACE VIOLATION\",\\\n",
    "        'PUBLIC INDECENCY','OTHER OFFENSE','OFFENSE INVOLVING CHILDREN','NARCOTICS',\\\n",
    "        \"HOMICIDE\",\"DECEPTIVE PRACTICE\",\"CRIMINAL TRESPASS\",\"CRIMINAL DAMAGE\",\"ASSAULT/BATTERY\",\"ALCOHAL LAW VIOLATION\"]\n",
    "pie_by_crime = chi_crime_types.plot(kind=\"pie\", y=\"Count\", title=\"Chicago Crimes 2001-Present\",labels=labels,autopct='%1.1f%%',figsize=(20,20))\n",
    "plt.legend(bbox_to_anchor=(0, 1), loc='upper right', ncol=1)"
   ]
  },
  {
   "cell_type": "markdown",
   "metadata": {},
   "source": [
    "Theft and Assault/Battery are the largest \"crime types\" for the city of Chicago from 2001-Present.    Alchol Law Violation and Public Indecency were the lowest \"crime types\" in Chicago from 2001-Present."
   ]
  },
  {
   "cell_type": "code",
   "execution_count": 62,
   "metadata": {},
   "outputs": [
    {
     "ename": "KeyError",
     "evalue": "\"None of ['Crime'] are in the columns\"",
     "output_type": "error",
     "traceback": [
      "\u001b[1;31m---------------------------------------------------------------------------\u001b[0m",
      "\u001b[1;31mKeyError\u001b[0m                                  Traceback (most recent call last)",
      "\u001b[1;32m<ipython-input-62-0d9d3f3c8e00>\u001b[0m in \u001b[0;36m<module>\u001b[1;34m\u001b[0m\n\u001b[0;32m      1\u001b[0m \u001b[1;31m#creating bar chart\u001b[0m\u001b[1;33m\u001b[0m\u001b[1;33m\u001b[0m\u001b[1;33m\u001b[0m\u001b[0m\n\u001b[0;32m      2\u001b[0m \u001b[1;33m\u001b[0m\u001b[0m\n\u001b[1;32m----> 3\u001b[1;33m \u001b[0mchi_crime_types\u001b[0m\u001b[1;33m.\u001b[0m\u001b[0mset_index\u001b[0m\u001b[1;33m(\u001b[0m\u001b[1;34m'Crime'\u001b[0m\u001b[1;33m,\u001b[0m \u001b[0minplace\u001b[0m \u001b[1;33m=\u001b[0m \u001b[1;32mTrue\u001b[0m\u001b[1;33m)\u001b[0m\u001b[1;33m\u001b[0m\u001b[1;33m\u001b[0m\u001b[0m\n\u001b[0m\u001b[0;32m      4\u001b[0m \u001b[0mchi_crime_types\u001b[0m\u001b[1;33m.\u001b[0m\u001b[0mplot\u001b[0m\u001b[1;33m(\u001b[0m\u001b[0mkind\u001b[0m\u001b[1;33m=\u001b[0m\u001b[1;34m\"bar\"\u001b[0m\u001b[1;33m,\u001b[0m \u001b[0mfacecolor\u001b[0m\u001b[1;33m=\u001b[0m\u001b[1;34m\"red\"\u001b[0m\u001b[1;33m,\u001b[0m \u001b[0malpha\u001b[0m\u001b[1;33m=\u001b[0m\u001b[1;36m.5\u001b[0m\u001b[1;33m,\u001b[0m\u001b[0mfigsize\u001b[0m\u001b[1;33m=\u001b[0m\u001b[1;33m(\u001b[0m\u001b[1;36m20\u001b[0m\u001b[1;33m,\u001b[0m\u001b[1;36m10\u001b[0m\u001b[1;33m)\u001b[0m\u001b[1;33m)\u001b[0m\u001b[1;33m\u001b[0m\u001b[1;33m\u001b[0m\u001b[0m\n\u001b[0;32m      5\u001b[0m \u001b[0mplt\u001b[0m\u001b[1;33m.\u001b[0m\u001b[0mtitle\u001b[0m\u001b[1;33m(\u001b[0m\u001b[1;34m\"Crimes by Type in Chicago 2001-Present\"\u001b[0m\u001b[1;33m,\u001b[0m\u001b[0mfontsize\u001b[0m\u001b[1;33m=\u001b[0m\u001b[1;36m40\u001b[0m\u001b[1;33m)\u001b[0m\u001b[1;33m\u001b[0m\u001b[1;33m\u001b[0m\u001b[0m\n",
      "\u001b[1;32m~\\Anaconda3\\lib\\site-packages\\pandas\\core\\frame.py\u001b[0m in \u001b[0;36mset_index\u001b[1;34m(self, keys, drop, append, inplace, verify_integrity)\u001b[0m\n\u001b[0;32m   4394\u001b[0m \u001b[1;33m\u001b[0m\u001b[0m\n\u001b[0;32m   4395\u001b[0m         \u001b[1;32mif\u001b[0m \u001b[0mmissing\u001b[0m\u001b[1;33m:\u001b[0m\u001b[1;33m\u001b[0m\u001b[1;33m\u001b[0m\u001b[0m\n\u001b[1;32m-> 4396\u001b[1;33m             \u001b[1;32mraise\u001b[0m \u001b[0mKeyError\u001b[0m\u001b[1;33m(\u001b[0m\u001b[1;34m\"None of {} are in the columns\"\u001b[0m\u001b[1;33m.\u001b[0m\u001b[0mformat\u001b[0m\u001b[1;33m(\u001b[0m\u001b[0mmissing\u001b[0m\u001b[1;33m)\u001b[0m\u001b[1;33m)\u001b[0m\u001b[1;33m\u001b[0m\u001b[1;33m\u001b[0m\u001b[0m\n\u001b[0m\u001b[0;32m   4397\u001b[0m \u001b[1;33m\u001b[0m\u001b[0m\n\u001b[0;32m   4398\u001b[0m         \u001b[1;32mif\u001b[0m \u001b[0minplace\u001b[0m\u001b[1;33m:\u001b[0m\u001b[1;33m\u001b[0m\u001b[1;33m\u001b[0m\u001b[0m\n",
      "\u001b[1;31mKeyError\u001b[0m: \"None of ['Crime'] are in the columns\""
     ]
    }
   ],
   "source": [
    "#creating bar chart\n",
    "\n",
    "chi_crime_types.set_index('Crime', inplace = True)\n",
    "chi_crime_types.plot(kind=\"bar\", facecolor=\"red\", alpha=.5,figsize=(20,10))\n",
    "plt.title(\"Crimes by Type in Chicago 2001-Present\",fontsize=40)\n",
    "plt.ylabel(\"Number of Crimes Committed\",fontsize=25)\n",
    "plt.xlabel(\"Type of Crime\",fontsize=25)\n",
    "plt.xticks(fontsize=20,rotation=90)\n"
   ]
  },
  {
   "cell_type": "code",
   "execution_count": 58,
   "metadata": {},
   "outputs": [
    {
     "data": {
      "text/html": [
       "<div>\n",
       "<style scoped>\n",
       "    .dataframe tbody tr th:only-of-type {\n",
       "        vertical-align: middle;\n",
       "    }\n",
       "\n",
       "    .dataframe tbody tr th {\n",
       "        vertical-align: top;\n",
       "    }\n",
       "\n",
       "    .dataframe thead th {\n",
       "        text-align: right;\n",
       "    }\n",
       "</style>\n",
       "<table border=\"1\" class=\"dataframe\">\n",
       "  <thead>\n",
       "    <tr style=\"text-align: right;\">\n",
       "      <th></th>\n",
       "      <th>Primary Type</th>\n",
       "      <th>Description</th>\n",
       "      <th>Location Description</th>\n",
       "      <th>Arrest</th>\n",
       "      <th>Domestic</th>\n",
       "      <th>Beat</th>\n",
       "      <th>District</th>\n",
       "      <th>Ward</th>\n",
       "      <th>Community Area</th>\n",
       "      <th>Year</th>\n",
       "      <th>Latitude</th>\n",
       "      <th>Longitude</th>\n",
       "      <th>Location</th>\n",
       "      <th>Date</th>\n",
       "    </tr>\n",
       "  </thead>\n",
       "  <tbody>\n",
       "    <tr>\n",
       "      <td>0</td>\n",
       "      <td>DECEPTIVE PRACTICE</td>\n",
       "      <td>FINANCIAL IDENTITY THEFT OVER $ 300</td>\n",
       "      <td>RESIDENCE</td>\n",
       "      <td>False</td>\n",
       "      <td>False</td>\n",
       "      <td>412</td>\n",
       "      <td>4.0</td>\n",
       "      <td>8.0</td>\n",
       "      <td>45.0</td>\n",
       "      <td>2001</td>\n",
       "      <td>NaN</td>\n",
       "      <td>NaN</td>\n",
       "      <td>NaN</td>\n",
       "      <td>1/1/2001 11:00</td>\n",
       "    </tr>\n",
       "    <tr>\n",
       "      <td>1</td>\n",
       "      <td>CRIM SEXUAL ASSAULT</td>\n",
       "      <td>NON-AGGRAVATED</td>\n",
       "      <td>RESIDENCE</td>\n",
       "      <td>False</td>\n",
       "      <td>False</td>\n",
       "      <td>2222</td>\n",
       "      <td>22.0</td>\n",
       "      <td>21.0</td>\n",
       "      <td>73.0</td>\n",
       "      <td>2017</td>\n",
       "      <td>NaN</td>\n",
       "      <td>NaN</td>\n",
       "      <td>NaN</td>\n",
       "      <td>10/8/2017 3:00</td>\n",
       "    </tr>\n",
       "    <tr>\n",
       "      <td>2</td>\n",
       "      <td>BURGLARY</td>\n",
       "      <td>UNLAWFUL ENTRY</td>\n",
       "      <td>OTHER</td>\n",
       "      <td>False</td>\n",
       "      <td>False</td>\n",
       "      <td>835</td>\n",
       "      <td>8.0</td>\n",
       "      <td>18.0</td>\n",
       "      <td>70.0</td>\n",
       "      <td>2017</td>\n",
       "      <td>NaN</td>\n",
       "      <td>NaN</td>\n",
       "      <td>NaN</td>\n",
       "      <td>3/28/2017 14:00</td>\n",
       "    </tr>\n",
       "    <tr>\n",
       "      <td>3</td>\n",
       "      <td>THEFT</td>\n",
       "      <td>OVER $500</td>\n",
       "      <td>RESIDENCE</td>\n",
       "      <td>False</td>\n",
       "      <td>False</td>\n",
       "      <td>313</td>\n",
       "      <td>3.0</td>\n",
       "      <td>20.0</td>\n",
       "      <td>42.0</td>\n",
       "      <td>2017</td>\n",
       "      <td>NaN</td>\n",
       "      <td>NaN</td>\n",
       "      <td>NaN</td>\n",
       "      <td>9/9/2017 20:17</td>\n",
       "    </tr>\n",
       "    <tr>\n",
       "      <td>4</td>\n",
       "      <td>CRIM SEXUAL ASSAULT</td>\n",
       "      <td>NON-AGGRAVATED</td>\n",
       "      <td>HOTEL/MOTEL</td>\n",
       "      <td>False</td>\n",
       "      <td>False</td>\n",
       "      <td>122</td>\n",
       "      <td>1.0</td>\n",
       "      <td>42.0</td>\n",
       "      <td>32.0</td>\n",
       "      <td>2017</td>\n",
       "      <td>NaN</td>\n",
       "      <td>NaN</td>\n",
       "      <td>NaN</td>\n",
       "      <td>8/26/2017 10:00</td>\n",
       "    </tr>\n",
       "  </tbody>\n",
       "</table>\n",
       "</div>"
      ],
      "text/plain": [
       "          Primary Type                          Description  \\\n",
       "0   DECEPTIVE PRACTICE  FINANCIAL IDENTITY THEFT OVER $ 300   \n",
       "1  CRIM SEXUAL ASSAULT                       NON-AGGRAVATED   \n",
       "2             BURGLARY                       UNLAWFUL ENTRY   \n",
       "3                THEFT                            OVER $500   \n",
       "4  CRIM SEXUAL ASSAULT                       NON-AGGRAVATED   \n",
       "\n",
       "  Location Description  Arrest  Domestic  Beat  District  Ward  \\\n",
       "0            RESIDENCE   False     False   412       4.0   8.0   \n",
       "1            RESIDENCE   False     False  2222      22.0  21.0   \n",
       "2                OTHER   False     False   835       8.0  18.0   \n",
       "3            RESIDENCE   False     False   313       3.0  20.0   \n",
       "4          HOTEL/MOTEL   False     False   122       1.0  42.0   \n",
       "\n",
       "   Community Area  Year  Latitude  Longitude Location             Date  \n",
       "0            45.0  2001       NaN        NaN      NaN   1/1/2001 11:00  \n",
       "1            73.0  2017       NaN        NaN      NaN   10/8/2017 3:00  \n",
       "2            70.0  2017       NaN        NaN      NaN  3/28/2017 14:00  \n",
       "3            42.0  2017       NaN        NaN      NaN   9/9/2017 20:17  \n",
       "4            32.0  2017       NaN        NaN      NaN  8/26/2017 10:00  "
      ]
     },
     "execution_count": 58,
     "metadata": {},
     "output_type": "execute_result"
    }
   ],
   "source": [
    "new_data.head()"
   ]
  },
  {
   "cell_type": "code",
   "execution_count": 59,
   "metadata": {},
   "outputs": [
    {
     "data": {
      "text/html": [
       "<div>\n",
       "<style scoped>\n",
       "    .dataframe tbody tr th:only-of-type {\n",
       "        vertical-align: middle;\n",
       "    }\n",
       "\n",
       "    .dataframe tbody tr th {\n",
       "        vertical-align: top;\n",
       "    }\n",
       "\n",
       "    .dataframe thead th {\n",
       "        text-align: right;\n",
       "    }\n",
       "</style>\n",
       "<table border=\"1\" class=\"dataframe\">\n",
       "  <thead>\n",
       "    <tr style=\"text-align: right;\">\n",
       "      <th></th>\n",
       "      <th>Primary Type</th>\n",
       "      <th>Description</th>\n",
       "      <th>Location Description</th>\n",
       "      <th>Arrest</th>\n",
       "      <th>Domestic</th>\n",
       "      <th>Beat</th>\n",
       "      <th>District</th>\n",
       "      <th>Ward</th>\n",
       "      <th>Community Area</th>\n",
       "      <th>Year</th>\n",
       "      <th>Latitude</th>\n",
       "      <th>Longitude</th>\n",
       "      <th>Location</th>\n",
       "      <th>Date</th>\n",
       "      <th>Month</th>\n",
       "    </tr>\n",
       "  </thead>\n",
       "  <tbody>\n",
       "    <tr>\n",
       "      <td>0</td>\n",
       "      <td>DECEPTIVE PRACTICE</td>\n",
       "      <td>FINANCIAL IDENTITY THEFT OVER $ 300</td>\n",
       "      <td>RESIDENCE</td>\n",
       "      <td>False</td>\n",
       "      <td>False</td>\n",
       "      <td>412</td>\n",
       "      <td>4.0</td>\n",
       "      <td>8.0</td>\n",
       "      <td>45.0</td>\n",
       "      <td>2001</td>\n",
       "      <td>NaN</td>\n",
       "      <td>NaN</td>\n",
       "      <td>NaN</td>\n",
       "      <td>1/1/2001 11:00</td>\n",
       "      <td>1</td>\n",
       "    </tr>\n",
       "    <tr>\n",
       "      <td>1</td>\n",
       "      <td>CRIM SEXUAL ASSAULT</td>\n",
       "      <td>NON-AGGRAVATED</td>\n",
       "      <td>RESIDENCE</td>\n",
       "      <td>False</td>\n",
       "      <td>False</td>\n",
       "      <td>2222</td>\n",
       "      <td>22.0</td>\n",
       "      <td>21.0</td>\n",
       "      <td>73.0</td>\n",
       "      <td>2017</td>\n",
       "      <td>NaN</td>\n",
       "      <td>NaN</td>\n",
       "      <td>NaN</td>\n",
       "      <td>10/8/2017 3:00</td>\n",
       "      <td>10</td>\n",
       "    </tr>\n",
       "    <tr>\n",
       "      <td>2</td>\n",
       "      <td>BURGLARY</td>\n",
       "      <td>UNLAWFUL ENTRY</td>\n",
       "      <td>OTHER</td>\n",
       "      <td>False</td>\n",
       "      <td>False</td>\n",
       "      <td>835</td>\n",
       "      <td>8.0</td>\n",
       "      <td>18.0</td>\n",
       "      <td>70.0</td>\n",
       "      <td>2017</td>\n",
       "      <td>NaN</td>\n",
       "      <td>NaN</td>\n",
       "      <td>NaN</td>\n",
       "      <td>3/28/2017 14:00</td>\n",
       "      <td>3</td>\n",
       "    </tr>\n",
       "    <tr>\n",
       "      <td>3</td>\n",
       "      <td>THEFT</td>\n",
       "      <td>OVER $500</td>\n",
       "      <td>RESIDENCE</td>\n",
       "      <td>False</td>\n",
       "      <td>False</td>\n",
       "      <td>313</td>\n",
       "      <td>3.0</td>\n",
       "      <td>20.0</td>\n",
       "      <td>42.0</td>\n",
       "      <td>2017</td>\n",
       "      <td>NaN</td>\n",
       "      <td>NaN</td>\n",
       "      <td>NaN</td>\n",
       "      <td>9/9/2017 20:17</td>\n",
       "      <td>9</td>\n",
       "    </tr>\n",
       "    <tr>\n",
       "      <td>4</td>\n",
       "      <td>CRIM SEXUAL ASSAULT</td>\n",
       "      <td>NON-AGGRAVATED</td>\n",
       "      <td>HOTEL/MOTEL</td>\n",
       "      <td>False</td>\n",
       "      <td>False</td>\n",
       "      <td>122</td>\n",
       "      <td>1.0</td>\n",
       "      <td>42.0</td>\n",
       "      <td>32.0</td>\n",
       "      <td>2017</td>\n",
       "      <td>NaN</td>\n",
       "      <td>NaN</td>\n",
       "      <td>NaN</td>\n",
       "      <td>8/26/2017 10:00</td>\n",
       "      <td>8</td>\n",
       "    </tr>\n",
       "  </tbody>\n",
       "</table>\n",
       "</div>"
      ],
      "text/plain": [
       "          Primary Type                          Description  \\\n",
       "0   DECEPTIVE PRACTICE  FINANCIAL IDENTITY THEFT OVER $ 300   \n",
       "1  CRIM SEXUAL ASSAULT                       NON-AGGRAVATED   \n",
       "2             BURGLARY                       UNLAWFUL ENTRY   \n",
       "3                THEFT                            OVER $500   \n",
       "4  CRIM SEXUAL ASSAULT                       NON-AGGRAVATED   \n",
       "\n",
       "  Location Description  Arrest  Domestic  Beat  District  Ward  \\\n",
       "0            RESIDENCE   False     False   412       4.0   8.0   \n",
       "1            RESIDENCE   False     False  2222      22.0  21.0   \n",
       "2                OTHER   False     False   835       8.0  18.0   \n",
       "3            RESIDENCE   False     False   313       3.0  20.0   \n",
       "4          HOTEL/MOTEL   False     False   122       1.0  42.0   \n",
       "\n",
       "   Community Area  Year  Latitude  Longitude Location             Date  Month  \n",
       "0            45.0  2001       NaN        NaN      NaN   1/1/2001 11:00      1  \n",
       "1            73.0  2017       NaN        NaN      NaN   10/8/2017 3:00     10  \n",
       "2            70.0  2017       NaN        NaN      NaN  3/28/2017 14:00      3  \n",
       "3            42.0  2017       NaN        NaN      NaN   9/9/2017 20:17      9  \n",
       "4            32.0  2017       NaN        NaN      NaN  8/26/2017 10:00      8  "
      ]
     },
     "execution_count": 59,
     "metadata": {},
     "output_type": "execute_result"
    }
   ],
   "source": [
    "#adding month column to \"Trimmed\" data frame and extracting the month from the date\n",
    "\n",
    "new_data['Month'] = pd.DatetimeIndex(new_data['Date']).month\n",
    "new_data.head()"
   ]
  },
  {
   "cell_type": "code",
   "execution_count": 60,
   "metadata": {},
   "outputs": [
    {
     "data": {
      "text/html": [
       "<div>\n",
       "<style scoped>\n",
       "    .dataframe tbody tr th:only-of-type {\n",
       "        vertical-align: middle;\n",
       "    }\n",
       "\n",
       "    .dataframe tbody tr th {\n",
       "        vertical-align: top;\n",
       "    }\n",
       "\n",
       "    .dataframe thead th {\n",
       "        text-align: right;\n",
       "    }\n",
       "</style>\n",
       "<table border=\"1\" class=\"dataframe\">\n",
       "  <thead>\n",
       "    <tr style=\"text-align: right;\">\n",
       "      <th></th>\n",
       "      <th>Month</th>\n",
       "      <th>Primary Type</th>\n",
       "      <th>Description</th>\n",
       "      <th>Location Description</th>\n",
       "      <th>Arrest</th>\n",
       "      <th>Domestic</th>\n",
       "      <th>Beat</th>\n",
       "      <th>District</th>\n",
       "      <th>Ward</th>\n",
       "      <th>Community Area</th>\n",
       "      <th>Year</th>\n",
       "      <th>Latitude</th>\n",
       "      <th>Longitude</th>\n",
       "      <th>Location</th>\n",
       "      <th>Date</th>\n",
       "    </tr>\n",
       "  </thead>\n",
       "  <tbody>\n",
       "    <tr>\n",
       "      <td>0</td>\n",
       "      <td>1</td>\n",
       "      <td>19439</td>\n",
       "      <td>19439</td>\n",
       "      <td>19356</td>\n",
       "      <td>19439</td>\n",
       "      <td>19439</td>\n",
       "      <td>19439</td>\n",
       "      <td>19439</td>\n",
       "      <td>19439</td>\n",
       "      <td>19437</td>\n",
       "      <td>19439</td>\n",
       "      <td>19335</td>\n",
       "      <td>19335</td>\n",
       "      <td>19335</td>\n",
       "      <td>19439</td>\n",
       "    </tr>\n",
       "    <tr>\n",
       "      <td>1</td>\n",
       "      <td>2</td>\n",
       "      <td>17757</td>\n",
       "      <td>17757</td>\n",
       "      <td>17702</td>\n",
       "      <td>17757</td>\n",
       "      <td>17757</td>\n",
       "      <td>17757</td>\n",
       "      <td>17757</td>\n",
       "      <td>17757</td>\n",
       "      <td>17757</td>\n",
       "      <td>17757</td>\n",
       "      <td>17674</td>\n",
       "      <td>17674</td>\n",
       "      <td>17674</td>\n",
       "      <td>17757</td>\n",
       "    </tr>\n",
       "    <tr>\n",
       "      <td>2</td>\n",
       "      <td>3</td>\n",
       "      <td>16019</td>\n",
       "      <td>16019</td>\n",
       "      <td>15947</td>\n",
       "      <td>16019</td>\n",
       "      <td>16019</td>\n",
       "      <td>16019</td>\n",
       "      <td>16019</td>\n",
       "      <td>16018</td>\n",
       "      <td>16019</td>\n",
       "      <td>16019</td>\n",
       "      <td>15912</td>\n",
       "      <td>15912</td>\n",
       "      <td>15912</td>\n",
       "      <td>16019</td>\n",
       "    </tr>\n",
       "  </tbody>\n",
       "</table>\n",
       "</div>"
      ],
      "text/plain": [
       "   Month  Primary Type  Description  Location Description  Arrest  Domestic  \\\n",
       "0      1         19439        19439                 19356   19439     19439   \n",
       "1      2         17757        17757                 17702   17757     17757   \n",
       "2      3         16019        16019                 15947   16019     16019   \n",
       "\n",
       "    Beat  District   Ward  Community Area   Year  Latitude  Longitude  \\\n",
       "0  19439     19439  19439           19437  19439     19335      19335   \n",
       "1  17757     17757  17757           17757  17757     17674      17674   \n",
       "2  16019     16019  16018           16019  16019     15912      15912   \n",
       "\n",
       "   Location   Date  \n",
       "0     19335  19439  \n",
       "1     17674  17757  \n",
       "2     15912  16019  "
      ]
     },
     "execution_count": 60,
     "metadata": {},
     "output_type": "execute_result"
    }
   ],
   "source": [
    "#Narrowing \"Trimmed\" DF to only look at 2020\n",
    "\n",
    "df_2020=new_data.loc[new_data[\"Year\"]==2020]\n",
    "df_2020 = pd.DataFrame(df_2020.groupby([\"Month\"]).count()).reset_index()\n",
    "df_2020 = df_2020.drop(3)\n",
    "df_2019=new_data.loc[new_data[\"Year\"]==2019]\n",
    "df_2019 = pd.DataFrame(df_2019.groupby([\"Month\"]).count()).reset_index()\n",
    "df_2018=new_data.loc[new_data[\"Year\"]==2018]\n",
    "df_2018 = pd.DataFrame(df_2018.groupby([\"Month\"]).count()).reset_index()\n",
    "df_2017=new_data.loc[new_data[\"Year\"]==2017]\n",
    "df_2017 = pd.DataFrame(df_2017.groupby([\"Month\"]).count()).reset_index()\n",
    "df_2016=new_data.loc[new_data[\"Year\"]==2016]\n",
    "df_2016 = pd.DataFrame(df_2016.groupby([\"Month\"]).count()).reset_index()\n",
    "df_2015=new_data.loc[new_data[\"Year\"]==2015]\n",
    "df_2015 = pd.DataFrame(df_2015.groupby([\"Month\"]).count()).reset_index()\n",
    "df_2014=new_data.loc[new_data[\"Year\"]==2014]\n",
    "df_2014 = pd.DataFrame(df_2014.groupby([\"Month\"]).count()).reset_index()\n",
    "df_2013=new_data.loc[new_data[\"Year\"]==2013]\n",
    "df_2013 = pd.DataFrame(df_2013.groupby([\"Month\"]).count()).reset_index()\n",
    "df_2012=new_data.loc[new_data[\"Year\"]==2012]\n",
    "df_2012 = pd.DataFrame(df_2012.groupby([\"Month\"]).count()).reset_index()\n",
    "df_2011=new_data.loc[new_data[\"Year\"]==2011]\n",
    "df_2011 = pd.DataFrame(df_2011.groupby([\"Month\"]).count()).reset_index()\n",
    "df_2010=new_data.loc[new_data[\"Year\"]==2010]\n",
    "df_2010 = pd.DataFrame(df_2010.groupby([\"Month\"]).count()).reset_index()\n",
    "df_2009=new_data.loc[new_data[\"Year\"]==2009]\n",
    "df_2009 = pd.DataFrame(df_2009.groupby([\"Month\"]).count()).reset_index()\n",
    "df_2008=new_data.loc[new_data[\"Year\"]==2008]\n",
    "df_2008 = pd.DataFrame(df_2008.groupby([\"Month\"]).count()).reset_index()\n",
    "df_2007=new_data.loc[new_data[\"Year\"]==2007]\n",
    "df_2007 = pd.DataFrame(df_2007.groupby([\"Month\"]).count()).reset_index()\n",
    "df_2006=new_data.loc[new_data[\"Year\"]==2006]\n",
    "df_2006 = pd.DataFrame(df_2006.groupby([\"Month\"]).count()).reset_index()\n",
    "df_2005=new_data.loc[new_data[\"Year\"]==2005]\n",
    "df_2005 = pd.DataFrame(df_2005.groupby([\"Month\"]).count()).reset_index()\n",
    "df_2004=new_data.loc[new_data[\"Year\"]==2004]\n",
    "df_2004 = pd.DataFrame(df_2004.groupby([\"Month\"]).count()).reset_index()\n",
    "df_2003=new_data.loc[new_data[\"Year\"]==2003]\n",
    "df_2003 = pd.DataFrame(df_2003.groupby([\"Month\"]).count()).reset_index()\n",
    "df_2002=new_data.loc[new_data[\"Year\"]==2002]\n",
    "df_2002 = pd.DataFrame(df_2002.groupby([\"Month\"]).count()).reset_index()\n",
    "df_2001=new_data.loc[new_data[\"Year\"]==2001]\n",
    "df_2001 = pd.DataFrame(df_2001.groupby([\"Month\"]).count()).reset_index()\n",
    "df_2020.head()\n"
   ]
  },
  {
   "cell_type": "code",
   "execution_count": 1,
   "metadata": {},
   "outputs": [
    {
     "ename": "NameError",
     "evalue": "name 'df_2020' is not defined",
     "output_type": "error",
     "traceback": [
      "\u001b[1;31m---------------------------------------------------------------------------\u001b[0m",
      "\u001b[1;31mNameError\u001b[0m                                 Traceback (most recent call last)",
      "\u001b[1;32m<ipython-input-1-a1de33fce4ae>\u001b[0m in \u001b[0;36m<module>\u001b[1;34m\u001b[0m\n\u001b[1;32m----> 1\u001b[1;33m \u001b[0mx_values\u001b[0m \u001b[1;33m=\u001b[0m \u001b[0mdf_2020\u001b[0m\u001b[1;33m[\u001b[0m\u001b[1;34m'Month'\u001b[0m\u001b[1;33m]\u001b[0m\u001b[1;33m\u001b[0m\u001b[1;33m\u001b[0m\u001b[0m\n\u001b[0m\u001b[0;32m      2\u001b[0m \u001b[0my_values\u001b[0m \u001b[1;33m=\u001b[0m \u001b[0mdf_2020\u001b[0m\u001b[1;33m[\u001b[0m\u001b[1;34m'Primary Type'\u001b[0m\u001b[1;33m]\u001b[0m\u001b[1;33m\u001b[0m\u001b[1;33m\u001b[0m\u001b[0m\n\u001b[0;32m      3\u001b[0m \u001b[1;33m\u001b[0m\u001b[0m\n\u001b[0;32m      4\u001b[0m \u001b[1;33m(\u001b[0m\u001b[0mslope\u001b[0m\u001b[1;33m,\u001b[0m \u001b[0mintercept\u001b[0m\u001b[1;33m,\u001b[0m \u001b[0mrvalue\u001b[0m\u001b[1;33m,\u001b[0m \u001b[0mpvalue\u001b[0m\u001b[1;33m,\u001b[0m \u001b[0mstderr\u001b[0m\u001b[1;33m)\u001b[0m \u001b[1;33m=\u001b[0m \u001b[0mlinregress\u001b[0m\u001b[1;33m(\u001b[0m\u001b[0mx_values\u001b[0m\u001b[1;33m,\u001b[0m \u001b[0my_values\u001b[0m\u001b[1;33m)\u001b[0m\u001b[1;33m\u001b[0m\u001b[1;33m\u001b[0m\u001b[0m\n\u001b[0;32m      5\u001b[0m \u001b[0mregress_values\u001b[0m \u001b[1;33m=\u001b[0m \u001b[0mx_values\u001b[0m \u001b[1;33m*\u001b[0m \u001b[0mslope\u001b[0m \u001b[1;33m+\u001b[0m \u001b[0mintercept\u001b[0m\u001b[1;33m\u001b[0m\u001b[1;33m\u001b[0m\u001b[0m\n",
      "\u001b[1;31mNameError\u001b[0m: name 'df_2020' is not defined"
     ]
    }
   ],
   "source": [
    "x_values = df_2020['Month']\n",
    "y_values = df_2020['Primary Type']\n",
    "\n",
    "(slope, intercept, rvalue, pvalue, stderr) = linregress(x_values, y_values)\n",
    "regress_values = x_values * slope + intercept\n",
    "line_eq = \"y = \" + str(round(slope,2)) + \"x + \" + str(round(intercept,2))\n",
    "plt.figure(figsize=(8,5))\n",
    "plt.scatter(x_values,y_values)\n",
    "plt.plot(x_values,regress_values,\"r-\")\n",
    "plt.annotate(line_eq,(.75,16000),fontsize=15,color=\"red\")\n",
    "plt.title(\"Crimes by Type in Chicago by Month for 2020\",fontsize=20)\n",
    "plt.xlabel('Month of 2020',fontsize=15)\n",
    "plt.xticks(np.arange(4), (\"\",'Jan', 'Feb', 'Mar'))\n",
    "plt.xlim(.5,3.5)\n",
    "plt.ylabel('# of Crimes Committed',fontsize=15)\n",
    "plt.savefig(\"Resources/cf/chi20_month_scatter.png\")\n",
    "plt.show()\n",
    "month = 4\n",
    "print(f\"If this trend continues, the number of crimes commited in Chicago for April, 2020 will be {round(slope * month + intercept,2)}.\")\n"
   ]
  },
  {
   "cell_type": "code",
   "execution_count": 295,
   "metadata": {},
   "outputs": [
    {
     "data": {
      "image/png": "[encoded data removed]",
      "text/plain": [
       "<Figure size 360x360 with 1 Axes>"
      ]
     },
     "metadata": {
      "needs_background": "light"
     },
     "output_type": "display_data"
    }
   ],
   "source": [
    "x_values = df_2019['Month']\n",
    "y_values = df_2019['Primary Type']\n",
    "\n",
    "(slope, intercept, rvalue, pvalue, stderr) = linregress(x_values, y_values)\n",
    "regress_values = x_values * slope + intercept\n",
    "line_eq = \"y = \" + str(round(slope,2)) + \"x + \" + str(round(intercept,2))\n",
    "plt.figure(figsize=(5,5))\n",
    "plt.scatter(x_values,y_values)\n",
    "plt.plot(x_values,regress_values,\"r-\")\n",
    "plt.annotate(line_eq,(4,5000),fontsize=15,color=\"red\")\n",
    "\n",
    "plt.title(\"Crimes by Type in Chicago by Month for 2019\",fontsize=20)\n",
    "plt.xlabel('Month of 2019',fontsize=15)\n",
    "plt.xticks(np.arange(13), ('','Jan', 'Feb', 'Mar', 'Apr','May', 'Jun','Jul','Aug','Sep','Oct','Nov','Dec'))\n",
    "plt.ylabel('# of Crimes Committed',fontsize=15)\n",
    "plt.savefig(\"Resources/cf/chi19_month_scatter.png\")\n",
    "plt.show()\n"
   ]
  },
  {
   "cell_type": "code",
   "execution_count": 296,
   "metadata": {},
   "outputs": [
    {
     "data": {
      "image/png": "[encoded data removed]",
      "text/plain": [
       "<Figure size 360x360 with 1 Axes>"
      ]
     },
     "metadata": {
      "needs_background": "light"
     },
     "output_type": "display_data"
    }
   ],
   "source": [
    "x_values = df_2018['Month']\n",
    "y_values = df_2018['Primary Type']\n",
    "\n",
    "(slope, intercept, rvalue, pvalue, stderr) = linregress(x_values, y_values)\n",
    "regress_values = x_values * slope + intercept\n",
    "line_eq = \"y = \" + str(round(slope,2)) + \"x + \" + str(round(intercept,2))\n",
    "plt.figure(figsize=(5,5))\n",
    "plt.scatter(x_values,y_values)\n",
    "plt.plot(x_values,regress_values,\"r-\")\n",
    "plt.annotate(line_eq,(4,1600),fontsize=15,color=\"red\")\n",
    "\n",
    "plt.title(\"Crimes by Type in Chicago by Month for 2018\",fontsize=20)\n",
    "plt.xlabel('Month of 2018',fontsize=15)\n",
    "plt.xticks(np.arange(13), ('','Jan', 'Feb', 'Mar', 'Apr','May', 'Jun','Jul','Aug','Sep','Oct','Nov','Dec'))\n",
    "plt.ylabel('# of Crimes Committed',fontsize=15)\n",
    "plt.savefig(\"Resources/cf/chi18_month_scatter.png\")\n",
    "plt.show()\n"
   ]
  },
  {
   "cell_type": "code",
   "execution_count": 297,
   "metadata": {},
   "outputs": [
    {
     "data": {
      "image/png": "[encoded data removed]",
      "text/plain": [
       "<Figure size 360x360 with 1 Axes>"
      ]
     },
     "metadata": {
      "needs_background": "light"
     },
     "output_type": "display_data"
    }
   ],
   "source": [
    "x_values = df_2017['Month']\n",
    "y_values = df_2017['Primary Type']\n",
    "\n",
    "(slope, intercept, rvalue, pvalue, stderr) = linregress(x_values, y_values)\n",
    "regress_values = x_values * slope + intercept\n",
    "line_eq = \"y = \" + str(round(slope,2)) + \"x + \" + str(round(intercept,2))\n",
    "plt.figure(figsize=(5,5))\n",
    "plt.scatter(x_values,y_values)\n",
    "plt.plot(x_values,regress_values,\"r-\")\n",
    "plt.annotate(line_eq,(4,20000),fontsize=15,color=\"red\")\n",
    "\n",
    "plt.title(\"Crimes by Type in Chicago by Month for 2017\",fontsize=20)\n",
    "plt.xlabel('Month of 2017',fontsize=15)\n",
    "plt.xticks(np.arange(13), ('','Jan', 'Feb', 'Mar', 'Apr','May', 'Jun','Jul','Aug','Sep','Oct','Nov','Dec'))\n",
    "plt.ylabel('# of Crimes Committed',fontsize=15)\n",
    "plt.savefig(\"Resources/cf/chi17_month_scatter.png\")\n",
    "plt.show()\n"
   ]
  },
  {
   "cell_type": "code",
   "execution_count": 298,
   "metadata": {},
   "outputs": [
    {
     "data": {
      "image/png": "[encoded data removed]",
      "text/plain": [
       "<Figure size 360x360 with 1 Axes>"
      ]
     },
     "metadata": {
      "needs_background": "light"
     },
     "output_type": "display_data"
    }
   ],
   "source": [
    "x_values = df_2016['Month']\n",
    "y_values = df_2016['Primary Type']\n",
    "\n",
    "(slope, intercept, rvalue, pvalue, stderr) = linregress(x_values, y_values)\n",
    "regress_values = x_values * slope + intercept\n",
    "line_eq = \"y = \" + str(round(slope,2)) + \"x + \" + str(round(intercept,2))\n",
    "plt.figure(figsize=(5,5))\n",
    "plt.scatter(x_values,y_values)\n",
    "plt.plot(x_values,regress_values,\"r-\")\n",
    "plt.annotate(line_eq,(4,19000),fontsize=15,color=\"red\")\n",
    "\n",
    "plt.title(\"Crimes by Type in Chicago by Month for 2016\",fontsize=20)\n",
    "plt.xlabel('Month of 2016',fontsize=15)\n",
    "plt.xticks(np.arange(13), ('','Jan', 'Feb', 'Mar', 'Apr','May', 'Jun','Jul','Aug','Sep','Oct','Nov','Dec'))\n",
    "plt.ylabel('# of Crimes Committed',fontsize=15)\n",
    "plt.savefig(\"Resources/cf/chi16_month_scatter.png\")\n",
    "plt.show()\n"
   ]
  },
  {
   "cell_type": "code",
   "execution_count": 299,
   "metadata": {},
   "outputs": [
    {
     "data": {
      "image/png": "[encoded data removed]",
      "text/plain": [
       "<Figure size 360x360 with 1 Axes>"
      ]
     },
     "metadata": {
      "needs_background": "light"
     },
     "output_type": "display_data"
    }
   ],
   "source": [
    "x_values = df_2015['Month']\n",
    "y_values = df_2015['Primary Type']\n",
    "\n",
    "(slope, intercept, rvalue, pvalue, stderr) = linregress(x_values, y_values)\n",
    "regress_values = x_values * slope + intercept\n",
    "line_eq = \"y = \" + str(round(slope,2)) + \"x + \" + str(round(intercept,2))\n",
    "plt.figure(figsize=(5,5))\n",
    "plt.scatter(x_values,y_values)\n",
    "plt.plot(x_values,regress_values,\"r-\")\n",
    "plt.annotate(line_eq,(4,5000),fontsize=15,color=\"red\")\n",
    "\n",
    "plt.title(\"Crimes by Type in Chicago by Month for 2015\",fontsize=20)\n",
    "plt.xlabel('Month of 2015',fontsize=15)\n",
    "plt.xticks(np.arange(13), ('','Jan', 'Feb', 'Mar', 'Apr','May', 'Jun','Jul','Aug','Sep','Oct','Nov','Dec'))\n",
    "plt.ylabel('# of Crimes Committed',fontsize=15)\n",
    "plt.savefig(\"Resources/cf/chi15_month_scatter.png\")\n",
    "plt.show()\n"
   ]
  },
  {
   "cell_type": "code",
   "execution_count": 300,
   "metadata": {},
   "outputs": [
    {
     "data": {
      "image/png": "[encoded data removed]",
      "text/plain": [
       "<Figure size 360x360 with 1 Axes>"
      ]
     },
     "metadata": {
      "needs_background": "light"
     },
     "output_type": "display_data"
    }
   ],
   "source": [
    "x_values = df_2014['Month']\n",
    "y_values = df_2014['Primary Type']\n",
    "\n",
    "(slope, intercept, rvalue, pvalue, stderr) = linregress(x_values, y_values)\n",
    "regress_values = x_values * slope + intercept\n",
    "line_eq = \"y = \" + str(round(slope,2)) + \"x + \" + str(round(intercept,2))\n",
    "plt.figure(figsize=(5,5))\n",
    "plt.scatter(x_values,y_values)\n",
    "plt.plot(x_values,regress_values,\"r-\")\n",
    "plt.annotate(line_eq,(2,350),fontsize=15,color=\"red\")\n",
    "\n",
    "plt.title(\"Crimes by Type in Chicago by Month for 2014\",fontsize=20)\n",
    "plt.xlabel('Month of 2014',fontsize=15)\n",
    "plt.xticks(np.arange(13), ('','Jan', 'Feb', 'Mar', 'Apr','May', 'Jun','Jul','Aug','Sep','Oct','Nov','Dec'))\n",
    "plt.ylabel('# of Crimes Committed',fontsize=15)\n",
    "plt.savefig(\"Resources/cf/chi14_month_scatter.png\")\n",
    "plt.show()\n"
   ]
  },
  {
   "cell_type": "code",
   "execution_count": 301,
   "metadata": {},
   "outputs": [
    {
     "data": {
      "image/png": "[encoded data removed]",
      "text/plain": [
       "<Figure size 360x360 with 1 Axes>"
      ]
     },
     "metadata": {
      "needs_background": "light"
     },
     "output_type": "display_data"
    }
   ],
   "source": [
    "x_values = df_2013['Month']\n",
    "y_values = df_2013['Primary Type']\n",
    "\n",
    "(slope, intercept, rvalue, pvalue, stderr) = linregress(x_values, y_values)\n",
    "regress_values = x_values * slope + intercept\n",
    "line_eq = \"y = \" + str(round(slope,2)) + \"x + \" + str(round(intercept,2))\n",
    "plt.figure(figsize=(5,5))\n",
    "plt.scatter(x_values,y_values)\n",
    "plt.plot(x_values,regress_values,\"r-\")\n",
    "plt.annotate(line_eq,(2,200),fontsize=15,color=\"red\")\n",
    "\n",
    "plt.title(\"Crimes by Type in Chicago by Month for 2013\",fontsize=20)\n",
    "plt.xlabel('Month of 2013',fontsize=15)\n",
    "plt.xticks(np.arange(13), ('','Jan', 'Feb', 'Mar', 'Apr','May', 'Jun','Jul','Aug','Sep','Oct','Nov','Dec'))\n",
    "plt.ylabel('# of Crimes Committed',fontsize=15)\n",
    "plt.savefig(\"Resources/cf/chi13_month_scatter.png\")\n",
    "plt.show()\n"
   ]
  },
  {
   "cell_type": "code",
   "execution_count": 302,
   "metadata": {},
   "outputs": [
    {
     "data": {
      "text/plain": [
       "<Figure size 800x1400 with 0 Axes>"
      ]
     },
     "metadata": {},
     "output_type": "display_data"
    },
    {
     "data": {
      "image/png": "[encoded data removed]",
      "text/plain": [
       "<Figure size 360x360 with 1 Axes>"
      ]
     },
     "metadata": {
      "needs_background": "light"
     },
     "output_type": "display_data"
    }
   ],
   "source": [
    "x_values = df_2012['Month']\n",
    "y_values = df_2012['Primary Type']\n",
    "\n",
    "fig = plt.figure(1, figsize=(8, 14), frameon=False, dpi=100)\n",
    "\n",
    "(slope, intercept, rvalue, pvalue, stderr) = linregress(x_values, y_values)\n",
    "regress_values = x_values * slope + intercept\n",
    "line_eq = \"y = \" + str(round(slope,2)) + \"x + \" + str(round(intercept,2))\n",
    "plt.figure(figsize=(5,5))\n",
    "plt.scatter(x_values,y_values)\n",
    "plt.plot(x_values,regress_values,\"r-\")\n",
    "plt.annotate(line_eq,(2,180),fontsize=15,color=\"red\")\n",
    "\n",
    "plt.title(\"Crimes by Type in Chicago by Month for 2012\",fontsize=20)\n",
    "plt.xlabel('Month of 2012',fontsize=15)\n",
    "plt.xticks(np.arange(13), ('','Jan', 'Feb', 'Mar', 'Apr','May', 'Jun','Jul','Aug','Sep','Oct','Nov','Dec'))\n",
    "plt.ylabel('# of Crimes Committed',fontsize=15)\n",
    "plt.savefig(\"Resources/cf/chi12_month_scatter.png\")\n",
    "plt.show()\n"
   ]
  },
  {
   "cell_type": "code",
   "execution_count": 303,
   "metadata": {},
   "outputs": [
    {
     "data": {
      "text/plain": [
       "<Figure size 800x1400 with 0 Axes>"
      ]
     },
     "metadata": {},
     "output_type": "display_data"
    },
    {
     "data": {
      "image/png": "[encoded data removed]",
      "text/plain": [
       "<Figure size 360x360 with 1 Axes>"
      ]
     },
     "metadata": {
      "needs_background": "light"
     },
     "output_type": "display_data"
    }
   ],
   "source": [
    "x_values = df_2011['Month']\n",
    "y_values = df_2011['Primary Type']\n",
    "\n",
    "fig = plt.figure(1, figsize=(8, 14), frameon=False, dpi=100)\n",
    "\n",
    "(slope, intercept, rvalue, pvalue, stderr) = linregress(x_values, y_values)\n",
    "regress_values = x_values * slope + intercept\n",
    "line_eq = \"y = \" + str(round(slope,2)) + \"x + \" + str(round(intercept,2))\n",
    "plt.figure(figsize=(5,5))\n",
    "plt.scatter(x_values,y_values)\n",
    "plt.plot(x_values,regress_values,\"r-\")\n",
    "plt.annotate(line_eq,(4,140),fontsize=15,color=\"red\")\n",
    "\n",
    "plt.title(\"Crimes by Type in Chicago by Month for 2011\",fontsize=20)\n",
    "plt.xlabel('Month of 2011',fontsize=15)\n",
    "plt.xticks(np.arange(13), ('','Jan', 'Feb', 'Mar', 'Apr','May', 'Jun','Jul','Aug','Sep','Oct','Nov','Dec'))\n",
    "plt.ylabel('# of Crimes Committed',fontsize=15)\n",
    "plt.savefig(\"Resources/cf/chi11_month_scatter.png\")\n",
    "plt.show()\n"
   ]
  },
  {
   "cell_type": "code",
   "execution_count": 304,
   "metadata": {},
   "outputs": [
    {
     "data": {
      "text/plain": [
       "<Figure size 800x1400 with 0 Axes>"
      ]
     },
     "metadata": {},
     "output_type": "display_data"
    },
    {
     "data": {
      "image/png": "[encoded data removed]",
      "text/plain": [
       "<Figure size 360x360 with 1 Axes>"
      ]
     },
     "metadata": {
      "needs_background": "light"
     },
     "output_type": "display_data"
    }
   ],
   "source": [
    "x_values = df_2010['Month']\n",
    "y_values = df_2010['Primary Type']\n",
    "\n",
    "fig = plt.figure(1, figsize=(8, 14), frameon=False, dpi=100)\n",
    "\n",
    "(slope, intercept, rvalue, pvalue, stderr) = linregress(x_values, y_values)\n",
    "regress_values = x_values * slope + intercept\n",
    "line_eq = \"y = \" + str(round(slope,2)) + \"x + \" + str(round(intercept,2))\n",
    "plt.figure(figsize=(5,5))\n",
    "plt.scatter(x_values,y_values)\n",
    "plt.plot(x_values,regress_values,\"r-\")\n",
    "plt.annotate(line_eq,(3,140),fontsize=15,color=\"red\")\n",
    "\n",
    "plt.title(\"Crimes by Type in Chicago by Month for 2010\",fontsize=20)\n",
    "plt.xlabel('Month of 2010',fontsize=15)\n",
    "plt.xticks(np.arange(13), ('','Jan', 'Feb', 'Mar', 'Apr','May', 'Jun','Jul','Aug','Sep','Oct','Nov','Dec'))\n",
    "plt.ylabel('# of Crimes Committed',fontsize=15)\n",
    "plt.savefig(\"Resources/cf/chi10_month_scatter.png\")\n",
    "plt.show()"
   ]
  },
  {
   "cell_type": "code",
   "execution_count": 305,
   "metadata": {},
   "outputs": [
    {
     "data": {
      "text/plain": [
       "<Figure size 800x1400 with 0 Axes>"
      ]
     },
     "metadata": {},
     "output_type": "display_data"
    },
    {
     "data": {
      "image/png": "[encoded data removed]",
      "text/plain": [
       "<Figure size 360x360 with 1 Axes>"
      ]
     },
     "metadata": {
      "needs_background": "light"
     },
     "output_type": "display_data"
    }
   ],
   "source": [
    "x_values = df_2009['Month']\n",
    "y_values = df_2009['Primary Type']\n",
    "\n",
    "fig = plt.figure(1, figsize=(8, 14), frameon=False, dpi=100)\n",
    "\n",
    "(slope, intercept, rvalue, pvalue, stderr) = linregress(x_values, y_values)\n",
    "regress_values = x_values * slope + intercept\n",
    "line_eq = \"y = \" + str(round(slope,2)) + \"x + \" + str(round(intercept,2))\n",
    "plt.figure(figsize=(5,5))\n",
    "plt.scatter(x_values,y_values)\n",
    "plt.plot(x_values,regress_values,\"r-\")\n",
    "plt.annotate(line_eq,(2,900),fontsize=15,color=\"red\")\n",
    "\n",
    "plt.title(\"Crimes by Type in Chicago by Month for 2009\",fontsize=20)\n",
    "plt.xlabel('Month of 2009',fontsize=15)\n",
    "plt.xticks(np.arange(13), ('','Jan', 'Feb', 'Mar', 'Apr','May', 'Jun','Jul','Aug','Sep','Oct','Nov','Dec'))\n",
    "plt.ylabel('# of Crimes Committed',fontsize=15)\n",
    "plt.savefig(\"Resources/cf/chi09_month_scatter.png\")\n",
    "plt.show()\n"
   ]
  },
  {
   "cell_type": "code",
   "execution_count": 306,
   "metadata": {},
   "outputs": [
    {
     "data": {
      "text/plain": [
       "<Figure size 800x1400 with 0 Axes>"
      ]
     },
     "metadata": {},
     "output_type": "display_data"
    },
    {
     "data": {
      "image/png": "[encoded data removed]",
      "text/plain": [
       "<Figure size 360x360 with 1 Axes>"
      ]
     },
     "metadata": {
      "needs_background": "light"
     },
     "output_type": "display_data"
    }
   ],
   "source": [
    "x_values = df_2008['Month']\n",
    "y_values = df_2008['Primary Type']\n",
    "\n",
    "fig = plt.figure(1, figsize=(8, 14), frameon=False, dpi=100)\n",
    "\n",
    "(slope, intercept, rvalue, pvalue, stderr) = linregress(x_values, y_values)\n",
    "regress_values = x_values * slope + intercept\n",
    "line_eq = \"y = \" + str(round(slope,2)) + \"x + \" + str(round(intercept,2))\n",
    "plt.figure(figsize=(5,5))\n",
    "plt.scatter(x_values,y_values)\n",
    "plt.plot(x_values,regress_values,\"r-\")\n",
    "plt.annotate(line_eq,(2,500),fontsize=15,color=\"red\")\n",
    "\n",
    "plt.title(\"Crimes by Type in Chicago by Month for 2008\",fontsize=20)\n",
    "plt.xlabel('Month of 2008',fontsize=15)\n",
    "plt.xticks(np.arange(13), ('','Jan', 'Feb', 'Mar', 'Apr','May', 'Jun','Jul','Aug','Sep','Oct','Nov','Dec'))\n",
    "plt.ylabel('# of Crimes Committed',fontsize=15)\n",
    "plt.savefig(\"Resources/cf/chi08_month_scatter.png\")\n",
    "plt.show()\n"
   ]
  },
  {
   "cell_type": "code",
   "execution_count": 307,
   "metadata": {},
   "outputs": [
    {
     "data": {
      "text/plain": [
       "<Figure size 800x1400 with 0 Axes>"
      ]
     },
     "metadata": {},
     "output_type": "display_data"
    },
    {
     "data": {
      "image/png": "[encoded data removed]",
      "text/plain": [
       "<Figure size 360x360 with 1 Axes>"
      ]
     },
     "metadata": {
      "needs_background": "light"
     },
     "output_type": "display_data"
    }
   ],
   "source": [
    "x_values = df_2007['Month']\n",
    "y_values = df_2007['Primary Type']\n",
    "\n",
    "fig = plt.figure(1, figsize=(8, 14), frameon=False, dpi=100)\n",
    "\n",
    "(slope, intercept, rvalue, pvalue, stderr) = linregress(x_values, y_values)\n",
    "regress_values = x_values * slope + intercept\n",
    "line_eq = \"y = \" + str(round(slope,2)) + \"x + \" + str(round(intercept,2))\n",
    "plt.figure(figsize=(5,5))\n",
    "plt.scatter(x_values,y_values)\n",
    "plt.plot(x_values,regress_values,\"r-\")\n",
    "plt.annotate(line_eq,(2,260),fontsize=15,color=\"red\")\n",
    "\n",
    "plt.title(\"Crimes by Type in Chicago by Month for 2007\",fontsize=20)\n",
    "plt.xlabel('Month of 2007',fontsize=15)\n",
    "plt.xticks(np.arange(13), ('','Jan', 'Feb', 'Mar', 'Apr','May', 'Jun','Jul','Aug','Sep','Oct','Nov','Dec'))\n",
    "plt.ylabel('# of Crimes Committed',fontsize=15)\n",
    "plt.savefig(\"Resources/cf/chi07_month_scatter.png\")\n",
    "plt.show()\n"
   ]
  },
  {
   "cell_type": "code",
   "execution_count": 308,
   "metadata": {},
   "outputs": [
    {
     "data": {
      "text/plain": [
       "<Figure size 800x1400 with 0 Axes>"
      ]
     },
     "metadata": {},
     "output_type": "display_data"
    },
    {
     "data": {
      "image/png": "[encoded data removed]",
      "text/plain": [
       "<Figure size 360x360 with 1 Axes>"
      ]
     },
     "metadata": {
      "needs_background": "light"
     },
     "output_type": "display_data"
    }
   ],
   "source": [
    "x_values = df_2006['Month']\n",
    "y_values = df_2006['Primary Type']\n",
    "\n",
    "fig = plt.figure(1, figsize=(8, 14), frameon=False, dpi=100)\n",
    "\n",
    "(slope, intercept, rvalue, pvalue, stderr) = linregress(x_values, y_values)\n",
    "regress_values = x_values * slope + intercept\n",
    "line_eq = \"y = \" + str(round(slope,2)) + \"x + \" + str(round(intercept,2))\n",
    "plt.figure(figsize=(5,5))\n",
    "plt.scatter(x_values,y_values)\n",
    "plt.plot(x_values,regress_values,\"r-\")\n",
    "plt.annotate(line_eq,(2,400),fontsize=15,color=\"red\")\n",
    "\n",
    "plt.title(\"Crimes by Type in Chicago by Month for 2006\",fontsize=20)\n",
    "plt.xlabel('Month of 2006',fontsize=15)\n",
    "plt.xticks(np.arange(13), ('','Jan', 'Feb', 'Mar', 'Apr','May', 'Jun','Jul','Aug','Sep','Oct','Nov','Dec'))\n",
    "plt.ylabel('# of Crimes Committed',fontsize=15)\n",
    "plt.savefig(\"Resources/cf/chi06_month_scatter.png\")\n",
    "plt.show()\n"
   ]
  },
  {
   "cell_type": "code",
   "execution_count": 309,
   "metadata": {},
   "outputs": [
    {
     "data": {
      "text/plain": [
       "<Figure size 800x1400 with 0 Axes>"
      ]
     },
     "metadata": {},
     "output_type": "display_data"
    },
    {
     "data": {
      "image/png": "[encoded data removed]",
      "text/plain": [
       "<Figure size 360x360 with 1 Axes>"
      ]
     },
     "metadata": {
      "needs_background": "light"
     },
     "output_type": "display_data"
    }
   ],
   "source": [
    "x_values = df_2005['Month']\n",
    "y_values = df_2005['Primary Type']\n",
    "\n",
    "fig = plt.figure(1, figsize=(8, 14), frameon=False, dpi=100)\n",
    "\n",
    "(slope, intercept, rvalue, pvalue, stderr) = linregress(x_values, y_values)\n",
    "regress_values = x_values * slope + intercept\n",
    "line_eq = \"y = \" + str(round(slope,2)) + \"x + \" + str(round(intercept,2))\n",
    "plt.figure(figsize=(5,5))\n",
    "plt.scatter(x_values,y_values)\n",
    "plt.plot(x_values,regress_values,\"r-\")\n",
    "plt.annotate(line_eq,(2,500),fontsize=15,color=\"red\")\n",
    "\n",
    "plt.title(\"Crimes by Type in Chicago by Month for 2005\",fontsize=20)\n",
    "plt.xlabel('Month of 2005',fontsize=15)\n",
    "plt.xticks(np.arange(13), ('','Jan', 'Feb', 'Mar', 'Apr','May', 'Jun','Jul','Aug','Sep','Oct','Nov','Dec'))\n",
    "plt.ylabel('# of Crimes Committed',fontsize=15)\n",
    "plt.savefig(\"Resources/cf/chi05_month_scatter.png\")\n",
    "plt.show()\n"
   ]
  },
  {
   "cell_type": "code",
   "execution_count": 310,
   "metadata": {},
   "outputs": [
    {
     "data": {
      "text/plain": [
       "<Figure size 800x1400 with 0 Axes>"
      ]
     },
     "metadata": {},
     "output_type": "display_data"
    },
    {
     "data": {
      "image/png": "[encoded data removed]",
      "text/plain": [
       "<Figure size 360x360 with 1 Axes>"
      ]
     },
     "metadata": {
      "needs_background": "light"
     },
     "output_type": "display_data"
    }
   ],
   "source": [
    "x_values = df_2004['Month']\n",
    "y_values = df_2004['Primary Type']\n",
    "\n",
    "fig = plt.figure(1, figsize=(8, 14), frameon=False, dpi=100)\n",
    "\n",
    "(slope, intercept, rvalue, pvalue, stderr) = linregress(x_values, y_values)\n",
    "regress_values = x_values * slope + intercept\n",
    "line_eq = \"y = \" + str(round(slope,2)) + \"x + \" + str(round(intercept,2))\n",
    "plt.figure(figsize=(5,5))\n",
    "plt.scatter(x_values,y_values)\n",
    "plt.plot(x_values,regress_values,\"r-\")\n",
    "plt.annotate(line_eq,(2,350),fontsize=15,color=\"red\")\n",
    "\n",
    "plt.title(\"Crimes by Type in Chicago by Month for 2004\",fontsize=20)\n",
    "plt.xlabel('Month of 2004',fontsize=15)\n",
    "plt.xticks(np.arange(13), ('','Jan', 'Feb', 'Mar', 'Apr','May', 'Jun','Jul','Aug','Sep','Oct','Nov','Dec'))\n",
    "plt.ylabel('# of Crimes Committed',fontsize=15)\n",
    "plt.savefig(\"Resources/cf/chi04_month_scatter.png\")\n",
    "plt.show()\n"
   ]
  },
  {
   "cell_type": "code",
   "execution_count": 311,
   "metadata": {},
   "outputs": [
    {
     "data": {
      "text/plain": [
       "<Figure size 800x1400 with 0 Axes>"
      ]
     },
     "metadata": {},
     "output_type": "display_data"
    },
    {
     "data": {
      "image/png": "[encoded data removed]",
      "text/plain": [
       "<Figure size 360x360 with 1 Axes>"
      ]
     },
     "metadata": {
      "needs_background": "light"
     },
     "output_type": "display_data"
    }
   ],
   "source": [
    "x_values = df_2003['Month']\n",
    "y_values = df_2003['Primary Type']\n",
    "\n",
    "fig = plt.figure(1, figsize=(8, 14), frameon=False, dpi=100)\n",
    "\n",
    "(slope, intercept, rvalue, pvalue, stderr) = linregress(x_values, y_values)\n",
    "regress_values = x_values * slope + intercept\n",
    "line_eq = \"y = \" + str(round(slope,2)) + \"x + \" + str(round(intercept,2))\n",
    "plt.figure(figsize=(5,5))\n",
    "plt.scatter(x_values,y_values)\n",
    "plt.plot(x_values,regress_values,\"r-\")\n",
    "plt.annotate(line_eq,(2,600),fontsize=15,color=\"red\")\n",
    "\n",
    "plt.title(\"Crimes by Type in Chicago by Month for 2003\",fontsize=20)\n",
    "plt.xlabel('Month of 2003',fontsize=15)\n",
    "plt.xticks(np.arange(13), ('','Jan', 'Feb', 'Mar', 'Apr','May', 'Jun','Jul','Aug','Sep','Oct','Nov','Dec'))\n",
    "plt.ylabel('# of Crimes Committed',fontsize=15)\n",
    "plt.savefig(\"Resources/cf/chi03_month_scatter.png\")\n",
    "plt.show()\n"
   ]
  },
  {
   "cell_type": "code",
   "execution_count": 312,
   "metadata": {},
   "outputs": [
    {
     "data": {
      "text/plain": [
       "<Figure size 800x1400 with 0 Axes>"
      ]
     },
     "metadata": {},
     "output_type": "display_data"
    },
    {
     "data": {
      "image/png": "[encoded data removed]",
      "text/plain": [
       "<Figure size 360x360 with 1 Axes>"
      ]
     },
     "metadata": {
      "needs_background": "light"
     },
     "output_type": "display_data"
    }
   ],
   "source": [
    "x_values = df_2002['Month']\n",
    "y_values = df_2002['Primary Type']\n",
    "\n",
    "fig = plt.figure(1, figsize=(8, 14), frameon=False, dpi=100)\n",
    "\n",
    "(slope, intercept, rvalue, pvalue, stderr) = linregress(x_values, y_values)\n",
    "regress_values = x_values * slope + intercept\n",
    "line_eq = \"y = \" + str(round(slope,2)) + \"x + \" + str(round(intercept,2))\n",
    "plt.figure(figsize=(5,5))\n",
    "plt.scatter(x_values,y_values)\n",
    "plt.plot(x_values,regress_values,\"r-\")\n",
    "plt.annotate(line_eq,(2,500),fontsize=15,color=\"red\")\n",
    "\n",
    "plt.title(\"Crimes by Type in Chicago by Month for 2002\",fontsize=20)\n",
    "plt.xlabel('Month of 2002',fontsize=15)\n",
    "plt.xticks(np.arange(13), ('','Jan', 'Feb', 'Mar', 'Apr','May', 'Jun','Jul','Aug','Sep','Oct','Nov','Dec'))\n",
    "plt.ylabel('# of Crimes Committed',fontsize=15)\n",
    "plt.savefig(\"Resources/cf/chi02_month_scatter.png\")\n",
    "plt.show()\n"
   ]
  },
  {
   "cell_type": "code",
   "execution_count": 313,
   "metadata": {},
   "outputs": [
    {
     "data": {
      "text/plain": [
       "<Figure size 800x1400 with 0 Axes>"
      ]
     },
     "metadata": {},
     "output_type": "display_data"
    },
    {
     "data": {
      "image/png": "[encoded data removed]",
      "text/plain": [
       "<Figure size 360x360 with 1 Axes>"
      ]
     },
     "metadata": {
      "needs_background": "light"
     },
     "output_type": "display_data"
    }
   ],
   "source": [
    "x_values = df_2001['Month']\n",
    "y_values = df_2001['Primary Type']\n",
    "\n",
    "fig = plt.figure(1, figsize=(8, 14), frameon=False, dpi=100)\n",
    "\n",
    "(slope, intercept, rvalue, pvalue, stderr) = linregress(x_values, y_values)\n",
    "regress_values = x_values * slope + intercept\n",
    "line_eq = \"y = \" + str(round(slope,2)) + \"x + \" + str(round(intercept,2))\n",
    "plt.figure(figsize=(5,5))\n",
    "plt.scatter(x_values,y_values)\n",
    "plt.plot(x_values,regress_values,\"r-\")\n",
    "plt.annotate(line_eq,(2,320),fontsize=15,color=\"red\")\n",
    "\n",
    "plt.title(\"Crimes by Type in Chicago by Month for 2001\",fontsize=20)\n",
    "plt.xlabel('Month of 2001',fontsize=15)\n",
    "plt.xticks(np.arange(13), ('','Jan', 'Feb', 'Mar', 'Apr','May', 'Jun','Jul','Aug','Sep','Oct','Nov','Dec'))\n",
    "\n",
    "plt.ylabel('# of Crimes Committed',fontsize=15)\n",
    "plt.savefig(\"Resources/cf/chi09_month_scatter.png\")\n",
    "plt.show()\n"
   ]
  },
  {
   "cell_type": "code",
   "execution_count": null,
   "metadata": {},
   "outputs": [],
   "source": [
    "Analysis\n",
    "#Chicago's crime count was very low at the beginning of the decade, but spiked significantly from 2015-2017 as the crime\n",
    " #count increased sharply. During 2018, the numbers plunged back to where they were during the early years of the decade\n",
    " #and then increased sharply during 2019, but substantially lower than the 2015-2017 time period.\n",
    "#Certain programs and initiatives taken by CPD during 2018 may have contributed directly to the sharp decrease in the\n",
    " #crime count during 2018.\n",
    "#Although the number of crimes committed decreased during Q1 2020, the total number of crimes committed for the\n",
    " #first 3 months of 2020 were already over 50,000. This indicated that 2020 could have observed a high number of crimes\n",
    " #similar to the 2015-2017 time period. However, in light of COVID-19 and the shelter-in-place order, the total\n",
    " #numbers for 2020 may end up being much lower. Officials are apprehensive to say that will be the case.\n",
    "#Theft and Assault/Battery are the largest \"crime types\" for the city of Chicago from 2001-Present.\n",
    "#Alchol Law Violation and Public Indecency were the lowest \"crime types\" in Chicago from 2001-Present.\n",
    "#One question we had was whether or not there is a correlation between the unemployment rate and the violent crime rate\n",
    " #in the city of Chicago. Ultimately inconclusive as the crime rate/# of crimes in Chicago fluctuated quite\n",
    " #a bit while the Unemployment Rate steadily decreased over the same time period.\n",
    "#From 2015-2019,there were so many data points for crime in Chicago that the radius of each point on a heat map had\n",
    " #to be smaller than the maps for the other years."
   ]
  },
  {
   "cell_type": "code",
   "execution_count": null,
   "metadata": {},
   "outputs": [],
   "source": []
  }
 ],
 "metadata": {
  "file_extension": ".py",
  "kernelspec": {
   "display_name": "Python 3",
   "language": "python",
   "name": "python3"
  },
  "language_info": {
   "codemirror_mode": {
    "name": "ipython",
    "version": 3
   },
   "file_extension": ".py",
   "mimetype": "text/x-python",
   "name": "python",
   "nbconvert_exporter": "python",
   "pygments_lexer": "ipython3",
   "version": "3.7.4"
  },
  "mimetype": "text/x-python",
  "name": "python",
  "npconvert_exporter": "python",
  "pygments_lexer": "ipython3",
  "version": 3
 },
 "nbformat": 4,
 "nbformat_minor": 2
}
