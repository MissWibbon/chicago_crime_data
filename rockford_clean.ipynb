{
 "nbformat": 4,
 "nbformat_minor": 2,
 "metadata": {
  "language_info": {
   "name": "python",
   "codemirror_mode": {
    "name": "ipython",
    "version": 3
   },
   "version": "3.7.4-final"
  },
  "orig_nbformat": 2,
  "file_extension": ".py",
  "mimetype": "text/x-python",
  "name": "python",
  "npconvert_exporter": "python",
  "pygments_lexer": "ipython3",
  "version": 3,
  "kernelspec": {
   "name": "python3",
   "display_name": "Python 3"
  }
 },
 "cells": [
  {
   "cell_type": "code",
   "execution_count": 1,
   "metadata": {},
   "outputs": [],
   "source": [
    "#Dependincies\n",
    "import pandas as pd \n",
    "import numpy as np \n",
    ""
   ]
  },
  {
   "cell_type": "code",
   "execution_count": 13,
   "metadata": {},
   "outputs": [
    {
     "output_type": "execute_result",
     "data": {
      "text/plain": "<bound method DataFrame.count of                 X          Y  Occurred Date  \\\n0      -89.124354  42.284104       20160125   \n1      -89.070417  42.254735       20160205   \n2      -89.042083  42.238147       20160209   \n3      -89.029085  42.241433       20160210   \n4      -89.029201  42.211097       20160206   \n...           ...        ...            ...   \n194124 -89.135251  42.285498       20200313   \n194125 -89.085125  42.242884       20200316   \n194126 -89.135251  42.285498       20181115   \n194127 -89.049821  42.256450       20181206   \n194128 -89.090000        NaN       20190518   \n\n                                           Description  Year  \n0                             90C - Disorderly Conduct  2016  \n1                             90C - Disorderly Conduct  2016  \n2                                 13B - Simple Assault  2016  \n3       290 - Destruction/Damage/Vandalism of Property  2016  \n4                              23H - All Other Larceny  2016  \n...                                                ...   ...  \n194124                        90C - Disorderly Conduct  2020  \n194125  290 - Destruction/Damage/Vandalism of Property  2020  \n194126                 35B - Drug Equipment Violations  2018  \n194127                  35A - Drug/narcotic Violations  2018  \n194128                            13B - Simple Assault  2019  \n\n[194129 rows x 5 columns]>"
     },
     "metadata": {},
     "execution_count": 13
    }
   ],
   "source": [
    "rockford_data = pd.read_csv('Resources/Rockford-cm_offense_archive - cm_offense_archive.csv ')\n",
    "rockford_clean = rockford_data[['X', 'Y', 'Occurred Date', 'Description']]\n",
    "rockford_clean['Year'] = rockford_data['Occurred Date'].astype(str).str[0:4]\n",
    "rockford_clean['Year'] = pd.to_numeric(rockford_clean['Year'])\n",
    "rockford_clean.dropna()\n",
    "#rockford_clean.to_csv('Resources/Cleaned_Rockford.csv')\n"
   ]
  },
  {
   "cell_type": "code",
   "execution_count": null,
   "metadata": {},
   "outputs": [],
   "source": []
  }
 ]
}