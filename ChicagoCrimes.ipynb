{
 "cells": [
  {
   "cell_type": "code",
   "execution_count": 41,
   "metadata": {},
   "outputs": [
    {
     "output_type": "stream",
     "name": "stdout",
     "text": "Assault:  80\nBattery:  258\nBurglary:  39\nCriminal Damage:  139\nGrand Theft Auto:  52\nRobbery:  47\nTheft:  201\nWeapons Violation:  40\n"
    },
    {
     "output_type": "execute_result",
     "data": {
      "text/plain": "[]"
     },
     "metadata": {},
     "execution_count": 41
    }
   ],
   "source": [
    "# Dependencies and Setup\n",
    "import matplotlib.pyplot as plt\n",
    "import pandas as pd\n",
    "import numpy as np\n",
    "import requests\n",
    "import gmaps\n",
    "import os\n",
    "import json\n",
    "\n",
    "# Google developer API key\n",
    "#from config import gkey\n",
    "\n",
    "# Configure gmaps\n",
    "#gmaps.configure(api_key=gkey)\n",
    "\n",
    "url = \"https://data.cityofchicago.org/resource/ijzp-q8t2.json\"\n",
    "\n",
    "crimes = requests.get(url).json()\n",
    "years = []\n",
    "lat_lngs = []\n",
    "crime_types = []\n",
    "for crime in crimes:\n",
    "    years.append(crime['year'])\n",
    "    crime_types.append(crime['primary_type'])\n",
    "\n",
    "\n",
    "\n",
    "print(\"Assault: \", crime_types.count('ASSAULT'))\n",
    "print(\"Battery: \", crime_types.count('BATTERY'))\n",
    "print(\"Burglary: \", crime_types.count('BURGLARY'))\n",
    "print(\"Criminal Damage: \", crime_types.count('CRIMINAL DAMAGE'))\n",
    "print(\"Grand Theft Auto: \", crime_types.count('MOTOR VEHICLE THEFT'))\n",
    "print(\"Robbery: \", crime_types.count('ROBBERY'))\n",
    "print(\"Theft: \", crime_types.count('THEFT'))\n",
    "print(\"Weapons Violation: \", crime_types.count('WEAPONS VIOLATION'))\n"
   ]
  },
  {
   "cell_type": "code",
   "execution_count": 40,
   "metadata": {},
   "outputs": [
    {
     "output_type": "execute_result",
     "data": {
      "text/plain": "                      Crime  Year\n0           CRIMINAL DAMAGE  2020\n1                     THEFT  2020\n2                   ROBBERY  2020\n3    PUBLIC PEACE VIOLATION  2020\n4                   ASSAULT  2020\n..                      ...   ...\n995      DECEPTIVE PRACTICE  2020\n996         CRIMINAL DAMAGE  2020\n997      DECEPTIVE PRACTICE  2020\n998                 ASSAULT  2020\n999         CRIMINAL DAMAGE  2020\n\n[1000 rows x 2 columns]",
      "text/html": "<div>\n<style scoped>\n    .dataframe tbody tr th:only-of-type {\n        vertical-align: middle;\n    }\n\n    .dataframe tbody tr th {\n        vertical-align: top;\n    }\n\n    .dataframe thead th {\n        text-align: right;\n    }\n</style>\n<table border=\"1\" class=\"dataframe\">\n  <thead>\n    <tr style=\"text-align: right;\">\n      <th></th>\n      <th>Crime</th>\n      <th>Year</th>\n    </tr>\n  </thead>\n  <tbody>\n    <tr>\n      <th>0</th>\n      <td>CRIMINAL DAMAGE</td>\n      <td>2020</td>\n    </tr>\n    <tr>\n      <th>1</th>\n      <td>THEFT</td>\n      <td>2020</td>\n    </tr>\n    <tr>\n      <th>2</th>\n      <td>ROBBERY</td>\n      <td>2020</td>\n    </tr>\n    <tr>\n      <th>3</th>\n      <td>PUBLIC PEACE VIOLATION</td>\n      <td>2020</td>\n    </tr>\n    <tr>\n      <th>4</th>\n      <td>ASSAULT</td>\n      <td>2020</td>\n    </tr>\n    <tr>\n      <th>...</th>\n      <td>...</td>\n      <td>...</td>\n    </tr>\n    <tr>\n      <th>995</th>\n      <td>DECEPTIVE PRACTICE</td>\n      <td>2020</td>\n    </tr>\n    <tr>\n      <th>996</th>\n      <td>CRIMINAL DAMAGE</td>\n      <td>2020</td>\n    </tr>\n    <tr>\n      <th>997</th>\n      <td>DECEPTIVE PRACTICE</td>\n      <td>2020</td>\n    </tr>\n    <tr>\n      <th>998</th>\n      <td>ASSAULT</td>\n      <td>2020</td>\n    </tr>\n    <tr>\n      <th>999</th>\n      <td>CRIMINAL DAMAGE</td>\n      <td>2020</td>\n    </tr>\n  </tbody>\n</table>\n<p>1000 rows × 2 columns</p>\n</div>"
     },
     "metadata": {},
     "execution_count": 40
    }
   ],
   "source": [
    "chicago_crime = pd.DataFrame({\n",
    "    'Crime': crime_types,\n",
    "    'Year': years\n",
    "})\n",
    "chicago_crime"
   ]
  },
  {
   "cell_type": "code",
   "execution_count": null,
   "metadata": {},
   "outputs": [],
   "source": []
  }
 ],
 "metadata": {
  "kernelspec": {
   "display_name": "Python 3.8.0 32-bit",
   "language": "python",
   "name": "python38032bit965647543a2f40fcb723ff0cb3e8a358"
  },
  "language_info": {
   "codemirror_mode": {
    "name": "ipython",
    "version": 3
   },
   "file_extension": ".py",
   "mimetype": "text/x-python",
   "name": "python",
   "nbconvert_exporter": "python",
   "pygments_lexer": "ipython3",
   "version": "3.8.0-final"
  },
  "latex_envs": {
   "LaTeX_envs_menu_present": true,
   "autoclose": false,
   "autocomplete": true,
   "bibliofile": "biblio.bib",
   "cite_by": "apalike",
   "current_citInitial": 1,
   "eqLabelWithNumbers": true,
   "eqNumInitial": 1,
   "hotkeys": {
    "equation": "Ctrl-E",
    "itemize": "Ctrl-I"
   },
   "labels_anchors": false,
   "latex_user_defs": false,
   "report_style_numbering": false,
   "user_envs_cfg": false
  }
 },
 "nbformat": 4,
 "nbformat_minor": 2
}