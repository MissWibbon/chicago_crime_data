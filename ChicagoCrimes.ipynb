{
 "cells": [
  {
   "cell_type": "code",
   "execution_count": 65,
   "metadata": {},
   "outputs": [],
   "source": [
    "# Dependencies and Setup\n",
    "import matplotlib.pyplot as plt\n",
    "import pandas as pd\n",
    "import numpy as np\n",
    "import requests\n",
    "import gmaps\n",
    "import os\n",
    "import json\n",
    "\n",
    "# Google developer API key\n",
    "#from config import gkey\n",
    "\n",
    "# Configure gmaps\n",
    "#gmaps.configure(api_key=gkey)\n",
    "\n",
    "url = \"https://data.cityofchicago.org/resource/ijzp-q8t2.json\"\n",
    "\n",
    "crimes = requests.get(url).json()\n",
    ""
   ]
  },
  {
   "cell_type": "code",
   "execution_count": 77,
   "metadata": {},
   "outputs": [],
   "source": [
    "years = []\n",
    "lat = []\n",
    "lon = []\n",
    "crime_types = []\n",
    "date = []\n",
    "for crime in crimes:\n",
    "    years.append(crime['year'])\n",
    "    crime_types.append(crime['primary_type'])\n",
    "    date.append(crime['date'])\n",
    "    try:\n",
    "        lat.append(crime['latitude'])\n",
    "        lon.append(crime['longitude'])\n",
    "    except KeyError:\n",
    "        lat.append(np.nan)\n",
    "        lon.append(np.nan)\n",
    ""
   ]
  },
  {
   "cell_type": "code",
   "execution_count": 82,
   "metadata": {},
   "outputs": [
    {
     "output_type": "execute_result",
     "data": {
      "text/plain": "Crime         object\nDate          object\nLatitude     float64\nLongitude    float64\ndtype: object"
     },
     "metadata": {},
     "execution_count": 82
    }
   ],
   "source": [
    "chicago_crime_2020 = pd.DataFrame({\n",
    "    \"Crime\": crime_types,\n",
    "    \"Date\": date,\n",
    "    \"Latitude\": lat,\n",
    "    \"Longitude\": lon\n",
    "})\n",
    "chicago_crime_2020['Latitude'] = pd.to_numeric(chicago_crime_2020['Latitude'], errors='coerce')\n",
    "chicago_crime_2020['Longitude'] = pd.to_numeric(chicago_crime_2020['Longitude'], errors='coerce')\n",
    "chicago_crime_2020.dtypes"
   ]
  },
  {
   "cell_type": "code",
   "execution_count": 83,
   "metadata": {},
   "outputs": [
    {
     "output_type": "execute_result",
     "data": {
      "text/plain": "                      Crime                     Date   Latitude  Longitude\n0           CRIMINAL DAMAGE  2020-04-03T23:58:00.000  41.963521 -87.708320\n1                     THEFT  2020-04-03T23:55:00.000  41.764682 -87.663786\n2                   ROBBERY  2020-04-03T23:55:00.000  41.926879 -87.650767\n3    PUBLIC PEACE VIOLATION  2020-04-03T23:54:00.000  41.778034 -87.762599\n4                   ASSAULT  2020-04-03T23:53:00.000  41.888093 -87.755348\n..                      ...                      ...        ...        ...\n995      DECEPTIVE PRACTICE  2020-04-01T14:21:00.000  41.961108 -87.714723\n996         CRIMINAL DAMAGE  2020-04-01T14:15:00.000  41.882114 -87.632361\n997      DECEPTIVE PRACTICE  2020-04-01T14:13:00.000  41.962222 -87.655442\n998                 ASSAULT  2020-04-01T14:12:00.000  41.744931 -87.616376\n999         CRIMINAL DAMAGE  2020-04-01T14:11:00.000  41.883574 -87.709948\n\n[1000 rows x 4 columns]",
      "text/html": "<div>\n<style scoped>\n    .dataframe tbody tr th:only-of-type {\n        vertical-align: middle;\n    }\n\n    .dataframe tbody tr th {\n        vertical-align: top;\n    }\n\n    .dataframe thead th {\n        text-align: right;\n    }\n</style>\n<table border=\"1\" class=\"dataframe\">\n  <thead>\n    <tr style=\"text-align: right;\">\n      <th></th>\n      <th>Crime</th>\n      <th>Date</th>\n      <th>Latitude</th>\n      <th>Longitude</th>\n    </tr>\n  </thead>\n  <tbody>\n    <tr>\n      <th>0</th>\n      <td>CRIMINAL DAMAGE</td>\n      <td>2020-04-03T23:58:00.000</td>\n      <td>41.963521</td>\n      <td>-87.708320</td>\n    </tr>\n    <tr>\n      <th>1</th>\n      <td>THEFT</td>\n      <td>2020-04-03T23:55:00.000</td>\n      <td>41.764682</td>\n      <td>-87.663786</td>\n    </tr>\n    <tr>\n      <th>2</th>\n      <td>ROBBERY</td>\n      <td>2020-04-03T23:55:00.000</td>\n      <td>41.926879</td>\n      <td>-87.650767</td>\n    </tr>\n    <tr>\n      <th>3</th>\n      <td>PUBLIC PEACE VIOLATION</td>\n      <td>2020-04-03T23:54:00.000</td>\n      <td>41.778034</td>\n      <td>-87.762599</td>\n    </tr>\n    <tr>\n      <th>4</th>\n      <td>ASSAULT</td>\n      <td>2020-04-03T23:53:00.000</td>\n      <td>41.888093</td>\n      <td>-87.755348</td>\n    </tr>\n    <tr>\n      <th>...</th>\n      <td>...</td>\n      <td>...</td>\n      <td>...</td>\n      <td>...</td>\n    </tr>\n    <tr>\n      <th>995</th>\n      <td>DECEPTIVE PRACTICE</td>\n      <td>2020-04-01T14:21:00.000</td>\n      <td>41.961108</td>\n      <td>-87.714723</td>\n    </tr>\n    <tr>\n      <th>996</th>\n      <td>CRIMINAL DAMAGE</td>\n      <td>2020-04-01T14:15:00.000</td>\n      <td>41.882114</td>\n      <td>-87.632361</td>\n    </tr>\n    <tr>\n      <th>997</th>\n      <td>DECEPTIVE PRACTICE</td>\n      <td>2020-04-01T14:13:00.000</td>\n      <td>41.962222</td>\n      <td>-87.655442</td>\n    </tr>\n    <tr>\n      <th>998</th>\n      <td>ASSAULT</td>\n      <td>2020-04-01T14:12:00.000</td>\n      <td>41.744931</td>\n      <td>-87.616376</td>\n    </tr>\n    <tr>\n      <th>999</th>\n      <td>CRIMINAL DAMAGE</td>\n      <td>2020-04-01T14:11:00.000</td>\n      <td>41.883574</td>\n      <td>-87.709948</td>\n    </tr>\n  </tbody>\n</table>\n<p>1000 rows × 4 columns</p>\n</div>"
     },
     "metadata": {},
     "execution_count": 83
    }
   ],
   "source": [
    "chicago_crime_2020"
   ]
  },
  {
   "cell_type": "code",
   "execution_count": null,
   "metadata": {},
   "outputs": [],
   "source": [
    "#Count crime types\n",
    "chicago_crime_type_df = pd.DataFrame({\n",
    "    'Crime Types': {\n",
    "        'Assault': crime_types.count('ASSAULT'),\n",
    "        'Battery': crime_types.count('BATTERY'),\n",
    "        'Burglary': crime_types.count('BURGLARY'),\n",
    "        'Criminal Damage': crime_types.count('CRIMINAL DAMAGE'),\n",
    "        'Grand Theft Auto': crime_types.count('MOTOR VEHICLE THEFT'),\n",
    "        'Robbery': crime_types.count('ROBBERY'),\n",
    "        'Theft': crime_types.count('THEFT'),\n",
    "        'Weapons Violation': crime_types.count('WEAPONS VIOLATION')\n",
    "    }\n",
    "})\n",
    "\n",
    "chicago_crime_types = chicago_crime_type_df['Crime Types']\n",
    "chicago_crime_types"
   ]
  }
 ],
 "metadata": {
  "kernelspec": {
   "display_name": "Python 3.8.0 32-bit",
   "language": "python",
   "name": "python38032bit965647543a2f40fcb723ff0cb3e8a358"
  },
  "language_info": {
   "codemirror_mode": {
    "name": "ipython",
    "version": 3
   },
   "file_extension": ".py",
   "mimetype": "text/x-python",
   "name": "python",
   "nbconvert_exporter": "python",
   "pygments_lexer": "ipython3",
   "version": "3.8.0-final"
  },
  "latex_envs": {
   "LaTeX_envs_menu_present": true,
   "autoclose": false,
   "autocomplete": true,
   "bibliofile": "biblio.bib",
   "cite_by": "apalike",
   "current_citInitial": 1,
   "eqLabelWithNumbers": true,
   "eqNumInitial": 1,
   "hotkeys": {
    "equation": "Ctrl-E",
    "itemize": "Ctrl-I"
   },
   "labels_anchors": false,
   "latex_user_defs": false,
   "report_style_numbering": false,
   "user_envs_cfg": false
  }
 },
 "nbformat": 4,
 "nbformat_minor": 2
}