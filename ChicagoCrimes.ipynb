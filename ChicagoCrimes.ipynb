{
 "cells": [
  {
   "cell_type": "code",
   "execution_count": 65,
   "metadata": {},
   "outputs": [],
   "source": [
    "# Dependencies and Setup\n",
    "import matplotlib.pyplot as plt\n",
    "import pandas as pd\n",
    "import numpy as np\n",
    "import requests\n",
    "import gmaps\n",
    "import os\n",
    "import json\n",
    "\n",
    "# Google developer API key\n",
    "#from config import gkey\n",
    "\n",
    "# Configure gmaps\n",
    "#gmaps.configure(api_key=gkey)\n",
    "\n",
    "url = \"https://data.cityofchicago.org/resource/ijzp-q8t2.json\"\n",
    "\n",
    "crimes = requests.get(url).json()\n",
    ""
   ]
  },
  {
   "cell_type": "code",
   "execution_count": 77,
   "metadata": {},
   "outputs": [],
   "source": [
    "years = []\n",
    "lat = []\n",
    "lon = []\n",
    "crime_types = []\n",
    "date = []\n",
    "for crime in crimes:\n",
    "    years.append(crime['year'])\n",
    "    crime_types.append(crime['primary_type'])\n",
    "    date.append(crime['date'])\n",
    "    try:\n",
    "        lat.append(crime['latitude'])\n",
    "        lon.append(crime['longitude'])\n",
    "    except KeyError:\n",
    "        lat.append(np.nan)\n",
    "        lon.append(np.nan)\n",
    ""
   ]
  },
  {
   "cell_type": "code",
   "execution_count": 82,
   "metadata": {},
   "outputs": [
    {
     "output_type": "execute_result",
     "data": {
      "text/plain": "Crime         object\nDate          object\nLatitude     float64\nLongitude    float64\ndtype: object"
     },
     "metadata": {},
     "execution_count": 82
    }
   ],
   "source": [
    "chicago_crime_2020 = pd.DataFrame({\n",
    "    \"Crime\": crime_types,\n",
    "    \"Date\": date,\n",
    "    \"Latitude\": lat,\n",
    "    \"Longitude\": lon\n",
    "})\n",
    "chicago_crime_2020['Latitude'] = pd.to_numeric(chicago_crime_2020['Latitude'], errors='coerce')\n",
    "chicago_crime_2020['Longitude'] = pd.to_numeric(chicago_crime_2020['Longitude'], errors='coerce')\n",
    "chicago_crime_2020.dtypes"
   ]
  },
  {
   "cell_type": "code",
   "execution_count": 88,
   "metadata": {},
   "outputs": [],
   "source": [
    "chicago_crime_2020\n",
    "chicago_crime_2020.to_csv('./Resources/chi2020crime.csv')"
   ]
  },
  {
   "cell_type": "code",
   "execution_count": 101,
   "metadata": {},
   "outputs": [
    {
     "output_type": "execute_result",
     "data": {
      "text/plain": "Arson                                 3\nAssault                              80\nBattery                             258\nBurglary                             39\nCriminal Damage                     139\nDeceptive Practic                    36\nGrand Theft Auto                     52\nHomicide                              4\nInterference with Public Officer      2\nNarcotics                             5\nOffense Involving Children            9\nOther Offense                        54\nPublic Peace Violation                4\nRobbery                              47\nSex Offense                           7\nSexual Assault                        5\nTheft                               201\nTrespass                             15\nWeapons Violation                    40\nName: Crime Types, dtype: int64"
     },
     "metadata": {},
     "execution_count": 101
    }
   ],
   "source": [
    "#Count crime types\n",
    "chicago_crime_type_df = pd.DataFrame({\n",
    "    'Crime Types': {\n",
    "        'Arson': crime_types.count('ARSON'),\n",
    "        'Assault': crime_types.count('ASSAULT'),\n",
    "        'Battery': crime_types.count('BATTERY'),\n",
    "        'Burglary': crime_types.count('BURGLARY'),\n",
    "        'Criminal Damage': crime_types.count('CRIMINAL DAMAGE'),\n",
    "        'Deceptive Practic': crime_types.count('DECEPTIVE PRACTICE'),\n",
    "        'Grand Theft Auto': crime_types.count('MOTOR VEHICLE THEFT'),\n",
    "        'Homicide': crime_types.count('HOMICIDE'),\n",
    "        'Interference with Public Officer': crime_types.count('INTERFERENCE WITH PUBLIC OFFICER'),\n",
    "        'Narcotics': crime_types.count('NARCOTICS'),\n",
    "        'Offense Involving Children': crime_types.count('OFFENSE INVOLVING CHILDREN'),\n",
    "        'Other Offense': crime_types.count('OTHER OFFENSE'),\n",
    "        'Public Peace Violation': crime_types.count('PUBLIC PEACE VIOLATION'),\n",
    "        'Robbery': crime_types.count('ROBBERY'),\n",
    "        'Sexual Assault': crime_types.count('CRIMINAL SEXUAL ASSAULT'),\n",
    "        'Sex Offense': crime_types.count('SEX OFFENSE'),\n",
    "        'Theft': crime_types.count('THEFT'),\n",
    "        'Trespass': crime_types.count('CRIMINAL TRESPASS'),\n",
    "        'Weapons Violation': crime_types.count('WEAPONS VIOLATION')\n",
    "    }\n",
    "})\n",
    "\n",
    "chicago_crime_types = chicago_crime_type_df['Crime Types']\n",
    "chicago_crime_types"
   ]
  },
  {
   "cell_type": "code",
   "execution_count": null,
   "metadata": {},
   "outputs": [],
   "source": []
  }
 ],
 "metadata": {
  "kernelspec": {
   "display_name": "Python 3.8.0 32-bit",
   "language": "python",
   "name": "python38032bit965647543a2f40fcb723ff0cb3e8a358"
  },
  "language_info": {
   "codemirror_mode": {
    "name": "ipython",
    "version": 3
   },
   "file_extension": ".py",
   "mimetype": "text/x-python",
   "name": "python",
   "nbconvert_exporter": "python",
   "pygments_lexer": "ipython3",
   "version": "3.8.0-final"
  },
  "latex_envs": {
   "LaTeX_envs_menu_present": true,
   "autoclose": false,
   "autocomplete": true,
   "bibliofile": "biblio.bib",
   "cite_by": "apalike",
   "current_citInitial": 1,
   "eqLabelWithNumbers": true,
   "eqNumInitial": 1,
   "hotkeys": {
    "equation": "Ctrl-E",
    "itemize": "Ctrl-I"
   },
   "labels_anchors": false,
   "latex_user_defs": false,
   "report_style_numbering": false,
   "user_envs_cfg": false
  }
 },
 "nbformat": 4,
 "nbformat_minor": 2
}