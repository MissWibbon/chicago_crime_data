{
 "cells": [
  {
   "cell_type": "code",
   "execution_count": 25,
   "metadata": {},
   "outputs": [
    {
     "output_type": "stream",
     "name": "stdout",
     "text": "1000\nAssault:  96\nBattery:  235\nBurglary:  43\nCriminal Damage:  125\nGrand Theft Auto:  55\nRobbery:  52\nTheft:  212\nWeapons Violation:  28\n"
    }
   ],
   "source": [
    "# Dependencies and Setup\n",
    "import matplotlib.pyplot as plt\n",
    "import pandas as pd\n",
    "import numpy as np\n",
    "import requests\n",
    "import gmaps\n",
    "import os\n",
    "import json\n",
    "\n",
    "# Google developer API key\n",
    "#from config import gkey\n",
    "\n",
    "# Configure gmaps\n",
    "#gmaps.configure(api_key=gkey)\n",
    "\n",
    "url = \"https://data.cityofchicago.org/resource/ijzp-q8t2.json\"\n",
    "\n",
    "crimes = requests.get(url).json()\n",
    "years = []\n",
    "crime_types = []\n",
    "for crime in crimes:\n",
    "    years.append(crime['year'])\n",
    "    crime_types.append(crime['primary_type'])\n",
    "\n",
    "print(years.count(\"2020\"))\n",
    "print(\"Assault: \", crime_types.count('ASSAULT'))\n",
    "print(\"Battery: \", crime_types.count('BATTERY'))\n",
    "print(\"Burglary: \", crime_types.count('BURGLARY'))\n",
    "print(\"Criminal Damage: \", crime_types.count('CRIMINAL DAMAGE'))\n",
    "print(\"Grand Theft Auto: \", crime_types.count('MOTOR VEHICLE THEFT'))\n",
    "print(\"Robbery: \", crime_types.count('ROBBERY'))\n",
    "print(\"Theft: \", crime_types.count('THEFT'))\n",
    "print(\"Weapons Violation: \", crime_types.count('WEAPONS VIOLATION'))"
   ]
  },
  {
   "cell_type": "code",
   "execution_count": null,
   "metadata": {},
   "outputs": [],
   "source": []
  }
 ],
 "metadata": {
  "kernelspec": {
   "display_name": "Python 3.8.0 32-bit",
   "language": "python",
   "name": "python38032bit965647543a2f40fcb723ff0cb3e8a358"
  },
  "language_info": {
   "codemirror_mode": {
    "name": "ipython",
    "version": 3
   },
   "file_extension": ".py",
   "mimetype": "text/x-python",
   "name": "python",
   "nbconvert_exporter": "python",
   "pygments_lexer": "ipython3",
   "version": "3.8.0-final"
  },
  "latex_envs": {
   "LaTeX_envs_menu_present": true,
   "autoclose": false,
   "autocomplete": true,
   "bibliofile": "biblio.bib",
   "cite_by": "apalike",
   "current_citInitial": 1,
   "eqLabelWithNumbers": true,
   "eqNumInitial": 1,
   "hotkeys": {
    "equation": "Ctrl-E",
    "itemize": "Ctrl-I"
   },
   "labels_anchors": false,
   "latex_user_defs": false,
   "report_style_numbering": false,
   "user_envs_cfg": false
  }
 },
 "nbformat": 4,
 "nbformat_minor": 2
}