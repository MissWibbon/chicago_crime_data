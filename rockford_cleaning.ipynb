# Dependincies 
import pandas as pd
import numpy as np
import os


# Import Dataset

df = pd.read_csv("../Resources/Rockford-cm_offense_archive - cm_offense_archive.csv") 
print (df.head())




